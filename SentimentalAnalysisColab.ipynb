{
 "nbformat": 4,
 "nbformat_minor": 0,
 "metadata": {
  "kernelspec": {
   "language": "python",
   "display_name": "Python 3",
   "name": "python3"
  },
  "language_info": {
   "pygments_lexer": "ipython3",
   "nbconvert_exporter": "python",
   "version": "3.6.4",
   "file_extension": ".py",
   "codemirror_mode": {
    "name": "ipython",
    "version": 3
   },
   "name": "python",
   "mimetype": "text/x-python"
  },
  "colab": {
   "name": "SentimentalAnalysisColab.ipynb",
   "provenance": [],
   "machine_shape": "hm"
  },
  "accelerator": "GPU"
 },
 "cells": [
  {
   "cell_type": "code",
   "metadata": {
    "_uuid": "8f2839f25d086af736a60e9eeb907d3b93b6e0e5",
    "_cell_guid": "b1076dfc-b9ad-4769-8c92-a6c4dae69d19",
    "trusted": true,
    "id": "g2A9FFC2OkEw"
   },
   "source": [
    "import numpy as np # linear algebra\n",
    "import pandas as pd # data processing, CSV file I/O (e.g. pd.read_csv)\n",
    "\n",
    "# Input data files are available in the \"../input/\" directory.\n",
    "# For example, running this (by clicking run or pressing Shift+Enter) will list the files in the input directory\n",
    "import bz2\n",
    "import os\n",
    "\n",
    "# Any results you write to the current directory are saved as output."
   ],
   "execution_count": 1,
   "outputs": []
  },
  {
   "cell_type": "code",
   "metadata": {
    "colab": {
     "base_uri": "https://localhost:8080/"
    },
    "id": "StR_pY4zO9LZ",
    "outputId": "b507bf16-3f31-4ca0-e864-e80796587e1e"
   },
   "source": [
    "from google.colab import drive\n",
    "drive.mount('/content/drive')"
   ],
   "execution_count": 2,
   "outputs": [
    {
     "output_type": "stream",
     "text": [
      "Mounted at /content/drive\n"
     ],
     "name": "stdout"
    }
   ]
  },
  {
   "cell_type": "markdown",
   "metadata": {
    "_uuid": "4b89cb64132fc2b47682356ed9d15f27b8c2df44",
    "id": "X7QAxCoxOkEy"
   },
   "source": [
    "#File Reading"
   ]
  },
  {
   "cell_type": "code",
   "metadata": {
    "_cell_guid": "79c7e3d0-c299-4dcb-8224-4455121ee9b0",
    "_uuid": "d629ff2d2480ee46fbb7e2d37f6b5fab8052498a",
    "trusted": true,
    "scrolled": true,
    "id": "vMyGEVbyOkEz"
   },
   "source": [
    "trainfile = bz2.BZ2File('/content/drive/MyDrive/DLA/train.ft.txt.bz2','r')\n",
    "lines = trainfile.readlines()"
   ],
   "execution_count": 3,
   "outputs": []
  },
  {
   "cell_type": "code",
   "metadata": {
    "trusted": true,
    "_uuid": "aef8e9f6e6b1d0b2ff0380b4edbd9fae3b9e3907",
    "colab": {
     "base_uri": "https://localhost:8080/"
    },
    "id": "iDz4odmfOkEz",
    "outputId": "aae56aac-fcda-4c65-a6ae-01288c28d2bc"
   },
   "source": [
    "lines[1]"
   ],
   "execution_count": 4,
   "outputs": [
    {
     "output_type": "execute_result",
     "data": {
      "text/plain": [
       "b\"__label__2 The best soundtrack ever to anything.: I'm reading a lot of reviews saying that this is the best 'game soundtrack' and I figured that I'd write a review to disagree a bit. This in my opinino is Yasunori Mitsuda's ultimate masterpiece. The music is timeless and I'm been listening to it for years now and its beauty simply refuses to fade.The price tag on this is pretty staggering I must say, but if you are going to buy any cd for this much money, this is the only one that I feel would be worth every penny.\\n\""
      ]
     },
     "metadata": {
      "tags": []
     },
     "execution_count": 4
    }
   ]
  },
  {
   "cell_type": "code",
   "metadata": {
    "trusted": true,
    "_uuid": "536b5016a2e3d474f92fe48af49952e9b034ad1a",
    "id": "B3hCmoQjOkEz"
   },
   "source": [
    "docSentimentList=[]\n",
    "def getDocumentSentimentList(docs,splitStr='__label__'):\n",
    "    for i in range(len(docs)):\n",
    "        #print('Processing doc ',i,' of ',len(docs))\n",
    "        text=str(lines[i])\n",
    "        #print(text)\n",
    "        splitText=text.split(splitStr)\n",
    "        secHalf=splitText[1]\n",
    "        text=secHalf[2:len(secHalf)-1]\n",
    "        sentiment=secHalf[0]\n",
    "        #print('First half:',secHalf[0],'\\nsecond half:',secHalf[2:len(secHalf)-1])\n",
    "        docSentimentList.append([text,sentiment])\n",
    "    print('Done!!')\n",
    "    return docSentimentList"
   ],
   "execution_count": 5,
   "outputs": []
  },
  {
   "cell_type": "code",
   "metadata": {
    "trusted": true,
    "_uuid": "f07dcb0532f6db6ebc2c49128dfe46be36516d48",
    "colab": {
     "base_uri": "https://localhost:8080/"
    },
    "id": "8FNgTkz2OkE0",
    "outputId": "9e511d8d-29df-4b18-8ed0-7f9cf1d88d41"
   },
   "source": [
    "docSentimentList=getDocumentSentimentList(lines[:1000000],splitStr='__label__')"
   ],
   "execution_count": 6,
   "outputs": [
    {
     "output_type": "stream",
     "text": [
      "Done!!\n"
     ],
     "name": "stdout"
    }
   ]
  },
  {
   "cell_type": "code",
   "metadata": {
    "trusted": true,
    "scrolled": true,
    "_uuid": "92c80448167b15cd6dcfa3c31186f579f4e3713d",
    "colab": {
     "base_uri": "https://localhost:8080/",
     "height": 0
    },
    "id": "0yeQnAtNOkE0",
    "outputId": "e1b8c3da-9bdc-4e3e-91e2-0251c28121fb"
   },
   "source": [
    "train_df = pd.DataFrame(docSentimentList,columns=['Text','Sentiment'])\n",
    "train_df.head()"
   ],
   "execution_count": 7,
   "outputs": [
    {
     "output_type": "execute_result",
     "data": {
      "text/html": [
       "<div>\n",
       "<style scoped>\n",
       "    .dataframe tbody tr th:only-of-type {\n",
       "        vertical-align: middle;\n",
       "    }\n",
       "\n",
       "    .dataframe tbody tr th {\n",
       "        vertical-align: top;\n",
       "    }\n",
       "\n",
       "    .dataframe thead th {\n",
       "        text-align: right;\n",
       "    }\n",
       "</style>\n",
       "<table border=\"1\" class=\"dataframe\">\n",
       "  <thead>\n",
       "    <tr style=\"text-align: right;\">\n",
       "      <th></th>\n",
       "      <th>Text</th>\n",
       "      <th>Sentiment</th>\n",
       "    </tr>\n",
       "  </thead>\n",
       "  <tbody>\n",
       "    <tr>\n",
       "      <th>0</th>\n",
       "      <td>Stuning even for the non-gamer: This sound tra...</td>\n",
       "      <td>2</td>\n",
       "    </tr>\n",
       "    <tr>\n",
       "      <th>1</th>\n",
       "      <td>The best soundtrack ever to anything.: I'm rea...</td>\n",
       "      <td>2</td>\n",
       "    </tr>\n",
       "    <tr>\n",
       "      <th>2</th>\n",
       "      <td>Amazing!: This soundtrack is my favorite music...</td>\n",
       "      <td>2</td>\n",
       "    </tr>\n",
       "    <tr>\n",
       "      <th>3</th>\n",
       "      <td>Excellent Soundtrack: I truly like this soundt...</td>\n",
       "      <td>2</td>\n",
       "    </tr>\n",
       "    <tr>\n",
       "      <th>4</th>\n",
       "      <td>Remember, Pull Your Jaw Off The Floor After He...</td>\n",
       "      <td>2</td>\n",
       "    </tr>\n",
       "  </tbody>\n",
       "</table>\n",
       "</div>"
      ],
      "text/plain": [
       "                                                Text Sentiment\n",
       "0  Stuning even for the non-gamer: This sound tra...         2\n",
       "1  The best soundtrack ever to anything.: I'm rea...         2\n",
       "2  Amazing!: This soundtrack is my favorite music...         2\n",
       "3  Excellent Soundtrack: I truly like this soundt...         2\n",
       "4  Remember, Pull Your Jaw Off The Floor After He...         2"
      ]
     },
     "metadata": {
      "tags": []
     },
     "execution_count": 7
    }
   ]
  },
  {
   "cell_type": "code",
   "metadata": {
    "trusted": true,
    "_uuid": "683233fec1269e400e41500874adcbffb332345c",
    "id": "BvLxcfg6OkE1"
   },
   "source": [
    "train_df['Sentiment'][train_df['Sentiment']=='1'] = 0\n",
    "train_df['Sentiment'][train_df['Sentiment']=='2'] = 1"
   ],
   "execution_count": 8,
   "outputs": []
  },
  {
   "cell_type": "code",
   "metadata": {
    "colab": {
     "base_uri": "https://localhost:8080/",
     "height": 0
    },
    "id": "zeiA_YDAJcdb",
    "outputId": "7cec22f2-7851-48ab-ef9b-b270f4f2f729"
   },
   "source": [
    "train_df['word_count'] = train_df['Text'].str.lower().str.split().apply(len)\n",
    "train_df.head()"
   ],
   "execution_count": 9,
   "outputs": [
    {
     "output_type": "execute_result",
     "data": {
      "text/html": [
       "<div>\n",
       "<style scoped>\n",
       "    .dataframe tbody tr th:only-of-type {\n",
       "        vertical-align: middle;\n",
       "    }\n",
       "\n",
       "    .dataframe tbody tr th {\n",
       "        vertical-align: top;\n",
       "    }\n",
       "\n",
       "    .dataframe thead th {\n",
       "        text-align: right;\n",
       "    }\n",
       "</style>\n",
       "<table border=\"1\" class=\"dataframe\">\n",
       "  <thead>\n",
       "    <tr style=\"text-align: right;\">\n",
       "      <th></th>\n",
       "      <th>Text</th>\n",
       "      <th>Sentiment</th>\n",
       "      <th>word_count</th>\n",
       "    </tr>\n",
       "  </thead>\n",
       "  <tbody>\n",
       "    <tr>\n",
       "      <th>0</th>\n",
       "      <td>Stuning even for the non-gamer: This sound tra...</td>\n",
       "      <td>1</td>\n",
       "      <td>80</td>\n",
       "    </tr>\n",
       "    <tr>\n",
       "      <th>1</th>\n",
       "      <td>The best soundtrack ever to anything.: I'm rea...</td>\n",
       "      <td>1</td>\n",
       "      <td>97</td>\n",
       "    </tr>\n",
       "    <tr>\n",
       "      <th>2</th>\n",
       "      <td>Amazing!: This soundtrack is my favorite music...</td>\n",
       "      <td>1</td>\n",
       "      <td>129</td>\n",
       "    </tr>\n",
       "    <tr>\n",
       "      <th>3</th>\n",
       "      <td>Excellent Soundtrack: I truly like this soundt...</td>\n",
       "      <td>1</td>\n",
       "      <td>118</td>\n",
       "    </tr>\n",
       "    <tr>\n",
       "      <th>4</th>\n",
       "      <td>Remember, Pull Your Jaw Off The Floor After He...</td>\n",
       "      <td>1</td>\n",
       "      <td>87</td>\n",
       "    </tr>\n",
       "  </tbody>\n",
       "</table>\n",
       "</div>"
      ],
      "text/plain": [
       "                                                Text Sentiment  word_count\n",
       "0  Stuning even for the non-gamer: This sound tra...         1          80\n",
       "1  The best soundtrack ever to anything.: I'm rea...         1          97\n",
       "2  Amazing!: This soundtrack is my favorite music...         1         129\n",
       "3  Excellent Soundtrack: I truly like this soundt...         1         118\n",
       "4  Remember, Pull Your Jaw Off The Floor After He...         1          87"
      ]
     },
     "metadata": {
      "tags": []
     },
     "execution_count": 9
    }
   ]
  },
  {
   "cell_type": "markdown",
   "metadata": {
    "id": "MQquB_K2OHLc"
   },
   "source": [
    "# Data composition and visualization"
   ]
  },
  {
   "cell_type": "code",
   "metadata": {
    "colab": {
     "base_uri": "https://localhost:8080/"
    },
    "id": "KBhk3-5gOMyl",
    "outputId": "50c07e1f-dac2-42c0-c8ed-fcbd1c36ffc0"
   },
   "source": [
    "train_df['Sentiment'].value_counts()"
   ],
   "execution_count": 10,
   "outputs": [
    {
     "output_type": "execute_result",
     "data": {
      "text/plain": [
       "1    505678\n",
       "0    494322\n",
       "Name: Sentiment, dtype: int64"
      ]
     },
     "metadata": {
      "tags": []
     },
     "execution_count": 10
    }
   ]
  },
  {
   "cell_type": "code",
   "metadata": {
    "colab": {
     "base_uri": "https://localhost:8080/",
     "height": 0
    },
    "id": "k78YjGDMM-eP",
    "outputId": "76a84152-f0b6-4ee6-d072-3eeaae6360f5"
   },
   "source": [
    "import seaborn as sns\n",
    "sns.set(style=\"darkgrid\")\n",
    "sns.countplot(x=\"Sentiment\", data=train_df)"
   ],
   "execution_count": 11,
   "outputs": [
    {
     "output_type": "execute_result",
     "data": {
      "text/plain": [
       "<matplotlib.axes._subplots.AxesSubplot at 0x7fc1c8e91650>"
      ]
     },
     "metadata": {
      "tags": []
     },
     "execution_count": 11
    },
    {
     "output_type": "display_data",
     "data": {
      "image/png": "[encoded data removed]",
      "text/plain": [
       "<Figure size 432x288 with 1 Axes>"
      ]
     },
     "metadata": {
      "tags": []
     }
    }
   ]
  },
  {
   "cell_type": "code",
   "metadata": {
    "colab": {
     "base_uri": "https://localhost:8080/",
     "height": 0
    },
    "id": "MeKJv_N8MWnS",
    "outputId": "18e6ff05-2088-42ce-d26c-9592e942e0ed"
   },
   "source": [
    "train_df['word_count'].plot(bins=50, kind='hist',figsize = (10,8)) \n"
   ],
   "execution_count": 12,
   "outputs": [
    {
     "output_type": "execute_result",
     "data": {
      "text/plain": [
       "<matplotlib.axes._subplots.AxesSubplot at 0x7fc1c8b1d2d0>"
      ]
     },
     "metadata": {
      "tags": []
     },
     "execution_count": 12
    },
    {
     "output_type": "display_data",
     "data": {
      "image/png": "[encoded data removed]",
      "text/plain": [
       "<Figure size 720x576 with 1 Axes>"
      ]
     },
     "metadata": {
      "tags": []
     }
    }
   ]
  },
  {
   "cell_type": "markdown",
   "metadata": {
    "_uuid": "f2dc09cb731d59eca4e3dd78c35fcff5a94dd49f",
    "id": "Gx1vW2QsOkE0"
   },
   "source": [
    "# Text Preprocessing"
   ]
  },
  {
   "cell_type": "code",
   "metadata": {
    "trusted": true,
    "_uuid": "d0767e5902af2cd7e494b077eb00255c7b1006f9",
    "id": "7k_SnlOFOkE2"
   },
   "source": [
    "import string \n",
    "import re\n",
    "def remove_punc(s):\n",
    "    table = str.maketrans({key: None for key in string.punctuation})\n",
    "    return s.translate(table)\n",
    "def remove_url(text):\n",
    "     url=re.compile(r\"https?://\\S+|www\\.\\S+\")\n",
    "     return url.sub(r\" \",text)\n",
    "\n",
    "def remove_html(text):\n",
    "  cleanr = re.compile('<.*?>')\n",
    "  return cleanr.sub(r\" \",text)\n",
    "\n",
    "def remove_num(text):\n",
    "   output = re.sub(r'\\d+', '', text)\n",
    "   return output"
   ],
   "execution_count": 13,
   "outputs": []
  },
  {
   "cell_type": "code",
   "metadata": {
    "trusted": true,
    "_uuid": "dba6809bf46bae742ca20d67c37aa2e56ff4eafd",
    "colab": {
     "base_uri": "https://localhost:8080/"
    },
    "id": "KMg6GrfaOkE2",
    "outputId": "03edb7ec-31d8-42fb-94ce-2688a007509f"
   },
   "source": [
    "train_df['Text'] = train_df['Text'].apply(remove_punc)\n",
    "train_df['Text'] = train_df['Text'].apply(remove_html)\n",
    "train_df['Text'] = train_df['Text'].apply(remove_url)\n",
    "train_df['Text'] = train_df['Text'].apply(remove_num)\n",
    "\n",
    "train_df.shape"
   ],
   "execution_count": 14,
   "outputs": [
    {
     "output_type": "execute_result",
     "data": {
      "text/plain": [
       "(1000000, 3)"
      ]
     },
     "metadata": {
      "tags": []
     },
     "execution_count": 14
    }
   ]
  },
  {
   "cell_type": "code",
   "metadata": {
    "trusted": true,
    "_uuid": "63fff9c94b851ee5f482968a43ab14a645ea239d",
    "colab": {
     "base_uri": "https://localhost:8080/",
     "height": 0
    },
    "id": "M5p7NjvVOkE2",
    "outputId": "a7229236-4e63-42bd-87de-3896fbc73718"
   },
   "source": [
    "train_df.head()"
   ],
   "execution_count": 15,
   "outputs": [
    {
     "output_type": "execute_result",
     "data": {
      "text/html": [
       "<div>\n",
       "<style scoped>\n",
       "    .dataframe tbody tr th:only-of-type {\n",
       "        vertical-align: middle;\n",
       "    }\n",
       "\n",
       "    .dataframe tbody tr th {\n",
       "        vertical-align: top;\n",
       "    }\n",
       "\n",
       "    .dataframe thead th {\n",
       "        text-align: right;\n",
       "    }\n",
       "</style>\n",
       "<table border=\"1\" class=\"dataframe\">\n",
       "  <thead>\n",
       "    <tr style=\"text-align: right;\">\n",
       "      <th></th>\n",
       "      <th>Text</th>\n",
       "      <th>Sentiment</th>\n",
       "      <th>word_count</th>\n",
       "    </tr>\n",
       "  </thead>\n",
       "  <tbody>\n",
       "    <tr>\n",
       "      <th>0</th>\n",
       "      <td>Stuning even for the nongamer This sound track...</td>\n",
       "      <td>1</td>\n",
       "      <td>80</td>\n",
       "    </tr>\n",
       "    <tr>\n",
       "      <th>1</th>\n",
       "      <td>The best soundtrack ever to anything Im readin...</td>\n",
       "      <td>1</td>\n",
       "      <td>97</td>\n",
       "    </tr>\n",
       "    <tr>\n",
       "      <th>2</th>\n",
       "      <td>Amazing This soundtrack is my favorite music o...</td>\n",
       "      <td>1</td>\n",
       "      <td>129</td>\n",
       "    </tr>\n",
       "    <tr>\n",
       "      <th>3</th>\n",
       "      <td>Excellent Soundtrack I truly like this soundtr...</td>\n",
       "      <td>1</td>\n",
       "      <td>118</td>\n",
       "    </tr>\n",
       "    <tr>\n",
       "      <th>4</th>\n",
       "      <td>Remember Pull Your Jaw Off The Floor After Hea...</td>\n",
       "      <td>1</td>\n",
       "      <td>87</td>\n",
       "    </tr>\n",
       "  </tbody>\n",
       "</table>\n",
       "</div>"
      ],
      "text/plain": [
       "                                                Text Sentiment  word_count\n",
       "0  Stuning even for the nongamer This sound track...         1          80\n",
       "1  The best soundtrack ever to anything Im readin...         1          97\n",
       "2  Amazing This soundtrack is my favorite music o...         1         129\n",
       "3  Excellent Soundtrack I truly like this soundtr...         1         118\n",
       "4  Remember Pull Your Jaw Off The Floor After Hea...         1          87"
      ]
     },
     "metadata": {
      "tags": []
     },
     "execution_count": 15
    }
   ]
  },
  {
   "cell_type": "code",
   "metadata": {
    "trusted": true,
    "_uuid": "5114279a3a0bd8e804f1b6b7161c78a6ff3b1fd2",
    "colab": {
     "base_uri": "https://localhost:8080/"
    },
    "id": "USK0Bw9POkE2",
    "outputId": "48e68a71-865c-4f25-ec78-0d68ef9af061"
   },
   "source": [
    "len(train_df['word_count'][train_df['word_count']<=25])"
   ],
   "execution_count": 16,
   "outputs": [
    {
     "output_type": "execute_result",
     "data": {
      "text/plain": [
       "63720"
      ]
     },
     "metadata": {
      "tags": []
     },
     "execution_count": 16
    }
   ]
  },
  {
   "cell_type": "code",
   "metadata": {
    "trusted": true,
    "_uuid": "468933e91e85888311cda22966ba07df282821bf",
    "colab": {
     "base_uri": "https://localhost:8080/",
     "height": 0
    },
    "id": "jW3f1AOGOkE3",
    "outputId": "9b338b16-db0a-4fb4-ee2e-e52dc6e4a3ba"
   },
   "source": [
    "train_df1 = train_df[:][train_df['word_count']<=25]\n",
    "train_df1.head()"
   ],
   "execution_count": 17,
   "outputs": [
    {
     "output_type": "execute_result",
     "data": {
      "text/html": [
       "<div>\n",
       "<style scoped>\n",
       "    .dataframe tbody tr th:only-of-type {\n",
       "        vertical-align: middle;\n",
       "    }\n",
       "\n",
       "    .dataframe tbody tr th {\n",
       "        vertical-align: top;\n",
       "    }\n",
       "\n",
       "    .dataframe thead th {\n",
       "        text-align: right;\n",
       "    }\n",
       "</style>\n",
       "<table border=\"1\" class=\"dataframe\">\n",
       "  <thead>\n",
       "    <tr style=\"text-align: right;\">\n",
       "      <th></th>\n",
       "      <th>Text</th>\n",
       "      <th>Sentiment</th>\n",
       "      <th>word_count</th>\n",
       "    </tr>\n",
       "  </thead>\n",
       "  <tbody>\n",
       "    <tr>\n",
       "      <th>44</th>\n",
       "      <td>autumn got this for my daughter in NC she is n...</td>\n",
       "      <td>1</td>\n",
       "      <td>22</td>\n",
       "    </tr>\n",
       "    <tr>\n",
       "      <th>58</th>\n",
       "      <td>Hunting the Hard Way Thia was a gift for my Hu...</td>\n",
       "      <td>1</td>\n",
       "      <td>25</td>\n",
       "    </tr>\n",
       "    <tr>\n",
       "      <th>77</th>\n",
       "      <td>Smells divine This is my second bottle of shee...</td>\n",
       "      <td>1</td>\n",
       "      <td>25</td>\n",
       "    </tr>\n",
       "    <tr>\n",
       "      <th>78</th>\n",
       "      <td>Very disappointed This perfume is just AWFUL S...</td>\n",
       "      <td>0</td>\n",
       "      <td>24</td>\n",
       "    </tr>\n",
       "    <tr>\n",
       "      <th>99</th>\n",
       "      <td>Caution These tracks are not the original vers...</td>\n",
       "      <td>0</td>\n",
       "      <td>22</td>\n",
       "    </tr>\n",
       "  </tbody>\n",
       "</table>\n",
       "</div>"
      ],
      "text/plain": [
       "                                                 Text Sentiment  word_count\n",
       "44  autumn got this for my daughter in NC she is n...         1          22\n",
       "58  Hunting the Hard Way Thia was a gift for my Hu...         1          25\n",
       "77  Smells divine This is my second bottle of shee...         1          25\n",
       "78  Very disappointed This perfume is just AWFUL S...         0          24\n",
       "99  Caution These tracks are not the original vers...         0          22"
      ]
     },
     "metadata": {
      "tags": []
     },
     "execution_count": 17
    }
   ]
  },
  {
   "cell_type": "code",
   "metadata": {
    "trusted": true,
    "_uuid": "cc6d482f4252820078b46a793af7c6aeff32cb60",
    "colab": {
     "base_uri": "https://localhost:8080/"
    },
    "id": "Bu3EYat5OkE3",
    "outputId": "d401be61-2c10-4d5c-d6af-0420d01f3ba1"
   },
   "source": [
    "train_df1['Sentiment'].value_counts()"
   ],
   "execution_count": 18,
   "outputs": [
    {
     "output_type": "execute_result",
     "data": {
      "text/plain": [
       "1    39932\n",
       "0    23788\n",
       "Name: Sentiment, dtype: int64"
      ]
     },
     "metadata": {
      "tags": []
     },
     "execution_count": 18
    }
   ]
  },
  {
   "cell_type": "code",
   "metadata": {
    "trusted": true,
    "_uuid": "efedbee877d7da4272df8bfd896c9ac25fb208f6",
    "colab": {
     "base_uri": "https://localhost:8080/"
    },
    "id": "fkArfREXOkE3",
    "outputId": "f1747e4a-0d0c-4cb1-80ed-28bf840a7e46"
   },
   "source": [
    "from sklearn.feature_extraction import text\n",
    "from sklearn.feature_extraction.text import CountVectorizer\n",
    "st_wd = text.ENGLISH_STOP_WORDS\n",
    "c_vector = CountVectorizer(stop_words = st_wd,min_df=.0001,lowercase=1)\n",
    "c_vector.fit(train_df1['Text'].values)"
   ],
   "execution_count": 19,
   "outputs": [
    {
     "output_type": "execute_result",
     "data": {
      "text/plain": [
       "CountVectorizer(analyzer='word', binary=False, decode_error='strict',\n",
       "                dtype=<class 'numpy.int64'>, encoding='utf-8', input='content',\n",
       "                lowercase=1, max_df=1.0, max_features=None, min_df=0.0001,\n",
       "                ngram_range=(1, 1), preprocessor=None,\n",
       "                stop_words=frozenset({'a', 'about', 'above', 'across', 'after',\n",
       "                                      'afterwards', 'again', 'against', 'all',\n",
       "                                      'almost', 'alone', 'along', 'already',\n",
       "                                      'also', 'although', 'always', 'am',\n",
       "                                      'among', 'amongst', 'amoungst', 'amount',\n",
       "                                      'an', 'and', 'another', 'any', 'anyhow',\n",
       "                                      'anyone', 'anything', 'anyway',\n",
       "                                      'anywhere', ...}),\n",
       "                strip_accents=None, token_pattern='(?u)\\\\b\\\\w\\\\w+\\\\b',\n",
       "                tokenizer=None, vocabulary=None)"
      ]
     },
     "metadata": {
      "tags": []
     },
     "execution_count": 19
    }
   ]
  },
  {
   "cell_type": "code",
   "metadata": {
    "trusted": true,
    "_uuid": "c7780e9bf0102cdd641118fc5d15f3ca03857393",
    "_kg_hide-output": true,
    "id": "87ytRFpSOkE4"
   },
   "source": [
    "word_list = list(c_vector.vocabulary_.keys())\n",
    "stop_words = list(c_vector.stop_words) "
   ],
   "execution_count": 20,
   "outputs": []
  },
  {
   "cell_type": "code",
   "metadata": {
    "trusted": true,
    "_uuid": "b0e784d9e08760e2e5e7e383c61f893c43051a02",
    "colab": {
     "base_uri": "https://localhost:8080/"
    },
    "id": "Z1uHkE5lOkE4",
    "outputId": "36ec20cf-db3d-476a-8553-fb45ff51b55c"
   },
   "source": [
    "len(stop_words),len(word_list)"
   ],
   "execution_count": 21,
   "outputs": [
    {
     "output_type": "execute_result",
     "data": {
      "text/plain": [
       "(318, 8805)"
      ]
     },
     "metadata": {
      "tags": []
     },
     "execution_count": 21
    }
   ]
  },
  {
   "cell_type": "code",
   "metadata": {
    "trusted": true,
    "_uuid": "ec34aae9b79df655c980a3362acb6d4d5ed133c9",
    "id": "70jLFJNGOkE4"
   },
   "source": [
    "def remove_words(raw_sen,stop_words):\n",
    "    sen = [w for w in raw_sen if w not in stop_words]\n",
    "    return sen"
   ],
   "execution_count": 22,
   "outputs": []
  },
  {
   "cell_type": "code",
   "metadata": {
    "trusted": true,
    "_uuid": "14ad88e624e10ce6a9e0b87848bfd06d72203689",
    "id": "OG2TwtwqOkE4"
   },
   "source": [
    "def reviewEdit(raw_sen_list,stop_words):\n",
    "    sen_list = []\n",
    "    for i in range(len(raw_sen_list)):\n",
    "        raw_sen = raw_sen_list[i].split()\n",
    "        sen_list.append(remove_words(raw_sen,stop_words))\n",
    "    return sen_list"
   ],
   "execution_count": 23,
   "outputs": []
  },
  {
   "cell_type": "code",
   "metadata": {
    "trusted": true,
    "_uuid": "c63a3e230b758d238a46b6fc856388837f13ad37",
    "id": "s4egbWi2OkE5"
   },
   "source": [
    "sen_list = reviewEdit(list(train_df1['Text']),stop_words)"
   ],
   "execution_count": 24,
   "outputs": []
  },
  {
   "cell_type": "code",
   "metadata": {
    "trusted": true,
    "_uuid": "1360e6a596b249e7f50e655bedb4daa37c64d075",
    "id": "h7XIkGEuOkE5"
   },
   "source": [
    "from gensim.models import word2vec\n",
    "wv_model = word2vec.Word2Vec(sen_list,size=100)"
   ],
   "execution_count": 25,
   "outputs": []
  },
  {
   "cell_type": "code",
   "metadata": {
    "trusted": true,
    "_uuid": "2a1381a9a6f491fb6b1008fed740c9de7479c3f4",
    "colab": {
     "base_uri": "https://localhost:8080/"
    },
    "id": "tcAHOB2tOkE5",
    "outputId": "690ced1a-9360-4a58-cfed-a69f82464dce"
   },
   "source": [
    "wv_model.wv.syn0.shape"
   ],
   "execution_count": 26,
   "outputs": [
    {
     "output_type": "stream",
     "text": [
      "/usr/local/lib/python3.7/dist-packages/ipykernel_launcher.py:1: DeprecationWarning: Call to deprecated `syn0` (Attribute will be removed in 4.0.0, use self.wv.vectors instead).\n",
      "  \"\"\"Entry point for launching an IPython kernel.\n"
     ],
     "name": "stderr"
    },
    {
     "output_type": "execute_result",
     "data": {
      "text/plain": [
       "(14196, 100)"
      ]
     },
     "metadata": {
      "tags": []
     },
     "execution_count": 26
    }
   ]
  },
  {
   "cell_type": "code",
   "metadata": {
    "trusted": true,
    "_uuid": "bde68a4d138c316544d51ecc4b0ddafdd82a2db9",
    "id": "JPkni4toOkE5"
   },
   "source": [
    "def fun(sen_list,wv_model):\n",
    "    word_set = set(wv_model.wv.index2word)\n",
    "    X = np.zeros([len(sen_list),25,100])\n",
    "    c = 0\n",
    "    for sen in sen_list:\n",
    "        nw=24\n",
    "        for w in list(reversed(sen)):\n",
    "            if w in word_set:\n",
    "                X[c,nw] = wv_model[w]\n",
    "                nw=nw-1\n",
    "        c=c+1\n",
    "    return X"
   ],
   "execution_count": 27,
   "outputs": []
  },
  {
   "cell_type": "code",
   "metadata": {
    "trusted": true,
    "_uuid": "068290e799be0e0bc7e66f18e7483503d920914f",
    "colab": {
     "base_uri": "https://localhost:8080/"
    },
    "id": "XwCDCBtWOkE6",
    "outputId": "c68fb866-4425-4dba-d036-9745a47bb4da"
   },
   "source": [
    "X = fun(sen_list,wv_model)"
   ],
   "execution_count": 28,
   "outputs": [
    {
     "output_type": "stream",
     "text": [
      "/usr/local/lib/python3.7/dist-packages/ipykernel_launcher.py:9: DeprecationWarning: Call to deprecated `__getitem__` (Method will be removed in 4.0.0, use self.wv.__getitem__() instead).\n",
      "  if __name__ == '__main__':\n"
     ],
     "name": "stderr"
    }
   ]
  },
  {
   "cell_type": "code",
   "metadata": {
    "trusted": true,
    "_uuid": "d23a6ccc69cfdb0ba5ad9349de5ff39cde9a5895",
    "id": "RYLWd2woOkE6"
   },
   "source": [
    "from sklearn.model_selection import train_test_split\n",
    "y = train_df1['Sentiment'].values\n",
    "X_train, X_test, y_train, y_test = train_test_split(X, y, test_size=0.2, random_state=42)\n",
    "y_train = y_train.astype('bool')\n",
    "y_test = y_test.astype('bool')"
   ],
   "execution_count": 29,
   "outputs": []
  },
  {
   "cell_type": "code",
   "metadata": {
    "trusted": true,
    "_uuid": "33b4a55049bc68b7982b37892f11aadbfcc60223",
    "scrolled": true,
    "colab": {
     "base_uri": "https://localhost:8080/"
    },
    "id": "WydxJ72iOkE6",
    "outputId": "26c7fdc8-6a89-4e48-daac-7a2ccafee2fc"
   },
   "source": [
    "X_train.shape"
   ],
   "execution_count": 30,
   "outputs": [
    {
     "output_type": "execute_result",
     "data": {
      "text/plain": [
       "(50976, 25, 100)"
      ]
     },
     "metadata": {
      "tags": []
     },
     "execution_count": 30
    }
   ]
  },
  {
   "cell_type": "code",
   "metadata": {
    "colab": {
     "base_uri": "https://localhost:8080/"
    },
    "id": "N5KYHEvgZ_2O",
    "outputId": "07921b8d-dd9d-4ae1-a6bd-dc69d82bb9b4"
   },
   "source": [
    "X"
   ],
   "execution_count": 31,
   "outputs": [
    {
     "output_type": "execute_result",
     "data": {
      "text/plain": [
       "array([[[ 0.        ,  0.        ,  0.        , ...,  0.        ,\n",
       "          0.        ,  0.        ],\n",
       "        [ 0.        ,  0.        ,  0.        , ...,  0.        ,\n",
       "          0.        ,  0.        ],\n",
       "        [ 0.        ,  0.        ,  0.        , ...,  0.        ,\n",
       "          0.        ,  0.        ],\n",
       "        ...,\n",
       "        [ 0.2587069 , -0.22786558,  0.06620079, ..., -0.14894865,\n",
       "         -0.01080521,  0.10984071],\n",
       "        [ 0.47420582, -0.11915584,  0.01529314, ...,  0.92821705,\n",
       "         -0.26115036, -0.07370552],\n",
       "        [ 0.10042459, -0.06854931,  0.01266509, ..., -0.04238864,\n",
       "          0.01181968,  0.05102717]],\n",
       "\n",
       "       [[ 0.        ,  0.        ,  0.        , ...,  0.        ,\n",
       "          0.        ,  0.        ],\n",
       "        [ 0.        ,  0.        ,  0.        , ...,  0.        ,\n",
       "          0.        ,  0.        ],\n",
       "        [ 0.        ,  0.        ,  0.        , ...,  0.        ,\n",
       "          0.        ,  0.        ],\n",
       "        ...,\n",
       "        [-0.18160158, -0.57144541,  0.28698415, ..., -0.31097874,\n",
       "         -0.45542768,  0.15402888],\n",
       "        [ 0.15595302, -0.69227064,  0.14899977, ..., -0.15768024,\n",
       "         -0.4132452 ,  0.18511476],\n",
       "        [-0.0436472 , -0.03360531,  0.03441119, ...,  0.0726466 ,\n",
       "         -0.03234492,  0.05900194]],\n",
       "\n",
       "       [[ 0.        ,  0.        ,  0.        , ...,  0.        ,\n",
       "          0.        ,  0.        ],\n",
       "        [ 0.        ,  0.        ,  0.        , ...,  0.        ,\n",
       "          0.        ,  0.        ],\n",
       "        [ 0.        ,  0.        ,  0.        , ...,  0.        ,\n",
       "          0.        ,  0.        ],\n",
       "        ...,\n",
       "        [ 0.09672811, -0.40383878, -0.12625971, ...,  1.18321097,\n",
       "         -0.30674663,  0.57568628],\n",
       "        [ 0.31884083, -0.56940156,  0.17206407, ..., -0.20888525,\n",
       "         -0.28749031,  0.13266286],\n",
       "        [ 0.18634234, -0.3476117 ,  0.11835826, ..., -0.06327121,\n",
       "         -0.1679768 ,  0.32487169]],\n",
       "\n",
       "       ...,\n",
       "\n",
       "       [[ 0.        ,  0.        ,  0.        , ...,  0.        ,\n",
       "          0.        ,  0.        ],\n",
       "        [ 0.        ,  0.        ,  0.        , ...,  0.        ,\n",
       "          0.        ,  0.        ],\n",
       "        [ 0.        ,  0.        ,  0.        , ...,  0.        ,\n",
       "          0.        ,  0.        ],\n",
       "        ...,\n",
       "        [-0.14415529, -0.26089135,  0.03070324, ...,  0.05106813,\n",
       "         -0.33594257,  0.34838519],\n",
       "        [ 0.41212857, -0.32266065,  0.23262732, ..., -0.155811  ,\n",
       "         -0.05512326,  0.2002964 ],\n",
       "        [ 0.09447649, -0.06510921,  0.0461005 , ..., -0.04404351,\n",
       "          0.01530909,  0.04363599]],\n",
       "\n",
       "       [[ 0.        ,  0.        ,  0.        , ...,  0.        ,\n",
       "          0.        ,  0.        ],\n",
       "        [ 0.        ,  0.        ,  0.        , ...,  0.        ,\n",
       "          0.        ,  0.        ],\n",
       "        [ 0.        ,  0.        ,  0.        , ...,  0.        ,\n",
       "          0.        ,  0.        ],\n",
       "        ...,\n",
       "        [ 0.13256648, -0.38495782,  0.07643502, ..., -0.21719256,\n",
       "         -0.2862435 ,  0.21980211],\n",
       "        [ 0.42806748, -1.89379168,  0.41219351, ...,  0.18954426,\n",
       "         -1.37165213,  0.57986093],\n",
       "        [-0.1712262 , -0.53755009,  0.56469387, ...,  0.17876989,\n",
       "         -0.49831343, -0.31852254]],\n",
       "\n",
       "       [[ 0.        ,  0.        ,  0.        , ...,  0.        ,\n",
       "          0.        ,  0.        ],\n",
       "        [ 0.        ,  0.        ,  0.        , ...,  0.        ,\n",
       "          0.        ,  0.        ],\n",
       "        [ 0.        ,  0.        ,  0.        , ...,  0.        ,\n",
       "          0.        ,  0.        ],\n",
       "        ...,\n",
       "        [ 0.83673173, -0.40011552,  0.3818149 , ...,  0.13864695,\n",
       "         -0.07762137,  0.16039252],\n",
       "        [ 0.19448966, -0.15607952,  0.59160995, ...,  0.14973538,\n",
       "         -0.1151891 ,  0.1040693 ],\n",
       "        [ 0.36357272, -0.19002934,  0.11502226, ..., -0.12257922,\n",
       "          0.00626955,  0.15133627]]])"
      ]
     },
     "metadata": {
      "tags": []
     },
     "execution_count": 31
    }
   ]
  },
  {
   "cell_type": "code",
   "metadata": {
    "id": "Wv48Vr_yI_tr"
   },
   "source": [
    "np.save(\"/content/drive/MyDrive/DLA/test_X\", X_test, allow_pickle=True, fix_imports=True)\n",
    "np.save(\"/content/drive/MyDrive/DLA/y_test\", X_test, allow_pickle=True, fix_imports=True)"
   ],
   "execution_count": 32,
   "outputs": []
  },
  {
   "cell_type": "markdown",
   "metadata": {
    "_uuid": "0a876a352f329557e3f1c37ed13c068fadb17e13",
    "id": "niDWqOG9OkE6"
   },
   "source": [
    " # Training"
   ]
  },
  {
   "cell_type": "code",
   "metadata": {
    "id": "bEVhn6Yl7_W-"
   },
   "source": [
    "import keras.backend as K\n",
    "from keras.models import Sequential,Model\n",
    "from keras.layers import Dense, Dropout, Activation,LSTM, SimpleRNN ,GRU , Bidirectional,Input ,Concatenate, Multiply,Lambda,Reshape\n",
    "import matplotlib.pyplot as plt\n",
    "\n",
    "\n",
    "def plot_graphs(history, string):\n",
    "  plt.plot(history.history[string])\n",
    "  plt.plot(history.history['val_'+string])\n",
    "  plt.xlabel(\"Epochs\")\n",
    "  plt.ylabel(string)\n",
    "  plt.legend([string, 'val_'+string])\n",
    "  plt.show()"
   ],
   "execution_count": 33,
   "outputs": []
  },
  {
   "cell_type": "markdown",
   "metadata": {
    "id": "TT5a5k8acXSe"
   },
   "source": [
    "## BDNN LSTM"
   ]
  },
  {
   "cell_type": "code",
   "metadata": {
    "trusted": true,
    "colab": {
     "base_uri": "https://localhost:8080/"
    },
    "id": "B-hi7rwFOkE6",
    "outputId": "a994bbe9-d469-45e5-b983-f33c4ef41b73"
   },
   "source": [
    "input_st  = Input(shape=(25,100))\n",
    "lstm1 = Bidirectional(LSTM(200,input_shape=(25,100),activation='relu',return_sequences=True),merge_mode='mul')(input_st)\n",
    "lstm2 = Bidirectional(LSTM(1,input_shape=(25,100),activation='relu',return_sequences=True),merge_mode='mul')(lstm1)\n",
    "print(lstm1.shape,' ',lstm2.shape)\n",
    "lstm2 = Reshape((-1,))(lstm2)\n",
    "lstm2 = Activation('sigmoid')(lstm2)\n",
    "lstm2 = Reshape((-1,1))(lstm2)\n",
    "mult = Multiply()([lstm1,lstm2])\n",
    "\n",
    "add = Lambda(lambda x: K.sum(x,axis=1))(mult)\n",
    "dense = Dense(100,activation='relu')(add)\n",
    "output = Dense(1,activation='sigmoid')(dense)\n",
    "\n",
    "model = Model(inputs=input_st, outputs=output)\n",
    "print(model.summary())"
   ],
   "execution_count": 34,
   "outputs": [
    {
     "output_type": "stream",
     "text": [
      "WARNING:tensorflow:Layer lstm will not use cuDNN kernel since it doesn't meet the cuDNN kernel criteria. It will use generic GPU kernel as fallback when running on GPU\n",
      "WARNING:tensorflow:Layer lstm will not use cuDNN kernel since it doesn't meet the cuDNN kernel criteria. It will use generic GPU kernel as fallback when running on GPU\n",
      "WARNING:tensorflow:Layer lstm will not use cuDNN kernel since it doesn't meet the cuDNN kernel criteria. It will use generic GPU kernel as fallback when running on GPU\n",
      "WARNING:tensorflow:Layer lstm_1 will not use cuDNN kernel since it doesn't meet the cuDNN kernel criteria. It will use generic GPU kernel as fallback when running on GPU\n",
      "WARNING:tensorflow:Layer lstm_1 will not use cuDNN kernel since it doesn't meet the cuDNN kernel criteria. It will use generic GPU kernel as fallback when running on GPU\n",
      "WARNING:tensorflow:Layer lstm_1 will not use cuDNN kernel since it doesn't meet the cuDNN kernel criteria. It will use generic GPU kernel as fallback when running on GPU\n",
      "(None, 25, 200)   (None, 25, 1)\n",
      "Model: \"model\"\n",
      "__________________________________________________________________________________________________\n",
      "Layer (type)                    Output Shape         Param #     Connected to                     \n",
      "==================================================================================================\n",
      "input_1 (InputLayer)            [(None, 25, 100)]    0                                            \n",
      "__________________________________________________________________________________________________\n",
      "bidirectional (Bidirectional)   (None, 25, 200)      481600      input_1[0][0]                    \n",
      "__________________________________________________________________________________________________\n",
      "bidirectional_1 (Bidirectional) (None, 25, 1)        1616        bidirectional[0][0]              \n",
      "__________________________________________________________________________________________________\n",
      "reshape (Reshape)               (None, 25)           0           bidirectional_1[0][0]            \n",
      "__________________________________________________________________________________________________\n",
      "activation (Activation)         (None, 25)           0           reshape[0][0]                    \n",
      "__________________________________________________________________________________________________\n",
      "reshape_1 (Reshape)             (None, 25, 1)        0           activation[0][0]                 \n",
      "__________________________________________________________________________________________________\n",
      "multiply (Multiply)             (None, 25, 200)      0           bidirectional[0][0]              \n",
      "                                                                 reshape_1[0][0]                  \n",
      "__________________________________________________________________________________________________\n",
      "lambda (Lambda)                 (None, 200)          0           multiply[0][0]                   \n",
      "__________________________________________________________________________________________________\n",
      "dense (Dense)                   (None, 100)          20100       lambda[0][0]                     \n",
      "__________________________________________________________________________________________________\n",
      "dense_1 (Dense)                 (None, 1)            101         dense[0][0]                      \n",
      "==================================================================================================\n",
      "Total params: 503,417\n",
      "Trainable params: 503,417\n",
      "Non-trainable params: 0\n",
      "__________________________________________________________________________________________________\n",
      "None\n"
     ],
     "name": "stdout"
    }
   ]
  },
  {
   "cell_type": "code",
   "metadata": {
    "trusted": true,
    "colab": {
     "base_uri": "https://localhost:8080/"
    },
    "id": "anxCKA-oOkE7",
    "outputId": "ab274e09-cde1-4a14-816f-b7fd90c42656"
   },
   "source": [
    "model.compile(optimizer='adam',\n",
    "              loss='binary_crossentropy',\n",
    "              metrics=['accuracy'])\n",
    "hist = model.fit(X_train,y_train,validation_split=0.1,\n",
    "          epochs=10, batch_size=512)"
   ],
   "execution_count": 35,
   "outputs": [
    {
     "output_type": "stream",
     "text": [
      "Epoch 1/10\n",
      "90/90 [==============================] - 23s 166ms/step - loss: 0.4446 - accuracy: 0.7823 - val_loss: 0.3180 - val_accuracy: 0.8658\n",
      "Epoch 2/10\n",
      "90/90 [==============================] - 14s 153ms/step - loss: 0.3074 - accuracy: 0.8701 - val_loss: 0.3005 - val_accuracy: 0.8707\n",
      "Epoch 3/10\n",
      "90/90 [==============================] - 14s 152ms/step - loss: 0.2785 - accuracy: 0.8827 - val_loss: 0.2802 - val_accuracy: 0.8786\n",
      "Epoch 4/10\n",
      "90/90 [==============================] - 14s 154ms/step - loss: 0.2596 - accuracy: 0.8902 - val_loss: 0.2735 - val_accuracy: 0.8845\n",
      "Epoch 5/10\n",
      "90/90 [==============================] - 14s 153ms/step - loss: 0.2490 - accuracy: 0.8935 - val_loss: 0.2729 - val_accuracy: 0.8809\n",
      "Epoch 6/10\n",
      "90/90 [==============================] - 14s 154ms/step - loss: 0.2409 - accuracy: 0.8976 - val_loss: 0.2677 - val_accuracy: 0.8851\n",
      "Epoch 7/10\n",
      "90/90 [==============================] - 14s 154ms/step - loss: 0.2326 - accuracy: 0.9007 - val_loss: 0.2650 - val_accuracy: 0.8833\n",
      "Epoch 8/10\n",
      "90/90 [==============================] - 14s 153ms/step - loss: 0.2216 - accuracy: 0.9066 - val_loss: 0.2672 - val_accuracy: 0.8860\n",
      "Epoch 9/10\n",
      "90/90 [==============================] - 13s 150ms/step - loss: 0.2129 - accuracy: 0.9096 - val_loss: 0.2636 - val_accuracy: 0.8886\n",
      "Epoch 10/10\n",
      "90/90 [==============================] - 14s 151ms/step - loss: 0.2024 - accuracy: 0.9161 - val_loss: 0.2735 - val_accuracy: 0.8876\n"
     ],
     "name": "stdout"
    }
   ]
  },
  {
   "cell_type": "code",
   "metadata": {
    "trusted": true,
    "colab": {
     "base_uri": "https://localhost:8080/"
    },
    "id": "_aPewlKaOkE7",
    "outputId": "27597e70-5ead-4797-ec3c-4c13fa4432e9"
   },
   "source": [
    "y_test = y_test.astype('bool')\n",
    "model.evaluate(X_test, y_test, batch_size=64)"
   ],
   "execution_count": 36,
   "outputs": [
    {
     "output_type": "stream",
     "text": [
      "200/200 [==============================] - 3s 14ms/step - loss: 0.2608 - accuracy: 0.8967\n"
     ],
     "name": "stdout"
    },
    {
     "output_type": "execute_result",
     "data": {
      "text/plain": [
       "[0.2608293890953064, 0.8967357277870178]"
      ]
     },
     "metadata": {
      "tags": []
     },
     "execution_count": 36
    }
   ]
  },
  {
   "cell_type": "code",
   "metadata": {
    "colab": {
     "base_uri": "https://localhost:8080/",
     "height": 284
    },
    "id": "ZdrjQcAWdG-A",
    "outputId": "c70b0765-5d47-4198-f9d6-ca680054fab2"
   },
   "source": [
    "plot_graphs(hist, \"accuracy\")"
   ],
   "execution_count": 37,
   "outputs": [
    {
     "output_type": "display_data",
     "data": {
      "image/png": "[encoded data removed]",
      "text/plain": [
       "<Figure size 432x288 with 1 Axes>"
      ]
     },
     "metadata": {
      "tags": []
     }
    }
   ]
  },
  {
   "cell_type": "code",
   "metadata": {
    "colab": {
     "base_uri": "https://localhost:8080/",
     "height": 284
    },
    "id": "e7dPV7wOdrGI",
    "outputId": "9271868b-098c-45d0-d495-3709d0d5fe9d"
   },
   "source": [
    "plot_graphs(hist, \"loss\")"
   ],
   "execution_count": 38,
   "outputs": [
    {
     "output_type": "display_data",
     "data": {
      "image/png": "[encoded data removed]",
      "text/plain": [
       "<Figure size 432x288 with 1 Axes>"
      ]
     },
     "metadata": {
      "tags": []
     }
    }
   ]
  },
  {
   "cell_type": "code",
   "metadata": {
    "trusted": true,
    "colab": {
     "base_uri": "https://localhost:8080/"
    },
    "id": "pDEmSbKnOkE7",
    "outputId": "8068767d-bca1-4b12-89d8-e13e27f1fcbd"
   },
   "source": [
    "model.save(\"/content/drive/MyDrive/DLA/BidirectionalLSTM\")"
   ],
   "execution_count": 39,
   "outputs": [
    {
     "output_type": "stream",
     "text": [
      "INFO:tensorflow:Assets written to: /content/drive/MyDrive/DLA/BidirectionalLSTM/assets\n"
     ],
     "name": "stdout"
    }
   ]
  },
  {
   "cell_type": "code",
   "metadata": {
    "id": "BHF6utuEUL1X"
   },
   "source": [
    "del model"
   ],
   "execution_count": 40,
   "outputs": []
  },
  {
   "cell_type": "markdown",
   "metadata": {
    "id": "AVOOc-cYcaSG"
   },
   "source": [
    "##BDNN GRU"
   ]
  },
  {
   "cell_type": "code",
   "metadata": {
    "colab": {
     "base_uri": "https://localhost:8080/"
    },
    "id": "X_En7xnLUK-G",
    "outputId": "a09c812c-37b0-4dde-f7c3-80cde114e2d1"
   },
   "source": [
    "input_st  = Input(shape=(25,100))\n",
    "lstm1 = Bidirectional(GRU(200,input_shape=(25,100),activation='relu',return_sequences=True),merge_mode='mul')(input_st)\n",
    "lstm2 = Bidirectional(GRU(1,input_shape=(25,100),activation='relu',return_sequences=True),merge_mode='mul')(lstm1)\n",
    "print(lstm1.shape,' ',lstm2.shape)\n",
    "lstm2 = Reshape((-1,))(lstm2)\n",
    "lstm2 = Activation('sigmoid')(lstm2)\n",
    "lstm2 = Reshape((-1,1))(lstm2)\n",
    "mult = Multiply()([lstm1,lstm2])\n",
    "\n",
    "add = Lambda(lambda x: K.sum(x,axis=1))(mult)\n",
    "dense = Dense(100,activation='relu')(add)\n",
    "output = Dense(1,activation='sigmoid')(dense)\n",
    "\n",
    "model = Model(inputs=input_st, outputs=output)\n",
    "print(model.summary())"
   ],
   "execution_count": 41,
   "outputs": [
    {
     "output_type": "stream",
     "text": [
      "WARNING:tensorflow:Layer gru will not use cuDNN kernel since it doesn't meet the cuDNN kernel criteria. It will use generic GPU kernel as fallback when running on GPU\n",
      "WARNING:tensorflow:Layer gru will not use cuDNN kernel since it doesn't meet the cuDNN kernel criteria. It will use generic GPU kernel as fallback when running on GPU\n",
      "WARNING:tensorflow:Layer gru will not use cuDNN kernel since it doesn't meet the cuDNN kernel criteria. It will use generic GPU kernel as fallback when running on GPU\n",
      "WARNING:tensorflow:Layer gru_1 will not use cuDNN kernel since it doesn't meet the cuDNN kernel criteria. It will use generic GPU kernel as fallback when running on GPU\n",
      "WARNING:tensorflow:Layer gru_1 will not use cuDNN kernel since it doesn't meet the cuDNN kernel criteria. It will use generic GPU kernel as fallback when running on GPU\n",
      "WARNING:tensorflow:Layer gru_1 will not use cuDNN kernel since it doesn't meet the cuDNN kernel criteria. It will use generic GPU kernel as fallback when running on GPU\n",
      "(None, 25, 200)   (None, 25, 1)\n",
      "Model: \"model_1\"\n",
      "__________________________________________________________________________________________________\n",
      "Layer (type)                    Output Shape         Param #     Connected to                     \n",
      "==================================================================================================\n",
      "input_2 (InputLayer)            [(None, 25, 100)]    0                                            \n",
      "__________________________________________________________________________________________________\n",
      "bidirectional_2 (Bidirectional) (None, 25, 200)      362400      input_2[0][0]                    \n",
      "__________________________________________________________________________________________________\n",
      "bidirectional_3 (Bidirectional) (None, 25, 1)        1218        bidirectional_2[0][0]            \n",
      "__________________________________________________________________________________________________\n",
      "reshape_2 (Reshape)             (None, 25)           0           bidirectional_3[0][0]            \n",
      "__________________________________________________________________________________________________\n",
      "activation_1 (Activation)       (None, 25)           0           reshape_2[0][0]                  \n",
      "__________________________________________________________________________________________________\n",
      "reshape_3 (Reshape)             (None, 25, 1)        0           activation_1[0][0]               \n",
      "__________________________________________________________________________________________________\n",
      "multiply_1 (Multiply)           (None, 25, 200)      0           bidirectional_2[0][0]            \n",
      "                                                                 reshape_3[0][0]                  \n",
      "__________________________________________________________________________________________________\n",
      "lambda_1 (Lambda)               (None, 200)          0           multiply_1[0][0]                 \n",
      "__________________________________________________________________________________________________\n",
      "dense_2 (Dense)                 (None, 100)          20100       lambda_1[0][0]                   \n",
      "__________________________________________________________________________________________________\n",
      "dense_3 (Dense)                 (None, 1)            101         dense_2[0][0]                    \n",
      "==================================================================================================\n",
      "Total params: 383,819\n",
      "Trainable params: 383,819\n",
      "Non-trainable params: 0\n",
      "__________________________________________________________________________________________________\n",
      "None\n"
     ],
     "name": "stdout"
    }
   ]
  },
  {
   "cell_type": "code",
   "metadata": {
    "colab": {
     "base_uri": "https://localhost:8080/"
    },
    "id": "xja1b7udUTYL",
    "outputId": "5d6d0b23-b844-4024-a68d-353ae7533ea3"
   },
   "source": [
    "model.compile(optimizer='adam',\n",
    "              loss='binary_crossentropy',\n",
    "              metrics=['accuracy'])\n",
    "hist = model.fit(X_train,y_train,validation_split=0.1,\n",
    "          epochs=10, batch_size=512)"
   ],
   "execution_count": 42,
   "outputs": [
    {
     "output_type": "stream",
     "text": [
      "Epoch 1/10\n",
      "90/90 [==============================] - 22s 202ms/step - loss: 0.4385 - accuracy: 0.7666 - val_loss: 0.3117 - val_accuracy: 0.8676\n",
      "Epoch 2/10\n",
      "90/90 [==============================] - 17s 192ms/step - loss: 0.2946 - accuracy: 0.8772 - val_loss: 0.2884 - val_accuracy: 0.8784\n",
      "Epoch 3/10\n",
      "90/90 [==============================] - 17s 192ms/step - loss: 0.2665 - accuracy: 0.8878 - val_loss: 0.2837 - val_accuracy: 0.8790\n",
      "Epoch 4/10\n",
      "90/90 [==============================] - 17s 191ms/step - loss: 0.2531 - accuracy: 0.8910 - val_loss: 0.2762 - val_accuracy: 0.8825\n",
      "Epoch 5/10\n",
      "90/90 [==============================] - 17s 194ms/step - loss: 0.2410 - accuracy: 0.9002 - val_loss: 0.2682 - val_accuracy: 0.8874\n",
      "Epoch 6/10\n",
      "90/90 [==============================] - 17s 187ms/step - loss: 0.2290 - accuracy: 0.9045 - val_loss: 0.2608 - val_accuracy: 0.8888\n",
      "Epoch 7/10\n",
      "90/90 [==============================] - 17s 190ms/step - loss: 0.2167 - accuracy: 0.9118 - val_loss: 0.2621 - val_accuracy: 0.8894\n",
      "Epoch 8/10\n",
      "90/90 [==============================] - 17s 188ms/step - loss: 0.2138 - accuracy: 0.9104 - val_loss: 0.2682 - val_accuracy: 0.8917\n",
      "Epoch 9/10\n",
      "90/90 [==============================] - 17s 189ms/step - loss: 0.2028 - accuracy: 0.9163 - val_loss: 0.2709 - val_accuracy: 0.8907\n",
      "Epoch 10/10\n",
      "90/90 [==============================] - 17s 189ms/step - loss: 0.1850 - accuracy: 0.9233 - val_loss: 0.2874 - val_accuracy: 0.8866\n"
     ],
     "name": "stdout"
    }
   ]
  },
  {
   "cell_type": "code",
   "metadata": {
    "colab": {
     "base_uri": "https://localhost:8080/"
    },
    "id": "AXBk9Ub0UV-N",
    "outputId": "ea609a6c-347b-4973-dfd7-5178b06bea19"
   },
   "source": [
    "model.evaluate(X_test, y_test, batch_size=64)"
   ],
   "execution_count": 43,
   "outputs": [
    {
     "output_type": "stream",
     "text": [
      "200/200 [==============================] - 3s 17ms/step - loss: 0.2598 - accuracy: 0.8978\n"
     ],
     "name": "stdout"
    },
    {
     "output_type": "execute_result",
     "data": {
      "text/plain": [
       "[0.2598370611667633, 0.8977558016777039]"
      ]
     },
     "metadata": {
      "tags": []
     },
     "execution_count": 43
    }
   ]
  },
  {
   "cell_type": "code",
   "metadata": {
    "colab": {
     "base_uri": "https://localhost:8080/",
     "height": 284
    },
    "id": "16vFK_10eXJn",
    "outputId": "e6221ec8-5537-4e81-91f4-3f06f081a4d9"
   },
   "source": [
    "plot_graphs(hist, \"accuracy\")"
   ],
   "execution_count": 44,
   "outputs": [
    {
     "output_type": "display_data",
     "data": {
      "image/png": "[encoded data removed]",
      "text/plain": [
       "<Figure size 432x288 with 1 Axes>"
      ]
     },
     "metadata": {
      "tags": []
     }
    }
   ]
  },
  {
   "cell_type": "code",
   "metadata": {
    "colab": {
     "base_uri": "https://localhost:8080/",
     "height": 284
    },
    "id": "ZKbUlb-GeX4u",
    "outputId": "c203b9aa-0a71-4941-dc19-b6265ba2fb2e"
   },
   "source": [
    "plot_graphs(hist, \"loss\")"
   ],
   "execution_count": 45,
   "outputs": [
    {
     "output_type": "display_data",
     "data": {
      "image/png": "[encoded data removed]",
      "text/plain": [
       "<Figure size 432x288 with 1 Axes>"
      ]
     },
     "metadata": {
      "tags": []
     }
    }
   ]
  },
  {
   "cell_type": "code",
   "metadata": {
    "colab": {
     "base_uri": "https://localhost:8080/"
    },
    "id": "c3w6eHV1UX6b",
    "outputId": "e761c65d-bcf8-4ba9-bc1d-374fcc86fe34"
   },
   "source": [
    "model.save(\"/content/drive/MyDrive/DLA/BidirectionalGRU\")"
   ],
   "execution_count": 46,
   "outputs": [
    {
     "output_type": "stream",
     "text": [
      "INFO:tensorflow:Assets written to: /content/drive/MyDrive/DLA/BidirectionalGRU/assets\n"
     ],
     "name": "stdout"
    }
   ]
  },
  {
   "cell_type": "code",
   "metadata": {
    "id": "WVoNqaRm73-j"
   },
   "source": [
    "del model"
   ],
   "execution_count": 47,
   "outputs": []
  }
 ]
}