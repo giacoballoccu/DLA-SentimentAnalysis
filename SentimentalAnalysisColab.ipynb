{
  "nbformat": 4,
  "nbformat_minor": 0,
  "metadata": {
    "kernelspec": {
      "language": "python",
      "display_name": "Python 3",
      "name": "python3"
    },
    "language_info": {
      "pygments_lexer": "ipython3",
      "nbconvert_exporter": "python",
      "version": "3.6.4",
      "file_extension": ".py",
      "codemirror_mode": {
        "name": "ipython",
        "version": 3
      },
      "name": "python",
      "mimetype": "text/x-python"
    },
    "colab": {
      "name": "amazon-reviews-sentiment-analysis.ipynb",
      "provenance": [],
      "toc_visible": true,
      "machine_shape": "hm"
    },
    "accelerator": "GPU"
  },
  "cells": [
    {
      "cell_type": "code",
      "metadata": {
        "_uuid": "8f2839f25d086af736a60e9eeb907d3b93b6e0e5",
        "_cell_guid": "b1076dfc-b9ad-4769-8c92-a6c4dae69d19",
        "trusted": true,
        "id": "g2A9FFC2OkEw"
      },
      "source": [
        "import numpy as np # linear algebra\n",
        "import pandas as pd # data processing, CSV file I/O (e.g. pd.read_csv)\n",
        "\n",
        "# Input data files are available in the \"../input/\" directory.\n",
        "# For example, running this (by clicking run or pressing Shift+Enter) will list the files in the input directory\n",
        "import bz2\n",
        "import os\n",
        "\n",
        "# Any results you write to the current directory are saved as output."
      ],
      "execution_count": 52,
      "outputs": []
    },
    {
      "cell_type": "code",
      "metadata": {
        "colab": {
          "base_uri": "https://localhost:8080/"
        },
        "id": "StR_pY4zO9LZ",
        "outputId": "03835203-d12a-4410-ae34-34f2e97c4119"
      },
      "source": [
        "from google.colab import drive\n",
        "drive.mount('/content/drive')"
      ],
      "execution_count": 53,
      "outputs": [
        {
          "output_type": "stream",
          "text": [
            "Drive already mounted at /content/drive; to attempt to forcibly remount, call drive.mount(\"/content/drive\", force_remount=True).\n"
          ],
          "name": "stdout"
        }
      ]
    },
    {
      "cell_type": "markdown",
      "metadata": {
        "_uuid": "4b89cb64132fc2b47682356ed9d15f27b8c2df44",
        "id": "X7QAxCoxOkEy"
      },
      "source": [
        "## **FastText File Reading** ##"
      ]
    },
    {
      "cell_type": "code",
      "metadata": {
        "_cell_guid": "79c7e3d0-c299-4dcb-8224-4455121ee9b0",
        "_uuid": "d629ff2d2480ee46fbb7e2d37f6b5fab8052498a",
        "trusted": true,
        "scrolled": true,
        "id": "vMyGEVbyOkEz"
      },
      "source": [
        "trainfile = bz2.BZ2File('/content/drive/MyDrive/DLA/train.ft.txt.bz2','r')\n",
        "lines = trainfile.readlines()"
      ],
      "execution_count": 54,
      "outputs": []
    },
    {
      "cell_type": "code",
      "metadata": {
        "trusted": true,
        "_uuid": "aef8e9f6e6b1d0b2ff0380b4edbd9fae3b9e3907",
        "colab": {
          "base_uri": "https://localhost:8080/"
        },
        "id": "iDz4odmfOkEz",
        "outputId": "c3c21e39-6584-471c-b56f-d0758b4a875f"
      },
      "source": [
        "lines[1]"
      ],
      "execution_count": 55,
      "outputs": [
        {
          "output_type": "execute_result",
          "data": {
            "text/plain": [
              "b\"__label__2 The best soundtrack ever to anything.: I'm reading a lot of reviews saying that this is the best 'game soundtrack' and I figured that I'd write a review to disagree a bit. This in my opinino is Yasunori Mitsuda's ultimate masterpiece. The music is timeless and I'm been listening to it for years now and its beauty simply refuses to fade.The price tag on this is pretty staggering I must say, but if you are going to buy any cd for this much money, this is the only one that I feel would be worth every penny.\\n\""
            ]
          },
          "metadata": {
            "tags": []
          },
          "execution_count": 55
        }
      ]
    },
    {
      "cell_type": "code",
      "metadata": {
        "trusted": true,
        "_uuid": "536b5016a2e3d474f92fe48af49952e9b034ad1a",
        "id": "B3hCmoQjOkEz"
      },
      "source": [
        "docSentimentList=[]\n",
        "def getDocumentSentimentList(docs,splitStr='__label__'):\n",
        "    for i in range(len(docs)):\n",
        "        #print('Processing doc ',i,' of ',len(docs))\n",
        "        text=str(lines[i])\n",
        "        #print(text)\n",
        "        splitText=text.split(splitStr)\n",
        "        secHalf=splitText[1]\n",
        "        text=secHalf[2:len(secHalf)-1]\n",
        "        sentiment=secHalf[0]\n",
        "        #print('First half:',secHalf[0],'\\nsecond half:',secHalf[2:len(secHalf)-1])\n",
        "        docSentimentList.append([text,sentiment])\n",
        "    print('Done!!')\n",
        "    return docSentimentList"
      ],
      "execution_count": 56,
      "outputs": []
    },
    {
      "cell_type": "code",
      "metadata": {
        "trusted": true,
        "_uuid": "f07dcb0532f6db6ebc2c49128dfe46be36516d48",
        "colab": {
          "base_uri": "https://localhost:8080/"
        },
        "id": "8FNgTkz2OkE0",
        "outputId": "3c29af03-29d3-431c-fdea-3ce49e22f2b2"
      },
      "source": [
        "docSentimentList=getDocumentSentimentList(lines[:1000000],splitStr='__label__')"
      ],
      "execution_count": 57,
      "outputs": [
        {
          "output_type": "stream",
          "text": [
            "Done!!\n"
          ],
          "name": "stdout"
        }
      ]
    },
    {
      "cell_type": "code",
      "metadata": {
        "trusted": true,
        "scrolled": true,
        "_uuid": "92c80448167b15cd6dcfa3c31186f579f4e3713d",
        "colab": {
          "base_uri": "https://localhost:8080/",
          "height": 0
        },
        "id": "0yeQnAtNOkE0",
        "outputId": "812ac3e9-0e70-4b20-d180-8de0d9877902"
      },
      "source": [
        "train_df = pd.DataFrame(docSentimentList,columns=['Text','Sentiment'])\n",
        "train_df.head()"
      ],
      "execution_count": 58,
      "outputs": [
        {
          "output_type": "execute_result",
          "data": {
            "text/html": [
              "<div>\n",
              "<style scoped>\n",
              "    .dataframe tbody tr th:only-of-type {\n",
              "        vertical-align: middle;\n",
              "    }\n",
              "\n",
              "    .dataframe tbody tr th {\n",
              "        vertical-align: top;\n",
              "    }\n",
              "\n",
              "    .dataframe thead th {\n",
              "        text-align: right;\n",
              "    }\n",
              "</style>\n",
              "<table border=\"1\" class=\"dataframe\">\n",
              "  <thead>\n",
              "    <tr style=\"text-align: right;\">\n",
              "      <th></th>\n",
              "      <th>Text</th>\n",
              "      <th>Sentiment</th>\n",
              "    </tr>\n",
              "  </thead>\n",
              "  <tbody>\n",
              "    <tr>\n",
              "      <th>0</th>\n",
              "      <td>Stuning even for the non-gamer: This sound tra...</td>\n",
              "      <td>2</td>\n",
              "    </tr>\n",
              "    <tr>\n",
              "      <th>1</th>\n",
              "      <td>The best soundtrack ever to anything.: I'm rea...</td>\n",
              "      <td>2</td>\n",
              "    </tr>\n",
              "    <tr>\n",
              "      <th>2</th>\n",
              "      <td>Amazing!: This soundtrack is my favorite music...</td>\n",
              "      <td>2</td>\n",
              "    </tr>\n",
              "    <tr>\n",
              "      <th>3</th>\n",
              "      <td>Excellent Soundtrack: I truly like this soundt...</td>\n",
              "      <td>2</td>\n",
              "    </tr>\n",
              "    <tr>\n",
              "      <th>4</th>\n",
              "      <td>Remember, Pull Your Jaw Off The Floor After He...</td>\n",
              "      <td>2</td>\n",
              "    </tr>\n",
              "  </tbody>\n",
              "</table>\n",
              "</div>"
            ],
            "text/plain": [
              "                                                Text Sentiment\n",
              "0  Stuning even for the non-gamer: This sound tra...         2\n",
              "1  The best soundtrack ever to anything.: I'm rea...         2\n",
              "2  Amazing!: This soundtrack is my favorite music...         2\n",
              "3  Excellent Soundtrack: I truly like this soundt...         2\n",
              "4  Remember, Pull Your Jaw Off The Floor After He...         2"
            ]
          },
          "metadata": {
            "tags": []
          },
          "execution_count": 58
        }
      ]
    },
    {
      "cell_type": "markdown",
      "metadata": {
        "_uuid": "f2dc09cb731d59eca4e3dd78c35fcff5a94dd49f",
        "id": "Gx1vW2QsOkE0"
      },
      "source": [
        "## **Text Preprocessing**##"
      ]
    },
    {
      "cell_type": "code",
      "metadata": {
        "trusted": true,
        "_uuid": "683233fec1269e400e41500874adcbffb332345c",
        "id": "BvLxcfg6OkE1"
      },
      "source": [
        "train_df['Sentiment'][train_df['Sentiment']=='1'] = 0\n",
        "train_df['Sentiment'][train_df['Sentiment']=='2'] = 1"
      ],
      "execution_count": 59,
      "outputs": []
    },
    {
      "cell_type": "code",
      "metadata": {
        "trusted": true,
        "_uuid": "3f8063dbe35450052ec0de3517b85ce4a1fae6a8",
        "colab": {
          "base_uri": "https://localhost:8080/"
        },
        "id": "sPaFsgOQOkE1",
        "outputId": "c38d9677-059c-47e1-b591-adb13e1599ec"
      },
      "source": [
        "train_df['Sentiment'].value_counts()"
      ],
      "execution_count": 60,
      "outputs": [
        {
          "output_type": "execute_result",
          "data": {
            "text/plain": [
              "1    505678\n",
              "0    494322\n",
              "Name: Sentiment, dtype: int64"
            ]
          },
          "metadata": {
            "tags": []
          },
          "execution_count": 60
        }
      ]
    },
    {
      "cell_type": "code",
      "metadata": {
        "trusted": true,
        "_uuid": "75b28b3366eadef0100e29173c05582580dc3f95",
        "colab": {
          "base_uri": "https://localhost:8080/",
          "height": 197
        },
        "id": "17DzqN3JOkE1",
        "outputId": "a80e21e2-cd39-40fe-9497-21b8b0a50d3d"
      },
      "source": [
        "train_df['word_count'] = train_df['Text'].str.lower().str.split().apply(len)\n",
        "train_df.head()"
      ],
      "execution_count": 61,
      "outputs": [
        {
          "output_type": "execute_result",
          "data": {
            "text/html": [
              "<div>\n",
              "<style scoped>\n",
              "    .dataframe tbody tr th:only-of-type {\n",
              "        vertical-align: middle;\n",
              "    }\n",
              "\n",
              "    .dataframe tbody tr th {\n",
              "        vertical-align: top;\n",
              "    }\n",
              "\n",
              "    .dataframe thead th {\n",
              "        text-align: right;\n",
              "    }\n",
              "</style>\n",
              "<table border=\"1\" class=\"dataframe\">\n",
              "  <thead>\n",
              "    <tr style=\"text-align: right;\">\n",
              "      <th></th>\n",
              "      <th>Text</th>\n",
              "      <th>Sentiment</th>\n",
              "      <th>word_count</th>\n",
              "    </tr>\n",
              "  </thead>\n",
              "  <tbody>\n",
              "    <tr>\n",
              "      <th>0</th>\n",
              "      <td>Stuning even for the non-gamer: This sound tra...</td>\n",
              "      <td>1</td>\n",
              "      <td>80</td>\n",
              "    </tr>\n",
              "    <tr>\n",
              "      <th>1</th>\n",
              "      <td>The best soundtrack ever to anything.: I'm rea...</td>\n",
              "      <td>1</td>\n",
              "      <td>97</td>\n",
              "    </tr>\n",
              "    <tr>\n",
              "      <th>2</th>\n",
              "      <td>Amazing!: This soundtrack is my favorite music...</td>\n",
              "      <td>1</td>\n",
              "      <td>129</td>\n",
              "    </tr>\n",
              "    <tr>\n",
              "      <th>3</th>\n",
              "      <td>Excellent Soundtrack: I truly like this soundt...</td>\n",
              "      <td>1</td>\n",
              "      <td>118</td>\n",
              "    </tr>\n",
              "    <tr>\n",
              "      <th>4</th>\n",
              "      <td>Remember, Pull Your Jaw Off The Floor After He...</td>\n",
              "      <td>1</td>\n",
              "      <td>87</td>\n",
              "    </tr>\n",
              "  </tbody>\n",
              "</table>\n",
              "</div>"
            ],
            "text/plain": [
              "                                                Text Sentiment  word_count\n",
              "0  Stuning even for the non-gamer: This sound tra...         1          80\n",
              "1  The best soundtrack ever to anything.: I'm rea...         1          97\n",
              "2  Amazing!: This soundtrack is my favorite music...         1         129\n",
              "3  Excellent Soundtrack: I truly like this soundt...         1         118\n",
              "4  Remember, Pull Your Jaw Off The Floor After He...         1          87"
            ]
          },
          "metadata": {
            "tags": []
          },
          "execution_count": 61
        }
      ]
    },
    {
      "cell_type": "code",
      "metadata": {
        "trusted": true,
        "_uuid": "d0767e5902af2cd7e494b077eb00255c7b1006f9",
        "id": "7k_SnlOFOkE2"
      },
      "source": [
        "import string \n",
        "def remove_punc(s):\n",
        "    table = str.maketrans({key: None for key in string.punctuation})\n",
        "    return s.translate(table)"
      ],
      "execution_count": 62,
      "outputs": []
    },
    {
      "cell_type": "code",
      "metadata": {
        "trusted": true,
        "_uuid": "dba6809bf46bae742ca20d67c37aa2e56ff4eafd",
        "colab": {
          "base_uri": "https://localhost:8080/"
        },
        "id": "KMg6GrfaOkE2",
        "outputId": "a493adfa-8a4d-45cc-a0ac-0e50ce57da8d"
      },
      "source": [
        "train_df['Text'] = train_df['Text'].apply(remove_punc)\n",
        "train_df.shape"
      ],
      "execution_count": 63,
      "outputs": [
        {
          "output_type": "execute_result",
          "data": {
            "text/plain": [
              "(1000000, 3)"
            ]
          },
          "metadata": {
            "tags": []
          },
          "execution_count": 63
        }
      ]
    },
    {
      "cell_type": "code",
      "metadata": {
        "trusted": true,
        "_uuid": "63fff9c94b851ee5f482968a43ab14a645ea239d",
        "colab": {
          "base_uri": "https://localhost:8080/",
          "height": 197
        },
        "id": "M5p7NjvVOkE2",
        "outputId": "234460b8-7069-4914-bceb-02e01ae0a9bb"
      },
      "source": [
        "train_df.head()"
      ],
      "execution_count": 64,
      "outputs": [
        {
          "output_type": "execute_result",
          "data": {
            "text/html": [
              "<div>\n",
              "<style scoped>\n",
              "    .dataframe tbody tr th:only-of-type {\n",
              "        vertical-align: middle;\n",
              "    }\n",
              "\n",
              "    .dataframe tbody tr th {\n",
              "        vertical-align: top;\n",
              "    }\n",
              "\n",
              "    .dataframe thead th {\n",
              "        text-align: right;\n",
              "    }\n",
              "</style>\n",
              "<table border=\"1\" class=\"dataframe\">\n",
              "  <thead>\n",
              "    <tr style=\"text-align: right;\">\n",
              "      <th></th>\n",
              "      <th>Text</th>\n",
              "      <th>Sentiment</th>\n",
              "      <th>word_count</th>\n",
              "    </tr>\n",
              "  </thead>\n",
              "  <tbody>\n",
              "    <tr>\n",
              "      <th>0</th>\n",
              "      <td>Stuning even for the nongamer This sound track...</td>\n",
              "      <td>1</td>\n",
              "      <td>80</td>\n",
              "    </tr>\n",
              "    <tr>\n",
              "      <th>1</th>\n",
              "      <td>The best soundtrack ever to anything Im readin...</td>\n",
              "      <td>1</td>\n",
              "      <td>97</td>\n",
              "    </tr>\n",
              "    <tr>\n",
              "      <th>2</th>\n",
              "      <td>Amazing This soundtrack is my favorite music o...</td>\n",
              "      <td>1</td>\n",
              "      <td>129</td>\n",
              "    </tr>\n",
              "    <tr>\n",
              "      <th>3</th>\n",
              "      <td>Excellent Soundtrack I truly like this soundtr...</td>\n",
              "      <td>1</td>\n",
              "      <td>118</td>\n",
              "    </tr>\n",
              "    <tr>\n",
              "      <th>4</th>\n",
              "      <td>Remember Pull Your Jaw Off The Floor After Hea...</td>\n",
              "      <td>1</td>\n",
              "      <td>87</td>\n",
              "    </tr>\n",
              "  </tbody>\n",
              "</table>\n",
              "</div>"
            ],
            "text/plain": [
              "                                                Text Sentiment  word_count\n",
              "0  Stuning even for the nongamer This sound track...         1          80\n",
              "1  The best soundtrack ever to anything Im readin...         1          97\n",
              "2  Amazing This soundtrack is my favorite music o...         1         129\n",
              "3  Excellent Soundtrack I truly like this soundtr...         1         118\n",
              "4  Remember Pull Your Jaw Off The Floor After Hea...         1          87"
            ]
          },
          "metadata": {
            "tags": []
          },
          "execution_count": 64
        }
      ]
    },
    {
      "cell_type": "code",
      "metadata": {
        "trusted": true,
        "_uuid": "5114279a3a0bd8e804f1b6b7161c78a6ff3b1fd2",
        "colab": {
          "base_uri": "https://localhost:8080/"
        },
        "id": "USK0Bw9POkE2",
        "outputId": "5067712e-b744-4f29-cd75-b9a7117d2c77"
      },
      "source": [
        "len(train_df['word_count'][train_df['word_count']<=25])"
      ],
      "execution_count": 65,
      "outputs": [
        {
          "output_type": "execute_result",
          "data": {
            "text/plain": [
              "63720"
            ]
          },
          "metadata": {
            "tags": []
          },
          "execution_count": 65
        }
      ]
    },
    {
      "cell_type": "code",
      "metadata": {
        "trusted": true,
        "_uuid": "468933e91e85888311cda22966ba07df282821bf",
        "colab": {
          "base_uri": "https://localhost:8080/",
          "height": 197
        },
        "id": "jW3f1AOGOkE3",
        "outputId": "1c717c02-01a2-46c8-94d9-006ba1d8214c"
      },
      "source": [
        "train_df1 = train_df[:][train_df['word_count']<=25]\n",
        "train_df1.head()"
      ],
      "execution_count": 66,
      "outputs": [
        {
          "output_type": "execute_result",
          "data": {
            "text/html": [
              "<div>\n",
              "<style scoped>\n",
              "    .dataframe tbody tr th:only-of-type {\n",
              "        vertical-align: middle;\n",
              "    }\n",
              "\n",
              "    .dataframe tbody tr th {\n",
              "        vertical-align: top;\n",
              "    }\n",
              "\n",
              "    .dataframe thead th {\n",
              "        text-align: right;\n",
              "    }\n",
              "</style>\n",
              "<table border=\"1\" class=\"dataframe\">\n",
              "  <thead>\n",
              "    <tr style=\"text-align: right;\">\n",
              "      <th></th>\n",
              "      <th>Text</th>\n",
              "      <th>Sentiment</th>\n",
              "      <th>word_count</th>\n",
              "    </tr>\n",
              "  </thead>\n",
              "  <tbody>\n",
              "    <tr>\n",
              "      <th>44</th>\n",
              "      <td>autumn got this for my daughter in NC she is n...</td>\n",
              "      <td>1</td>\n",
              "      <td>22</td>\n",
              "    </tr>\n",
              "    <tr>\n",
              "      <th>58</th>\n",
              "      <td>Hunting the Hard Way Thia was a gift for my Hu...</td>\n",
              "      <td>1</td>\n",
              "      <td>25</td>\n",
              "    </tr>\n",
              "    <tr>\n",
              "      <th>77</th>\n",
              "      <td>Smells divine This is my second bottle of shee...</td>\n",
              "      <td>1</td>\n",
              "      <td>25</td>\n",
              "    </tr>\n",
              "    <tr>\n",
              "      <th>78</th>\n",
              "      <td>Very disappointed This perfume is just AWFUL S...</td>\n",
              "      <td>0</td>\n",
              "      <td>24</td>\n",
              "    </tr>\n",
              "    <tr>\n",
              "      <th>99</th>\n",
              "      <td>Caution These tracks are not the original vers...</td>\n",
              "      <td>0</td>\n",
              "      <td>22</td>\n",
              "    </tr>\n",
              "  </tbody>\n",
              "</table>\n",
              "</div>"
            ],
            "text/plain": [
              "                                                 Text Sentiment  word_count\n",
              "44  autumn got this for my daughter in NC she is n...         1          22\n",
              "58  Hunting the Hard Way Thia was a gift for my Hu...         1          25\n",
              "77  Smells divine This is my second bottle of shee...         1          25\n",
              "78  Very disappointed This perfume is just AWFUL S...         0          24\n",
              "99  Caution These tracks are not the original vers...         0          22"
            ]
          },
          "metadata": {
            "tags": []
          },
          "execution_count": 66
        }
      ]
    },
    {
      "cell_type": "code",
      "metadata": {
        "trusted": true,
        "_uuid": "5ff13d1a2cfbc8029bfab1efcc0c29e1f3364610",
        "colab": {
          "base_uri": "https://localhost:8080/",
          "height": 197
        },
        "id": "LuzP9QCjOkE3",
        "outputId": "21b4f148-bada-43a0-ffea-0a99702b89b2"
      },
      "source": [
        "train_df1.head()"
      ],
      "execution_count": 67,
      "outputs": [
        {
          "output_type": "execute_result",
          "data": {
            "text/html": [
              "<div>\n",
              "<style scoped>\n",
              "    .dataframe tbody tr th:only-of-type {\n",
              "        vertical-align: middle;\n",
              "    }\n",
              "\n",
              "    .dataframe tbody tr th {\n",
              "        vertical-align: top;\n",
              "    }\n",
              "\n",
              "    .dataframe thead th {\n",
              "        text-align: right;\n",
              "    }\n",
              "</style>\n",
              "<table border=\"1\" class=\"dataframe\">\n",
              "  <thead>\n",
              "    <tr style=\"text-align: right;\">\n",
              "      <th></th>\n",
              "      <th>Text</th>\n",
              "      <th>Sentiment</th>\n",
              "      <th>word_count</th>\n",
              "    </tr>\n",
              "  </thead>\n",
              "  <tbody>\n",
              "    <tr>\n",
              "      <th>44</th>\n",
              "      <td>autumn got this for my daughter in NC she is n...</td>\n",
              "      <td>1</td>\n",
              "      <td>22</td>\n",
              "    </tr>\n",
              "    <tr>\n",
              "      <th>58</th>\n",
              "      <td>Hunting the Hard Way Thia was a gift for my Hu...</td>\n",
              "      <td>1</td>\n",
              "      <td>25</td>\n",
              "    </tr>\n",
              "    <tr>\n",
              "      <th>77</th>\n",
              "      <td>Smells divine This is my second bottle of shee...</td>\n",
              "      <td>1</td>\n",
              "      <td>25</td>\n",
              "    </tr>\n",
              "    <tr>\n",
              "      <th>78</th>\n",
              "      <td>Very disappointed This perfume is just AWFUL S...</td>\n",
              "      <td>0</td>\n",
              "      <td>24</td>\n",
              "    </tr>\n",
              "    <tr>\n",
              "      <th>99</th>\n",
              "      <td>Caution These tracks are not the original vers...</td>\n",
              "      <td>0</td>\n",
              "      <td>22</td>\n",
              "    </tr>\n",
              "  </tbody>\n",
              "</table>\n",
              "</div>"
            ],
            "text/plain": [
              "                                                 Text Sentiment  word_count\n",
              "44  autumn got this for my daughter in NC she is n...         1          22\n",
              "58  Hunting the Hard Way Thia was a gift for my Hu...         1          25\n",
              "77  Smells divine This is my second bottle of shee...         1          25\n",
              "78  Very disappointed This perfume is just AWFUL S...         0          24\n",
              "99  Caution These tracks are not the original vers...         0          22"
            ]
          },
          "metadata": {
            "tags": []
          },
          "execution_count": 67
        }
      ]
    },
    {
      "cell_type": "code",
      "metadata": {
        "trusted": true,
        "_uuid": "cc6d482f4252820078b46a793af7c6aeff32cb60",
        "colab": {
          "base_uri": "https://localhost:8080/"
        },
        "id": "Bu3EYat5OkE3",
        "outputId": "735c7a22-080a-483f-d4b2-71946f0541df"
      },
      "source": [
        "train_df1['Sentiment'].value_counts()"
      ],
      "execution_count": 68,
      "outputs": [
        {
          "output_type": "execute_result",
          "data": {
            "text/plain": [
              "1    39932\n",
              "0    23788\n",
              "Name: Sentiment, dtype: int64"
            ]
          },
          "metadata": {
            "tags": []
          },
          "execution_count": 68
        }
      ]
    },
    {
      "cell_type": "code",
      "metadata": {
        "trusted": true,
        "_uuid": "efedbee877d7da4272df8bfd896c9ac25fb208f6",
        "colab": {
          "base_uri": "https://localhost:8080/"
        },
        "id": "fkArfREXOkE3",
        "outputId": "8d1ff762-016c-4255-8a11-1aab44ab669f"
      },
      "source": [
        "from sklearn.feature_extraction import text\n",
        "from sklearn.feature_extraction.text import CountVectorizer\n",
        "st_wd = text.ENGLISH_STOP_WORDS\n",
        "c_vector = CountVectorizer(stop_words = st_wd,min_df=.0001,lowercase=1)\n",
        "c_vector.fit(train_df1['Text'].values)"
      ],
      "execution_count": 69,
      "outputs": [
        {
          "output_type": "execute_result",
          "data": {
            "text/plain": [
              "CountVectorizer(analyzer='word', binary=False, decode_error='strict',\n",
              "                dtype=<class 'numpy.int64'>, encoding='utf-8', input='content',\n",
              "                lowercase=1, max_df=1.0, max_features=None, min_df=0.0001,\n",
              "                ngram_range=(1, 1), preprocessor=None,\n",
              "                stop_words=frozenset({'a', 'about', 'above', 'across', 'after',\n",
              "                                      'afterwards', 'again', 'against', 'all',\n",
              "                                      'almost', 'alone', 'along', 'already',\n",
              "                                      'also', 'although', 'always', 'am',\n",
              "                                      'among', 'amongst', 'amoungst', 'amount',\n",
              "                                      'an', 'and', 'another', 'any', 'anyhow',\n",
              "                                      'anyone', 'anything', 'anyway',\n",
              "                                      'anywhere', ...}),\n",
              "                strip_accents=None, token_pattern='(?u)\\\\b\\\\w\\\\w+\\\\b',\n",
              "                tokenizer=None, vocabulary=None)"
            ]
          },
          "metadata": {
            "tags": []
          },
          "execution_count": 69
        }
      ]
    },
    {
      "cell_type": "code",
      "metadata": {
        "trusted": true,
        "_uuid": "c7780e9bf0102cdd641118fc5d15f3ca03857393",
        "_kg_hide-output": true,
        "id": "87ytRFpSOkE4"
      },
      "source": [
        "word_list = list(c_vector.vocabulary_.keys())\n",
        "stop_words = list(c_vector.stop_words) "
      ],
      "execution_count": 70,
      "outputs": []
    },
    {
      "cell_type": "code",
      "metadata": {
        "trusted": true,
        "_uuid": "b0e784d9e08760e2e5e7e383c61f893c43051a02",
        "colab": {
          "base_uri": "https://localhost:8080/"
        },
        "id": "Z1uHkE5lOkE4",
        "outputId": "3163360e-8f13-4092-bac1-fb6c9654fc4f"
      },
      "source": [
        "len(stop_words),len(word_list)"
      ],
      "execution_count": 71,
      "outputs": [
        {
          "output_type": "execute_result",
          "data": {
            "text/plain": [
              "(318, 8915)"
            ]
          },
          "metadata": {
            "tags": []
          },
          "execution_count": 71
        }
      ]
    },
    {
      "cell_type": "code",
      "metadata": {
        "trusted": true,
        "_uuid": "ec34aae9b79df655c980a3362acb6d4d5ed133c9",
        "id": "70jLFJNGOkE4"
      },
      "source": [
        "def remove_words(raw_sen,stop_words):\n",
        "    sen = [w for w in raw_sen if w not in stop_words]\n",
        "    return sen"
      ],
      "execution_count": 72,
      "outputs": []
    },
    {
      "cell_type": "code",
      "metadata": {
        "trusted": true,
        "_uuid": "14ad88e624e10ce6a9e0b87848bfd06d72203689",
        "id": "OG2TwtwqOkE4"
      },
      "source": [
        "def reviewEdit(raw_sen_list,stop_words):\n",
        "    sen_list = []\n",
        "    for i in range(len(raw_sen_list)):\n",
        "        raw_sen = raw_sen_list[i].split()\n",
        "        sen_list.append(remove_words(raw_sen,stop_words))\n",
        "    return sen_list"
      ],
      "execution_count": 73,
      "outputs": []
    },
    {
      "cell_type": "code",
      "metadata": {
        "trusted": true,
        "_uuid": "c63a3e230b758d238a46b6fc856388837f13ad37",
        "id": "s4egbWi2OkE5"
      },
      "source": [
        "sen_list = reviewEdit(list(train_df1['Text']),stop_words)"
      ],
      "execution_count": 74,
      "outputs": []
    },
    {
      "cell_type": "code",
      "metadata": {
        "trusted": true,
        "_uuid": "1360e6a596b249e7f50e655bedb4daa37c64d075",
        "id": "h7XIkGEuOkE5"
      },
      "source": [
        "from gensim.models import word2vec\n",
        "wv_model = word2vec.Word2Vec(sen_list,size=100)"
      ],
      "execution_count": 75,
      "outputs": []
    },
    {
      "cell_type": "code",
      "metadata": {
        "trusted": true,
        "_uuid": "2a1381a9a6f491fb6b1008fed740c9de7479c3f4",
        "colab": {
          "base_uri": "https://localhost:8080/"
        },
        "id": "tcAHOB2tOkE5",
        "outputId": "65e772ad-c3d2-407b-e268-876c1a4952aa"
      },
      "source": [
        "wv_model.wv.syn0.shape"
      ],
      "execution_count": 76,
      "outputs": [
        {
          "output_type": "stream",
          "text": [
            "/usr/local/lib/python3.7/dist-packages/ipykernel_launcher.py:1: DeprecationWarning: Call to deprecated `syn0` (Attribute will be removed in 4.0.0, use self.wv.vectors instead).\n",
            "  \"\"\"Entry point for launching an IPython kernel.\n"
          ],
          "name": "stderr"
        },
        {
          "output_type": "execute_result",
          "data": {
            "text/plain": [
              "(14350, 100)"
            ]
          },
          "metadata": {
            "tags": []
          },
          "execution_count": 76
        }
      ]
    },
    {
      "cell_type": "code",
      "metadata": {
        "trusted": true,
        "_uuid": "7303d45fb3f4c3194dcad4d3072db0c7e55a12b6",
        "scrolled": true,
        "colab": {
          "base_uri": "https://localhost:8080/"
        },
        "id": "JZTQmk9gOkE5",
        "outputId": "e3c8dc90-fdfc-4960-ed3e-8cfec2e5d391"
      },
      "source": [
        "wv_model.wv.most_similar(\"car\")"
      ],
      "execution_count": 77,
      "outputs": [
        {
          "output_type": "execute_result",
          "data": {
            "text/plain": [
              "[('pair', 0.938689649105072),\n",
              " ('bottle', 0.9342629909515381),\n",
              " ('lights', 0.9340288639068604),\n",
              " ('lunch', 0.9283933043479919),\n",
              " ('computer', 0.9252547025680542),\n",
              " ('cream', 0.9235467910766602),\n",
              " ('lotion', 0.9227983951568604),\n",
              " ('machine', 0.9220359325408936),\n",
              " ('socks', 0.9203299880027771),\n",
              " ('cards', 0.9177193641662598)]"
            ]
          },
          "metadata": {
            "tags": []
          },
          "execution_count": 77
        }
      ]
    },
    {
      "cell_type": "code",
      "metadata": {
        "trusted": true,
        "_uuid": "bde68a4d138c316544d51ecc4b0ddafdd82a2db9",
        "id": "JPkni4toOkE5"
      },
      "source": [
        "def fun(sen_list,wv_model):\n",
        "    word_set = set(wv_model.wv.index2word)\n",
        "    X = np.zeros([len(sen_list),25,100])\n",
        "    c = 0\n",
        "    for sen in sen_list:\n",
        "        nw=24\n",
        "        for w in list(reversed(sen)):\n",
        "            if w in word_set:\n",
        "                X[c,nw] = wv_model[w]\n",
        "                nw=nw-1\n",
        "        c=c+1\n",
        "    return X"
      ],
      "execution_count": 78,
      "outputs": []
    },
    {
      "cell_type": "code",
      "metadata": {
        "trusted": true,
        "_uuid": "068290e799be0e0bc7e66f18e7483503d920914f",
        "colab": {
          "base_uri": "https://localhost:8080/"
        },
        "id": "XwCDCBtWOkE6",
        "outputId": "1713ccb2-bac0-4594-fadd-ed249f73c37b"
      },
      "source": [
        "X = fun(sen_list,wv_model)"
      ],
      "execution_count": 79,
      "outputs": [
        {
          "output_type": "stream",
          "text": [
            "/usr/local/lib/python3.7/dist-packages/ipykernel_launcher.py:9: DeprecationWarning: Call to deprecated `__getitem__` (Method will be removed in 4.0.0, use self.wv.__getitem__() instead).\n",
            "  if __name__ == '__main__':\n"
          ],
          "name": "stderr"
        }
      ]
    },
    {
      "cell_type": "code",
      "metadata": {
        "trusted": true,
        "_uuid": "d23a6ccc69cfdb0ba5ad9349de5ff39cde9a5895",
        "id": "RYLWd2woOkE6"
      },
      "source": [
        "from sklearn.model_selection import train_test_split\n",
        "y = train_df1['Sentiment'].values\n",
        "X_train, X_test, y_train, y_test = train_test_split(X, y, test_size=0.1, random_state=42)\n",
        "y_train = y_train.astype('bool')\n",
        "y_test = y_test.astype('bool')"
      ],
      "execution_count": 80,
      "outputs": []
    },
    {
      "cell_type": "code",
      "metadata": {
        "trusted": true,
        "_uuid": "33b4a55049bc68b7982b37892f11aadbfcc60223",
        "scrolled": true,
        "colab": {
          "base_uri": "https://localhost:8080/"
        },
        "id": "WydxJ72iOkE6",
        "outputId": "8857a65b-c8e1-4735-a7a3-9305a341024f"
      },
      "source": [
        "X_train.shape"
      ],
      "execution_count": 81,
      "outputs": [
        {
          "output_type": "execute_result",
          "data": {
            "text/plain": [
              "(57348, 25, 100)"
            ]
          },
          "metadata": {
            "tags": []
          },
          "execution_count": 81
        }
      ]
    },
    {
      "cell_type": "markdown",
      "metadata": {
        "_uuid": "0a876a352f329557e3f1c37ed13c068fadb17e13",
        "id": "niDWqOG9OkE6"
      },
      "source": [
        " ## **Keras NN Model** ##"
      ]
    },
    {
      "cell_type": "code",
      "metadata": {
        "trusted": true,
        "colab": {
          "base_uri": "https://localhost:8080/"
        },
        "id": "B-hi7rwFOkE6",
        "outputId": "41da045d-1df5-407b-918c-cd171b11baa0"
      },
      "source": [
        "import keras.backend as K\n",
        "from keras.models import Sequential,Model\n",
        "from keras.layers import Dense, Dropout, Activation,LSTM, SimpleRNN ,GRU , Bidirectional,Input ,Concatenate, Multiply,Lambda,Reshape\n",
        "input_st  = Input(shape=(25,100))\n",
        "lstm1 = Bidirectional(LSTM(200,input_shape=(25,100),activation='relu',return_sequences=True),merge_mode='mul')(input_st)\n",
        "lstm2 = Bidirectional(LSTM(1,input_shape=(25,100),activation='relu',return_sequences=True),merge_mode='mul')(lstm1)\n",
        "print(lstm1.shape,' ',lstm2.shape)\n",
        "lstm2 = Reshape((-1,))(lstm2)\n",
        "lstm2 = Activation('sigmoid')(lstm2)\n",
        "lstm2 = Reshape((-1,1))(lstm2)\n",
        "mult = Multiply()([lstm1,lstm2])\n",
        "\n",
        "add = Lambda(lambda x: K.sum(x,axis=1))(mult)\n",
        "dense = Dense(100,activation='relu')(add)\n",
        "output = Dense(1,activation='sigmoid')(dense)\n",
        "\n",
        "model = Model(inputs=input_st, outputs=output)\n",
        "print(model.summary())"
      ],
      "execution_count": 82,
      "outputs": [
        {
          "output_type": "stream",
          "text": [
            "WARNING:tensorflow:Layer lstm_2 will not use cuDNN kernel since it doesn't meet the cuDNN kernel criteria. It will use generic GPU kernel as fallback when running on GPU\n",
            "WARNING:tensorflow:Layer lstm_2 will not use cuDNN kernel since it doesn't meet the cuDNN kernel criteria. It will use generic GPU kernel as fallback when running on GPU\n",
            "WARNING:tensorflow:Layer lstm_2 will not use cuDNN kernel since it doesn't meet the cuDNN kernel criteria. It will use generic GPU kernel as fallback when running on GPU\n",
            "WARNING:tensorflow:Layer lstm_3 will not use cuDNN kernel since it doesn't meet the cuDNN kernel criteria. It will use generic GPU kernel as fallback when running on GPU\n",
            "WARNING:tensorflow:Layer lstm_3 will not use cuDNN kernel since it doesn't meet the cuDNN kernel criteria. It will use generic GPU kernel as fallback when running on GPU\n",
            "WARNING:tensorflow:Layer lstm_3 will not use cuDNN kernel since it doesn't meet the cuDNN kernel criteria. It will use generic GPU kernel as fallback when running on GPU\n",
            "(None, 25, 200)   (None, 25, 1)\n",
            "Model: \"model_5\"\n",
            "__________________________________________________________________________________________________\n",
            "Layer (type)                    Output Shape         Param #     Connected to                     \n",
            "==================================================================================================\n",
            "input_6 (InputLayer)            [(None, 25, 100)]    0                                            \n",
            "__________________________________________________________________________________________________\n",
            "bidirectional_9 (Bidirectional) (None, 25, 200)      481600      input_6[0][0]                    \n",
            "__________________________________________________________________________________________________\n",
            "bidirectional_10 (Bidirectional (None, 25, 1)        1616        bidirectional_9[0][0]            \n",
            "__________________________________________________________________________________________________\n",
            "reshape_10 (Reshape)            (None, 25)           0           bidirectional_10[0][0]           \n",
            "__________________________________________________________________________________________________\n",
            "activation_4 (Activation)       (None, 25)           0           reshape_10[0][0]                 \n",
            "__________________________________________________________________________________________________\n",
            "reshape_11 (Reshape)            (None, 25, 1)        0           activation_4[0][0]               \n",
            "__________________________________________________________________________________________________\n",
            "multiply_4 (Multiply)           (None, 25, 200)      0           bidirectional_9[0][0]            \n",
            "                                                                 reshape_11[0][0]                 \n",
            "__________________________________________________________________________________________________\n",
            "lambda_4 (Lambda)               (None, 200)          0           multiply_4[0][0]                 \n",
            "__________________________________________________________________________________________________\n",
            "dense_10 (Dense)                (None, 100)          20100       lambda_4[0][0]                   \n",
            "__________________________________________________________________________________________________\n",
            "dense_11 (Dense)                (None, 1)            101         dense_10[0][0]                   \n",
            "==================================================================================================\n",
            "Total params: 503,417\n",
            "Trainable params: 503,417\n",
            "Non-trainable params: 0\n",
            "__________________________________________________________________________________________________\n",
            "None\n"
          ],
          "name": "stdout"
        }
      ]
    },
    {
      "cell_type": "code",
      "metadata": {
        "trusted": true,
        "colab": {
          "base_uri": "https://localhost:8080/"
        },
        "id": "anxCKA-oOkE7",
        "outputId": "c5b5d033-fa92-4141-f857-8c379e45bc1f"
      },
      "source": [
        "model.compile(optimizer='adam',\n",
        "              loss='binary_crossentropy',\n",
        "              metrics=['accuracy'])\n",
        "hist = model.fit(X_train,y_train,validation_split=0.1,\n",
        "          epochs=10, batch_size=512)"
      ],
      "execution_count": 83,
      "outputs": [
        {
          "output_type": "stream",
          "text": [
            "Epoch 1/10\n",
            "101/101 [==============================] - 23s 175ms/step - loss: 0.4384 - accuracy: 0.7789 - val_loss: 0.3213 - val_accuracy: 0.8643\n",
            "Epoch 2/10\n",
            "101/101 [==============================] - 17s 167ms/step - loss: 0.3041 - accuracy: 0.8732 - val_loss: 0.2927 - val_accuracy: 0.8727\n",
            "Epoch 3/10\n",
            "101/101 [==============================] - 17s 166ms/step - loss: 0.2800 - accuracy: 0.8809 - val_loss: 0.2744 - val_accuracy: 0.8818\n",
            "Epoch 4/10\n",
            "101/101 [==============================] - 17s 166ms/step - loss: 0.2602 - accuracy: 0.8890 - val_loss: 0.2710 - val_accuracy: 0.8877\n",
            "Epoch 5/10\n",
            "101/101 [==============================] - 17s 164ms/step - loss: 0.2456 - accuracy: 0.8972 - val_loss: 0.2667 - val_accuracy: 0.8882\n",
            "Epoch 6/10\n",
            "101/101 [==============================] - 17s 165ms/step - loss: 0.2380 - accuracy: 0.9003 - val_loss: 0.2559 - val_accuracy: 0.8921\n",
            "Epoch 7/10\n",
            "101/101 [==============================] - 17s 165ms/step - loss: 0.2307 - accuracy: 0.9036 - val_loss: 0.2692 - val_accuracy: 0.8860\n",
            "Epoch 8/10\n",
            "101/101 [==============================] - 17s 164ms/step - loss: 0.2300 - accuracy: 0.9032 - val_loss: 0.2614 - val_accuracy: 0.8921\n",
            "Epoch 9/10\n",
            "101/101 [==============================] - 17s 164ms/step - loss: 0.2098 - accuracy: 0.9125 - val_loss: 0.2571 - val_accuracy: 0.8917\n",
            "Epoch 10/10\n",
            "101/101 [==============================] - 17s 164ms/step - loss: 0.2083 - accuracy: 0.9117 - val_loss: 0.2607 - val_accuracy: 0.8942\n"
          ],
          "name": "stdout"
        }
      ]
    },
    {
      "cell_type": "code",
      "metadata": {
        "trusted": true,
        "colab": {
          "base_uri": "https://localhost:8080/"
        },
        "id": "_aPewlKaOkE7",
        "outputId": "49454755-2c50-4265-a41c-fe464795d1b9"
      },
      "source": [
        "y_test = y_test.astype('bool')\n",
        "model.evaluate(X_test, y_test, batch_size=64)"
      ],
      "execution_count": 88,
      "outputs": [
        {
          "output_type": "stream",
          "text": [
            "100/100 [==============================] - 2s 16ms/step - loss: 0.2553 - accuracy: 0.8975\n"
          ],
          "name": "stdout"
        },
        {
          "output_type": "execute_result",
          "data": {
            "text/plain": [
              "[0.2552695870399475, 0.8975204229354858]"
            ]
          },
          "metadata": {
            "tags": []
          },
          "execution_count": 88
        }
      ]
    },
    {
      "cell_type": "code",
      "metadata": {
        "trusted": true,
        "colab": {
          "base_uri": "https://localhost:8080/"
        },
        "id": "pDEmSbKnOkE7",
        "outputId": "4840fc22-8b8c-4fad-dd1f-aad225bb3590"
      },
      "source": [
        "model.save(\"/content/drive/MyDrive/DLA/BidirectionalLSTM\")"
      ],
      "execution_count": 89,
      "outputs": [
        {
          "output_type": "stream",
          "text": [
            "INFO:tensorflow:Assets written to: /content/drive/MyDrive/DLA/BidirectionalLSTM/assets\n"
          ],
          "name": "stdout"
        }
      ]
    },
    {
      "cell_type": "code",
      "metadata": {
        "id": "BHF6utuEUL1X"
      },
      "source": [
        "del model"
      ],
      "execution_count": 90,
      "outputs": []
    },
    {
      "cell_type": "code",
      "metadata": {
        "colab": {
          "base_uri": "https://localhost:8080/"
        },
        "id": "X_En7xnLUK-G",
        "outputId": "78df8b21-cb4b-4017-ba9b-44561fd075bc"
      },
      "source": [
        "import keras.backend as K\n",
        "from keras.models import Sequential,Model\n",
        "from keras.layers import Dense, Dropout, Activation,LSTM, SimpleRNN ,GRU , Bidirectional,Input ,Concatenate, Multiply,Lambda,Reshape\n",
        "input_st  = Input(shape=(25,100))\n",
        "lstm1 = Bidirectional(GRU(200,input_shape=(25,100),activation='relu',return_sequences=True),merge_mode='mul')(input_st)\n",
        "lstm2 = Bidirectional(GRU(1,input_shape=(25,100),activation='relu',return_sequences=True),merge_mode='mul')(lstm1)\n",
        "print(lstm1.shape,' ',lstm2.shape)\n",
        "lstm2 = Reshape((-1,))(lstm2)\n",
        "lstm2 = Activation('sigmoid')(lstm2)\n",
        "lstm2 = Reshape((-1,1))(lstm2)\n",
        "mult = Multiply()([lstm1,lstm2])\n",
        "\n",
        "add = Lambda(lambda x: K.sum(x,axis=1))(mult)\n",
        "dense = Dense(100,activation='relu')(add)\n",
        "output = Dense(1,activation='sigmoid')(dense)\n",
        "\n",
        "model = Model(inputs=input_st, outputs=output)\n",
        "print(model.summary())"
      ],
      "execution_count": 91,
      "outputs": [
        {
          "output_type": "stream",
          "text": [
            "WARNING:tensorflow:Layer gru_7 will not use cuDNN kernel since it doesn't meet the cuDNN kernel criteria. It will use generic GPU kernel as fallback when running on GPU\n",
            "WARNING:tensorflow:Layer gru_7 will not use cuDNN kernel since it doesn't meet the cuDNN kernel criteria. It will use generic GPU kernel as fallback when running on GPU\n",
            "WARNING:tensorflow:Layer gru_7 will not use cuDNN kernel since it doesn't meet the cuDNN kernel criteria. It will use generic GPU kernel as fallback when running on GPU\n",
            "WARNING:tensorflow:Layer gru_8 will not use cuDNN kernel since it doesn't meet the cuDNN kernel criteria. It will use generic GPU kernel as fallback when running on GPU\n",
            "WARNING:tensorflow:Layer gru_8 will not use cuDNN kernel since it doesn't meet the cuDNN kernel criteria. It will use generic GPU kernel as fallback when running on GPU\n",
            "WARNING:tensorflow:Layer gru_8 will not use cuDNN kernel since it doesn't meet the cuDNN kernel criteria. It will use generic GPU kernel as fallback when running on GPU\n",
            "(None, 25, 200)   (None, 25, 1)\n",
            "Model: \"model_6\"\n",
            "__________________________________________________________________________________________________\n",
            "Layer (type)                    Output Shape         Param #     Connected to                     \n",
            "==================================================================================================\n",
            "input_7 (InputLayer)            [(None, 25, 100)]    0                                            \n",
            "__________________________________________________________________________________________________\n",
            "bidirectional_11 (Bidirectional (None, 25, 200)      362400      input_7[0][0]                    \n",
            "__________________________________________________________________________________________________\n",
            "bidirectional_12 (Bidirectional (None, 25, 1)        1218        bidirectional_11[0][0]           \n",
            "__________________________________________________________________________________________________\n",
            "reshape_12 (Reshape)            (None, 25)           0           bidirectional_12[0][0]           \n",
            "__________________________________________________________________________________________________\n",
            "activation_5 (Activation)       (None, 25)           0           reshape_12[0][0]                 \n",
            "__________________________________________________________________________________________________\n",
            "reshape_13 (Reshape)            (None, 25, 1)        0           activation_5[0][0]               \n",
            "__________________________________________________________________________________________________\n",
            "multiply_5 (Multiply)           (None, 25, 200)      0           bidirectional_11[0][0]           \n",
            "                                                                 reshape_13[0][0]                 \n",
            "__________________________________________________________________________________________________\n",
            "lambda_5 (Lambda)               (None, 200)          0           multiply_5[0][0]                 \n",
            "__________________________________________________________________________________________________\n",
            "dense_12 (Dense)                (None, 100)          20100       lambda_5[0][0]                   \n",
            "__________________________________________________________________________________________________\n",
            "dense_13 (Dense)                (None, 1)            101         dense_12[0][0]                   \n",
            "==================================================================================================\n",
            "Total params: 383,819\n",
            "Trainable params: 383,819\n",
            "Non-trainable params: 0\n",
            "__________________________________________________________________________________________________\n",
            "None\n"
          ],
          "name": "stdout"
        }
      ]
    },
    {
      "cell_type": "code",
      "metadata": {
        "colab": {
          "base_uri": "https://localhost:8080/"
        },
        "id": "xja1b7udUTYL",
        "outputId": "22bd87b3-9830-4f14-ff45-8227c00be6e9"
      },
      "source": [
        "model.compile(optimizer='adam',\n",
        "              loss='binary_crossentropy',\n",
        "              metrics=['accuracy'])\n",
        "hist = model.fit(X_train,y_train,validation_split=0.1,\n",
        "          epochs=10, batch_size=512)"
      ],
      "execution_count": 92,
      "outputs": [
        {
          "output_type": "stream",
          "text": [
            "Epoch 1/10\n",
            "101/101 [==============================] - 28s 229ms/step - loss: 0.4169 - accuracy: 0.7888 - val_loss: 0.3172 - val_accuracy: 0.8649\n",
            "Epoch 2/10\n",
            "101/101 [==============================] - 22s 220ms/step - loss: 0.2965 - accuracy: 0.8748 - val_loss: 0.2856 - val_accuracy: 0.8785\n",
            "Epoch 3/10\n",
            "101/101 [==============================] - 22s 220ms/step - loss: 0.2743 - accuracy: 0.8838 - val_loss: 0.2742 - val_accuracy: 0.8830\n",
            "Epoch 4/10\n",
            "101/101 [==============================] - 22s 219ms/step - loss: 0.2523 - accuracy: 0.8943 - val_loss: 0.2678 - val_accuracy: 0.8875\n",
            "Epoch 5/10\n",
            "101/101 [==============================] - 22s 217ms/step - loss: 0.2446 - accuracy: 0.8971 - val_loss: 0.2607 - val_accuracy: 0.8928\n",
            "Epoch 6/10\n",
            "101/101 [==============================] - 22s 217ms/step - loss: 0.2379 - accuracy: 0.8987 - val_loss: 0.2625 - val_accuracy: 0.8945\n",
            "Epoch 7/10\n",
            "101/101 [==============================] - 22s 218ms/step - loss: 0.2225 - accuracy: 0.9074 - val_loss: 0.2641 - val_accuracy: 0.8907\n",
            "Epoch 8/10\n",
            "101/101 [==============================] - 22s 217ms/step - loss: 0.2138 - accuracy: 0.9121 - val_loss: 0.2589 - val_accuracy: 0.8943\n",
            "Epoch 9/10\n",
            "101/101 [==============================] - 22s 216ms/step - loss: 0.2015 - accuracy: 0.9168 - val_loss: 0.2766 - val_accuracy: 0.8882\n",
            "Epoch 10/10\n",
            "101/101 [==============================] - 22s 216ms/step - loss: 0.1887 - accuracy: 0.9209 - val_loss: 0.2799 - val_accuracy: 0.8867\n"
          ],
          "name": "stdout"
        }
      ]
    },
    {
      "cell_type": "code",
      "metadata": {
        "colab": {
          "base_uri": "https://localhost:8080/"
        },
        "id": "AXBk9Ub0UV-N",
        "outputId": "880f7bf2-7045-4c46-c86f-797d64bb0b46"
      },
      "source": [
        "model.evaluate(X_test, y_test, batch_size=64)"
      ],
      "execution_count": 93,
      "outputs": [
        {
          "output_type": "stream",
          "text": [
            "100/100 [==============================] - 3s 20ms/step - loss: 0.2642 - accuracy: 0.8963\n"
          ],
          "name": "stdout"
        },
        {
          "output_type": "execute_result",
          "data": {
            "text/plain": [
              "[0.26421162486076355, 0.896264910697937]"
            ]
          },
          "metadata": {
            "tags": []
          },
          "execution_count": 93
        }
      ]
    },
    {
      "cell_type": "code",
      "metadata": {
        "colab": {
          "base_uri": "https://localhost:8080/"
        },
        "id": "c3w6eHV1UX6b",
        "outputId": "e9c2f6eb-41fe-4768-81e9-0cb55ccb2992"
      },
      "source": [
        "model.save(\"/content/drive/MyDrive/DLA/BidirectionalGRU\")"
      ],
      "execution_count": 94,
      "outputs": [
        {
          "output_type": "stream",
          "text": [
            "INFO:tensorflow:Assets written to: /content/drive/MyDrive/DLA/BidirectionalGRU/assets\n"
          ],
          "name": "stdout"
        }
      ]
    }
  ]
}