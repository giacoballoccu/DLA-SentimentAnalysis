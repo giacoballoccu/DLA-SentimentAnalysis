{
 "nbformat": 4,
 "nbformat_minor": 0,
 "metadata": {
  "accelerator": "GPU",
  "colab": {
   "name": "SentimentalAnalysisColab.ipynb",
   "provenance": [],
   "collapsed_sections": [
    "X7QAxCoxOkEy",
    "MQquB_K2OHLc",
    "AVOOc-cYcaSG"
   ],
   "toc_visible": true,
   "machine_shape": "hm"
  },
  "kernelspec": {
   "display_name": "Python 3",
   "language": "python",
   "name": "python3"
  },
  "language_info": {
   "codemirror_mode": {
    "name": "ipython",
    "version": 3
   },
   "file_extension": ".py",
   "mimetype": "text/x-python",
   "name": "python",
   "nbconvert_exporter": "python",
   "pygments_lexer": "ipython3",
   "version": "3.6.4"
  }
 },
 "cells": [
  {
   "cell_type": "code",
   "metadata": {
    "id": "g2A9FFC2OkEw"
   },
   "source": [
    "import numpy as np # linear algebra\n",
    "import pandas as pd # data processing, CSV file I/O (e.g. pd.read_csv)\n",
    "import time\n",
    "# Input data files are available in the \"../input/\" directory.\n",
    "# For example, running this (by clicking run or pressing Shift+Enter) will list the files in the input directory\n",
    "import bz2\n",
    "import os\n",
    "\n",
    "# Any results you write to the current directory are saved as output.\n"
   ],
   "execution_count": 1,
   "outputs": []
  },
  {
   "cell_type": "code",
   "metadata": {
    "colab": {
     "base_uri": "https://localhost:8080/"
    },
    "id": "2q92x7MUEiVc",
    "outputId": "eae7e21f-04b1-47dc-92a2-0f148514155f"
   },
   "source": [
    "import sklearn\n",
    "print('The scikit-learn version is {}.'.format(sklearn.__version__))\n"
   ],
   "execution_count": 2,
   "outputs": [
    {
     "output_type": "stream",
     "text": [
      "The scikit-learn version is 0.22.2.post1.\n"
     ],
     "name": "stdout"
    }
   ]
  },
  {
   "cell_type": "code",
   "metadata": {
    "colab": {
     "base_uri": "https://localhost:8080/"
    },
    "id": "StR_pY4zO9LZ",
    "outputId": "4f47ecb4-4da7-4acc-ba3d-aef3d9887453",
    "pycharm": {
     "name": "#%%\n"
    }
   },
   "source": [
    "from google.colab import drive\n",
    "drive.mount('/content/drive')"
   ],
   "execution_count": 3,
   "outputs": [
    {
     "output_type": "stream",
     "text": [
      "Mounted at /content/drive\n"
     ],
     "name": "stdout"
    }
   ]
  },
  {
   "cell_type": "markdown",
   "metadata": {
    "id": "X7QAxCoxOkEy",
    "pycharm": {
     "name": "#%% md\n"
    }
   },
   "source": [
    "# File reading"
   ]
  },
  {
   "cell_type": "code",
   "metadata": {
    "id": "vMyGEVbyOkEz",
    "scrolled": true
   },
   "source": [
    "trainfile = bz2.BZ2File('/content/drive/MyDrive/DLA/train.ft.txt.bz2','r')\n",
    "lines = trainfile.readlines()"
   ],
   "execution_count": 4,
   "outputs": []
  },
  {
   "cell_type": "code",
   "metadata": {
    "colab": {
     "base_uri": "https://localhost:8080/"
    },
    "id": "iDz4odmfOkEz",
    "outputId": "55adee8f-2d55-4f77-b69a-2f948d4d10e5"
   },
   "source": [
    "lines[1]"
   ],
   "execution_count": 5,
   "outputs": [
    {
     "output_type": "execute_result",
     "data": {
      "text/plain": [
       "b\"__label__2 The best soundtrack ever to anything.: I'm reading a lot of reviews saying that this is the best 'game soundtrack' and I figured that I'd write a review to disagree a bit. This in my opinino is Yasunori Mitsuda's ultimate masterpiece. The music is timeless and I'm been listening to it for years now and its beauty simply refuses to fade.The price tag on this is pretty staggering I must say, but if you are going to buy any cd for this much money, this is the only one that I feel would be worth every penny.\\n\""
      ]
     },
     "metadata": {
      "tags": []
     },
     "execution_count": 5
    }
   ]
  },
  {
   "cell_type": "code",
   "metadata": {
    "id": "B3hCmoQjOkEz"
   },
   "source": [
    "docSentimentList=[]\n",
    "def getDocumentSentimentList(docs,splitStr='__label__'):\n",
    "    for i in range(len(docs)):\n",
    "        #print('Processing doc ',i,' of ',len(docs))\n",
    "        text=str(lines[i])\n",
    "        #print(text)\n",
    "        splitText=text.split(splitStr)\n",
    "        secHalf=splitText[1]\n",
    "        text=secHalf[2:len(secHalf)-1]\n",
    "        sentiment=secHalf[0]\n",
    "        #print('First half:',secHalf[0],'\\nsecond half:',secHalf[2:len(secHalf)-1])\n",
    "        docSentimentList.append([text,sentiment])\n",
    "    print('Done!!')\n",
    "    return docSentimentList"
   ],
   "execution_count": 6,
   "outputs": []
  },
  {
   "cell_type": "code",
   "metadata": {
    "colab": {
     "base_uri": "https://localhost:8080/"
    },
    "id": "8FNgTkz2OkE0",
    "outputId": "4019294a-091b-4b0d-d749-d9cef2827b69"
   },
   "source": [
    "docSentimentList=getDocumentSentimentList(lines[:1000000],splitStr='__label__')"
   ],
   "execution_count": 7,
   "outputs": [
    {
     "output_type": "stream",
     "text": [
      "Done!!\n"
     ],
     "name": "stdout"
    }
   ]
  },
  {
   "cell_type": "code",
   "metadata": {
    "colab": {
     "base_uri": "https://localhost:8080/",
     "height": 0
    },
    "id": "0yeQnAtNOkE0",
    "scrolled": true,
    "outputId": "8887807e-66b3-4380-9155-de88c4da0623"
   },
   "source": [
    "train_df = pd.DataFrame(docSentimentList,columns=['Text','Sentiment'])\n",
    "train_df.head()"
   ],
   "execution_count": 8,
   "outputs": [
    {
     "output_type": "execute_result",
     "data": {
      "text/html": [
       "<div>\n",
       "<style scoped>\n",
       "    .dataframe tbody tr th:only-of-type {\n",
       "        vertical-align: middle;\n",
       "    }\n",
       "\n",
       "    .dataframe tbody tr th {\n",
       "        vertical-align: top;\n",
       "    }\n",
       "\n",
       "    .dataframe thead th {\n",
       "        text-align: right;\n",
       "    }\n",
       "</style>\n",
       "<table border=\"1\" class=\"dataframe\">\n",
       "  <thead>\n",
       "    <tr style=\"text-align: right;\">\n",
       "      <th></th>\n",
       "      <th>Text</th>\n",
       "      <th>Sentiment</th>\n",
       "    </tr>\n",
       "  </thead>\n",
       "  <tbody>\n",
       "    <tr>\n",
       "      <th>0</th>\n",
       "      <td>Stuning even for the non-gamer: This sound tra...</td>\n",
       "      <td>2</td>\n",
       "    </tr>\n",
       "    <tr>\n",
       "      <th>1</th>\n",
       "      <td>The best soundtrack ever to anything.: I'm rea...</td>\n",
       "      <td>2</td>\n",
       "    </tr>\n",
       "    <tr>\n",
       "      <th>2</th>\n",
       "      <td>Amazing!: This soundtrack is my favorite music...</td>\n",
       "      <td>2</td>\n",
       "    </tr>\n",
       "    <tr>\n",
       "      <th>3</th>\n",
       "      <td>Excellent Soundtrack: I truly like this soundt...</td>\n",
       "      <td>2</td>\n",
       "    </tr>\n",
       "    <tr>\n",
       "      <th>4</th>\n",
       "      <td>Remember, Pull Your Jaw Off The Floor After He...</td>\n",
       "      <td>2</td>\n",
       "    </tr>\n",
       "  </tbody>\n",
       "</table>\n",
       "</div>"
      ],
      "text/plain": [
       "                                                Text Sentiment\n",
       "0  Stuning even for the non-gamer: This sound tra...         2\n",
       "1  The best soundtrack ever to anything.: I'm rea...         2\n",
       "2  Amazing!: This soundtrack is my favorite music...         2\n",
       "3  Excellent Soundtrack: I truly like this soundt...         2\n",
       "4  Remember, Pull Your Jaw Off The Floor After He...         2"
      ]
     },
     "metadata": {
      "tags": []
     },
     "execution_count": 8
    }
   ]
  },
  {
   "cell_type": "code",
   "metadata": {
    "id": "BvLxcfg6OkE1"
   },
   "source": [
    "train_df['Sentiment'][train_df['Sentiment']=='1'] = 0\n",
    "train_df['Sentiment'][train_df['Sentiment']=='2'] = 1"
   ],
   "execution_count": 9,
   "outputs": []
  },
  {
   "cell_type": "code",
   "metadata": {
    "colab": {
     "base_uri": "https://localhost:8080/",
     "height": 0
    },
    "id": "zeiA_YDAJcdb",
    "outputId": "5a1f57e3-228e-4e26-e5a0-a06dddebc71c",
    "pycharm": {
     "name": "#%%\n"
    }
   },
   "source": [
    "train_df['word_count'] = train_df['Text'].str.lower().str.split().apply(len)\n",
    "train_df.head()"
   ],
   "execution_count": 10,
   "outputs": [
    {
     "output_type": "execute_result",
     "data": {
      "text/html": [
       "<div>\n",
       "<style scoped>\n",
       "    .dataframe tbody tr th:only-of-type {\n",
       "        vertical-align: middle;\n",
       "    }\n",
       "\n",
       "    .dataframe tbody tr th {\n",
       "        vertical-align: top;\n",
       "    }\n",
       "\n",
       "    .dataframe thead th {\n",
       "        text-align: right;\n",
       "    }\n",
       "</style>\n",
       "<table border=\"1\" class=\"dataframe\">\n",
       "  <thead>\n",
       "    <tr style=\"text-align: right;\">\n",
       "      <th></th>\n",
       "      <th>Text</th>\n",
       "      <th>Sentiment</th>\n",
       "      <th>word_count</th>\n",
       "    </tr>\n",
       "  </thead>\n",
       "  <tbody>\n",
       "    <tr>\n",
       "      <th>0</th>\n",
       "      <td>Stuning even for the non-gamer: This sound tra...</td>\n",
       "      <td>1</td>\n",
       "      <td>80</td>\n",
       "    </tr>\n",
       "    <tr>\n",
       "      <th>1</th>\n",
       "      <td>The best soundtrack ever to anything.: I'm rea...</td>\n",
       "      <td>1</td>\n",
       "      <td>97</td>\n",
       "    </tr>\n",
       "    <tr>\n",
       "      <th>2</th>\n",
       "      <td>Amazing!: This soundtrack is my favorite music...</td>\n",
       "      <td>1</td>\n",
       "      <td>129</td>\n",
       "    </tr>\n",
       "    <tr>\n",
       "      <th>3</th>\n",
       "      <td>Excellent Soundtrack: I truly like this soundt...</td>\n",
       "      <td>1</td>\n",
       "      <td>118</td>\n",
       "    </tr>\n",
       "    <tr>\n",
       "      <th>4</th>\n",
       "      <td>Remember, Pull Your Jaw Off The Floor After He...</td>\n",
       "      <td>1</td>\n",
       "      <td>87</td>\n",
       "    </tr>\n",
       "  </tbody>\n",
       "</table>\n",
       "</div>"
      ],
      "text/plain": [
       "                                                Text Sentiment  word_count\n",
       "0  Stuning even for the non-gamer: This sound tra...         1          80\n",
       "1  The best soundtrack ever to anything.: I'm rea...         1          97\n",
       "2  Amazing!: This soundtrack is my favorite music...         1         129\n",
       "3  Excellent Soundtrack: I truly like this soundt...         1         118\n",
       "4  Remember, Pull Your Jaw Off The Floor After He...         1          87"
      ]
     },
     "metadata": {
      "tags": []
     },
     "execution_count": 10
    }
   ]
  },
  {
   "cell_type": "markdown",
   "metadata": {
    "id": "MQquB_K2OHLc",
    "pycharm": {
     "name": "#%% md\n"
    }
   },
   "source": [
    "# Data composition and visualization"
   ]
  },
  {
   "cell_type": "code",
   "metadata": {
    "colab": {
     "base_uri": "https://localhost:8080/"
    },
    "id": "KBhk3-5gOMyl",
    "outputId": "2cd4923f-5890-4c98-96f8-f85685437557"
   },
   "source": [
    "train_df['Sentiment'].value_counts()"
   ],
   "execution_count": null,
   "outputs": [
    {
     "output_type": "execute_result",
     "data": {
      "text/plain": [
       "1    505678\n",
       "0    494322\n",
       "Name: Sentiment, dtype: int64"
      ]
     },
     "metadata": {
      "tags": []
     },
     "execution_count": 10
    }
   ]
  },
  {
   "cell_type": "code",
   "metadata": {
    "colab": {
     "base_uri": "https://localhost:8080/"
    },
    "id": "k78YjGDMM-eP",
    "outputId": "19abef59-420d-4e76-8a3c-e5e02ff30c1e"
   },
   "source": [
    "import seaborn as sns\n",
    "sns.set(style=\"darkgrid\")\n",
    "sns.countplot(x=\"Sentiment\", data=train_df)"
   ],
   "execution_count": null,
   "outputs": [
    {
     "output_type": "execute_result",
     "data": {
      "text/plain": [
       "<matplotlib.axes._subplots.AxesSubplot at 0x7faef47f20d0>"
      ]
     },
     "metadata": {
      "tags": []
     },
     "execution_count": 11
    },
    {
     "output_type": "display_data",
     "data": {
      "image/png": "[encoded data removed]",
      "text/plain": [
       "<Figure size 432x288 with 1 Axes>"
      ]
     },
     "metadata": {
      "tags": []
     }
    }
   ]
  },
  {
   "cell_type": "code",
   "metadata": {
    "colab": {
     "base_uri": "https://localhost:8080/",
     "height": 515
    },
    "id": "MeKJv_N8MWnS",
    "outputId": "3f3e7c87-6671-4acf-a9f4-706ddae5d1d8",
    "pycharm": {
     "name": "#%%\n"
    }
   },
   "source": [
    "train_df['word_count'].plot(bins=50, kind='hist',figsize = (10,8)).set_xlabel(\"Word count\")\n"
   ],
   "execution_count": 116,
   "outputs": [
    {
     "output_type": "execute_result",
     "data": {
      "text/plain": [
       "Text(0.5, 0, 'Word count')"
      ]
     },
     "metadata": {
      "tags": []
     },
     "execution_count": 116
    },
    {
     "output_type": "display_data",
     "data": {
      "image/png": "[encoded data removed]",
      "text/plain": [
       "<Figure size 720x576 with 1 Axes>"
      ]
     },
     "metadata": {
      "tags": [],
      "needs_background": "light"
     }
    }
   ]
  },
  {
   "cell_type": "markdown",
   "metadata": {
    "id": "Gx1vW2QsOkE0",
    "pycharm": {
     "name": "#%% md\n"
    }
   },
   "source": [
    "# Text preprocessing\n"
   ]
  },
  {
   "cell_type": "code",
   "metadata": {
    "id": "7k_SnlOFOkE2"
   },
   "source": [
    "import string \n",
    "import re\n",
    "def remove_punc(s):\n",
    "    table = str.maketrans({key: None for key in string.punctuation})\n",
    "    return s.translate(table)\n",
    "def remove_url(text):\n",
    "     url=re.compile(r\"https?://\\S+|www\\.\\S+\")\n",
    "     return url.sub(r\" \",text)\n",
    "\n",
    "def remove_html(text):\n",
    "  cleanr = re.compile('<.*?>')\n",
    "  return cleanr.sub(r\" \",text)\n",
    "\n",
    "def remove_num(text):\n",
    "   output = re.sub(r'\\d+', '', text)\n",
    "   return output"
   ],
   "execution_count": 11,
   "outputs": []
  },
  {
   "cell_type": "code",
   "metadata": {
    "colab": {
     "base_uri": "https://localhost:8080/"
    },
    "id": "KMg6GrfaOkE2",
    "outputId": "4027d8a6-ccb8-4186-b386-dc7627256c03"
   },
   "source": [
    "train_df['Text'] = train_df['Text'].apply(remove_punc)\n",
    "train_df['Text'] = train_df['Text'].apply(remove_html)\n",
    "train_df['Text'] = train_df['Text'].apply(remove_url)\n",
    "train_df['Text'] = train_df['Text'].apply(remove_num)\n",
    "\n",
    "train_df.shape"
   ],
   "execution_count": 12,
   "outputs": [
    {
     "output_type": "execute_result",
     "data": {
      "text/plain": [
       "(1000000, 3)"
      ]
     },
     "metadata": {
      "tags": []
     },
     "execution_count": 12
    }
   ]
  },
  {
   "cell_type": "code",
   "metadata": {
    "colab": {
     "base_uri": "https://localhost:8080/",
     "height": 197
    },
    "id": "M5p7NjvVOkE2",
    "outputId": "476cd065-5dfc-4af8-b448-081a0c63c96e"
   },
   "source": [
    "train_df.head()"
   ],
   "execution_count": 13,
   "outputs": [
    {
     "output_type": "execute_result",
     "data": {
      "text/html": [
       "<div>\n",
       "<style scoped>\n",
       "    .dataframe tbody tr th:only-of-type {\n",
       "        vertical-align: middle;\n",
       "    }\n",
       "\n",
       "    .dataframe tbody tr th {\n",
       "        vertical-align: top;\n",
       "    }\n",
       "\n",
       "    .dataframe thead th {\n",
       "        text-align: right;\n",
       "    }\n",
       "</style>\n",
       "<table border=\"1\" class=\"dataframe\">\n",
       "  <thead>\n",
       "    <tr style=\"text-align: right;\">\n",
       "      <th></th>\n",
       "      <th>Text</th>\n",
       "      <th>Sentiment</th>\n",
       "      <th>word_count</th>\n",
       "    </tr>\n",
       "  </thead>\n",
       "  <tbody>\n",
       "    <tr>\n",
       "      <th>0</th>\n",
       "      <td>Stuning even for the nongamer This sound track...</td>\n",
       "      <td>1</td>\n",
       "      <td>80</td>\n",
       "    </tr>\n",
       "    <tr>\n",
       "      <th>1</th>\n",
       "      <td>The best soundtrack ever to anything Im readin...</td>\n",
       "      <td>1</td>\n",
       "      <td>97</td>\n",
       "    </tr>\n",
       "    <tr>\n",
       "      <th>2</th>\n",
       "      <td>Amazing This soundtrack is my favorite music o...</td>\n",
       "      <td>1</td>\n",
       "      <td>129</td>\n",
       "    </tr>\n",
       "    <tr>\n",
       "      <th>3</th>\n",
       "      <td>Excellent Soundtrack I truly like this soundtr...</td>\n",
       "      <td>1</td>\n",
       "      <td>118</td>\n",
       "    </tr>\n",
       "    <tr>\n",
       "      <th>4</th>\n",
       "      <td>Remember Pull Your Jaw Off The Floor After Hea...</td>\n",
       "      <td>1</td>\n",
       "      <td>87</td>\n",
       "    </tr>\n",
       "  </tbody>\n",
       "</table>\n",
       "</div>"
      ],
      "text/plain": [
       "                                                Text Sentiment  word_count\n",
       "0  Stuning even for the nongamer This sound track...         1          80\n",
       "1  The best soundtrack ever to anything Im readin...         1          97\n",
       "2  Amazing This soundtrack is my favorite music o...         1         129\n",
       "3  Excellent Soundtrack I truly like this soundtr...         1         118\n",
       "4  Remember Pull Your Jaw Off The Floor After Hea...         1          87"
      ]
     },
     "metadata": {
      "tags": []
     },
     "execution_count": 13
    }
   ]
  },
  {
   "cell_type": "code",
   "metadata": {
    "colab": {
     "base_uri": "https://localhost:8080/"
    },
    "id": "USK0Bw9POkE2",
    "outputId": "52244342-5db6-41c3-d828-5397d9b8d091"
   },
   "source": [
    "len(train_df['word_count'][train_df['word_count']<=25])"
   ],
   "execution_count": 14,
   "outputs": [
    {
     "output_type": "execute_result",
     "data": {
      "text/plain": [
       "63720"
      ]
     },
     "metadata": {
      "tags": []
     },
     "execution_count": 14
    }
   ]
  },
  {
   "cell_type": "code",
   "metadata": {
    "colab": {
     "base_uri": "https://localhost:8080/",
     "height": 197
    },
    "id": "jW3f1AOGOkE3",
    "outputId": "9c87964a-7637-4d95-e7c8-afb2052c8108"
   },
   "source": [
    "train_df1 = train_df[:][train_df['word_count']<=25]\n",
    "train_df1.head()"
   ],
   "execution_count": 15,
   "outputs": [
    {
     "output_type": "execute_result",
     "data": {
      "text/html": [
       "<div>\n",
       "<style scoped>\n",
       "    .dataframe tbody tr th:only-of-type {\n",
       "        vertical-align: middle;\n",
       "    }\n",
       "\n",
       "    .dataframe tbody tr th {\n",
       "        vertical-align: top;\n",
       "    }\n",
       "\n",
       "    .dataframe thead th {\n",
       "        text-align: right;\n",
       "    }\n",
       "</style>\n",
       "<table border=\"1\" class=\"dataframe\">\n",
       "  <thead>\n",
       "    <tr style=\"text-align: right;\">\n",
       "      <th></th>\n",
       "      <th>Text</th>\n",
       "      <th>Sentiment</th>\n",
       "      <th>word_count</th>\n",
       "    </tr>\n",
       "  </thead>\n",
       "  <tbody>\n",
       "    <tr>\n",
       "      <th>44</th>\n",
       "      <td>autumn got this for my daughter in NC she is n...</td>\n",
       "      <td>1</td>\n",
       "      <td>22</td>\n",
       "    </tr>\n",
       "    <tr>\n",
       "      <th>58</th>\n",
       "      <td>Hunting the Hard Way Thia was a gift for my Hu...</td>\n",
       "      <td>1</td>\n",
       "      <td>25</td>\n",
       "    </tr>\n",
       "    <tr>\n",
       "      <th>77</th>\n",
       "      <td>Smells divine This is my second bottle of shee...</td>\n",
       "      <td>1</td>\n",
       "      <td>25</td>\n",
       "    </tr>\n",
       "    <tr>\n",
       "      <th>78</th>\n",
       "      <td>Very disappointed This perfume is just AWFUL S...</td>\n",
       "      <td>0</td>\n",
       "      <td>24</td>\n",
       "    </tr>\n",
       "    <tr>\n",
       "      <th>99</th>\n",
       "      <td>Caution These tracks are not the original vers...</td>\n",
       "      <td>0</td>\n",
       "      <td>22</td>\n",
       "    </tr>\n",
       "  </tbody>\n",
       "</table>\n",
       "</div>"
      ],
      "text/plain": [
       "                                                 Text Sentiment  word_count\n",
       "44  autumn got this for my daughter in NC she is n...         1          22\n",
       "58  Hunting the Hard Way Thia was a gift for my Hu...         1          25\n",
       "77  Smells divine This is my second bottle of shee...         1          25\n",
       "78  Very disappointed This perfume is just AWFUL S...         0          24\n",
       "99  Caution These tracks are not the original vers...         0          22"
      ]
     },
     "metadata": {
      "tags": []
     },
     "execution_count": 15
    }
   ]
  },
  {
   "cell_type": "code",
   "metadata": {
    "colab": {
     "base_uri": "https://localhost:8080/"
    },
    "id": "Bu3EYat5OkE3",
    "outputId": "d28574ec-7f96-421b-cc44-3bd1388b6a91"
   },
   "source": [
    "train_df1['Sentiment'].value_counts()"
   ],
   "execution_count": 16,
   "outputs": [
    {
     "output_type": "execute_result",
     "data": {
      "text/plain": [
       "1    39932\n",
       "0    23788\n",
       "Name: Sentiment, dtype: int64"
      ]
     },
     "metadata": {
      "tags": []
     },
     "execution_count": 16
    }
   ]
  },
  {
   "cell_type": "code",
   "metadata": {
    "colab": {
     "base_uri": "https://localhost:8080/"
    },
    "id": "fkArfREXOkE3",
    "outputId": "5023546e-e369-4ed3-f581-0f593b065efe"
   },
   "source": [
    "from sklearn.feature_extraction import text\n",
    "from sklearn.feature_extraction.text import CountVectorizer\n",
    "st_wd = text.ENGLISH_STOP_WORDS\n",
    "c_vector = CountVectorizer(stop_words = st_wd,min_df=.0001,lowercase=1)\n",
    "c_vector.fit(train_df1['Text'].values)"
   ],
   "execution_count": 17,
   "outputs": [
    {
     "output_type": "execute_result",
     "data": {
      "text/plain": [
       "CountVectorizer(analyzer='word', binary=False, decode_error='strict',\n",
       "                dtype=<class 'numpy.int64'>, encoding='utf-8', input='content',\n",
       "                lowercase=1, max_df=1.0, max_features=None, min_df=0.0001,\n",
       "                ngram_range=(1, 1), preprocessor=None,\n",
       "                stop_words=frozenset({'a', 'about', 'above', 'across', 'after',\n",
       "                                      'afterwards', 'again', 'against', 'all',\n",
       "                                      'almost', 'alone', 'along', 'already',\n",
       "                                      'also', 'although', 'always', 'am',\n",
       "                                      'among', 'amongst', 'amoungst', 'amount',\n",
       "                                      'an', 'and', 'another', 'any', 'anyhow',\n",
       "                                      'anyone', 'anything', 'anyway',\n",
       "                                      'anywhere', ...}),\n",
       "                strip_accents=None, token_pattern='(?u)\\\\b\\\\w\\\\w+\\\\b',\n",
       "                tokenizer=None, vocabulary=None)"
      ]
     },
     "metadata": {
      "tags": []
     },
     "execution_count": 17
    }
   ]
  },
  {
   "cell_type": "code",
   "metadata": {
    "id": "87ytRFpSOkE4"
   },
   "source": [
    "word_list = list(c_vector.vocabulary_.keys())\n",
    "stop_words = list(c_vector.stop_words) "
   ],
   "execution_count": 18,
   "outputs": []
  },
  {
   "cell_type": "code",
   "metadata": {
    "colab": {
     "base_uri": "https://localhost:8080/"
    },
    "id": "Z1uHkE5lOkE4",
    "outputId": "b4a7d38c-8749-4283-a021-782cda152e34"
   },
   "source": [
    "len(stop_words),len(word_list)"
   ],
   "execution_count": 19,
   "outputs": [
    {
     "output_type": "execute_result",
     "data": {
      "text/plain": [
       "(318, 8805)"
      ]
     },
     "metadata": {
      "tags": []
     },
     "execution_count": 19
    }
   ]
  },
  {
   "cell_type": "code",
   "metadata": {
    "id": "70jLFJNGOkE4"
   },
   "source": [
    "def remove_words(raw_sen,stop_words):\n",
    "    sen = [w for w in raw_sen if w not in stop_words]\n",
    "    return sen"
   ],
   "execution_count": 20,
   "outputs": []
  },
  {
   "cell_type": "code",
   "metadata": {
    "id": "OG2TwtwqOkE4"
   },
   "source": [
    "def reviewEdit(raw_sen_list,stop_words):\n",
    "    sen_list = []\n",
    "    for i in range(len(raw_sen_list)):\n",
    "        raw_sen = raw_sen_list[i].split()\n",
    "        sen_list.append(remove_words(raw_sen,stop_words))\n",
    "    return sen_list"
   ],
   "execution_count": 29,
   "outputs": []
  },
  {
   "cell_type": "code",
   "metadata": {
    "id": "s4egbWi2OkE5"
   },
   "source": [
    "sen_list = reviewEdit(list(train_df1['Text']),stop_words)"
   ],
   "execution_count": 30,
   "outputs": []
  },
  {
   "cell_type": "code",
   "metadata": {
    "id": "xLfRCvrdFe4-",
    "colab": {
     "base_uri": "https://localhost:8080/",
     "height": 391
    },
    "outputId": "d4fc9a53-66e8-4526-ea5f-fc74e3b6c5a6"
   },
   "source": [
    "#BERT TEST\n",
    "#!pip install transformers\n",
    "#from transformers import AutoTokenizer, TFAutoModel, AutoConfig, AutoModel, AutoModelForMaskedLM\n",
    "#config = AutoConfig.from_pretrained('bert-base-uncased', hidden_size=100)\n",
    "#config \n",
    "#tokenizer = AutoTokenizer.from_pretrained(\"distilroberta-base\", add_prefix_space=True)\n",
    "#model = TFAutoModel.from_pretrained(\"distilroberta-base\")\n",
    "#inputs = tokenizer(sen_list, max_length=25, truncation=True, padding=True, is_split_into_words=True, return_tensors=\"tf\")\n",
    "#outputs = model(**inputs)"
   ],
   "execution_count": 67,
   "outputs": [
    {
     "output_type": "stream",
     "text": [
      "Some layers from the model checkpoint at distilroberta-base were not used when initializing TFRobertaModel: ['lm_head']\n",
      "- This IS expected if you are initializing TFRobertaModel from the checkpoint of a model trained on another task or with another architecture (e.g. initializing a BertForSequenceClassification model from a BertForPreTraining model).\n",
      "- This IS NOT expected if you are initializing TFRobertaModel from the checkpoint of a model that you expect to be exactly identical (initializing a BertForSequenceClassification model from a BertForSequenceClassification model).\n",
      "All the layers of TFRobertaModel were initialized from the model checkpoint at distilroberta-base.\n",
      "If your task is similar to the task the model of the checkpoint was trained on, you can already use TFRobertaModel for predictions without further training.\n"
     ],
     "name": "stderr"
    },
    {
     "output_type": "error",
     "ename": "ResourceExhaustedError",
     "evalue": "ignored",
     "traceback": [
      "\u001B[0;31m---------------------------------------------------------------------------\u001B[0m",
      "\u001B[0;31mResourceExhaustedError\u001B[0m                    Traceback (most recent call last)",
      "\u001B[0;32m<ipython-input-67-90f00eada908>\u001B[0m in \u001B[0;36m<module>\u001B[0;34m()\u001B[0m\n\u001B[1;32m      8\u001B[0m \u001B[0mmodel\u001B[0m \u001B[0;34m=\u001B[0m \u001B[0mTFAutoModel\u001B[0m\u001B[0;34m.\u001B[0m\u001B[0mfrom_pretrained\u001B[0m\u001B[0;34m(\u001B[0m\u001B[0;34m\"distilroberta-base\"\u001B[0m\u001B[0;34m)\u001B[0m\u001B[0;34m\u001B[0m\u001B[0;34m\u001B[0m\u001B[0m\n\u001B[1;32m      9\u001B[0m \u001B[0minputs\u001B[0m \u001B[0;34m=\u001B[0m \u001B[0mtokenizer\u001B[0m\u001B[0;34m(\u001B[0m\u001B[0msen_list\u001B[0m\u001B[0;34m,\u001B[0m \u001B[0mmax_length\u001B[0m\u001B[0;34m=\u001B[0m\u001B[0;36m25\u001B[0m\u001B[0;34m,\u001B[0m \u001B[0mtruncation\u001B[0m\u001B[0;34m=\u001B[0m\u001B[0;32mTrue\u001B[0m\u001B[0;34m,\u001B[0m \u001B[0mpadding\u001B[0m\u001B[0;34m=\u001B[0m\u001B[0;32mTrue\u001B[0m\u001B[0;34m,\u001B[0m \u001B[0mis_split_into_words\u001B[0m\u001B[0;34m=\u001B[0m\u001B[0;32mTrue\u001B[0m\u001B[0;34m,\u001B[0m \u001B[0mreturn_tensors\u001B[0m\u001B[0;34m=\u001B[0m\u001B[0;34m\"tf\"\u001B[0m\u001B[0;34m)\u001B[0m\u001B[0;34m\u001B[0m\u001B[0;34m\u001B[0m\u001B[0m\n\u001B[0;32m---> 10\u001B[0;31m \u001B[0moutputs\u001B[0m \u001B[0;34m=\u001B[0m \u001B[0mmodel\u001B[0m\u001B[0;34m(\u001B[0m\u001B[0;34m**\u001B[0m\u001B[0minputs\u001B[0m\u001B[0;34m)\u001B[0m\u001B[0;34m\u001B[0m\u001B[0;34m\u001B[0m\u001B[0m\n\u001B[0m",
      "\u001B[0;32m/usr/local/lib/python3.7/dist-packages/tensorflow/python/keras/engine/base_layer.py\u001B[0m in \u001B[0;36m__call__\u001B[0;34m(self, *args, **kwargs)\u001B[0m\n\u001B[1;32m   1010\u001B[0m         with autocast_variable.enable_auto_cast_variables(\n\u001B[1;32m   1011\u001B[0m             self._compute_dtype_object):\n\u001B[0;32m-> 1012\u001B[0;31m           \u001B[0moutputs\u001B[0m \u001B[0;34m=\u001B[0m \u001B[0mcall_fn\u001B[0m\u001B[0;34m(\u001B[0m\u001B[0minputs\u001B[0m\u001B[0;34m,\u001B[0m \u001B[0;34m*\u001B[0m\u001B[0margs\u001B[0m\u001B[0;34m,\u001B[0m \u001B[0;34m**\u001B[0m\u001B[0mkwargs\u001B[0m\u001B[0;34m)\u001B[0m\u001B[0;34m\u001B[0m\u001B[0;34m\u001B[0m\u001B[0m\n\u001B[0m\u001B[1;32m   1013\u001B[0m \u001B[0;34m\u001B[0m\u001B[0m\n\u001B[1;32m   1014\u001B[0m         \u001B[0;32mif\u001B[0m \u001B[0mself\u001B[0m\u001B[0;34m.\u001B[0m\u001B[0m_activity_regularizer\u001B[0m\u001B[0;34m:\u001B[0m\u001B[0;34m\u001B[0m\u001B[0;34m\u001B[0m\u001B[0m\n",
      "\u001B[0;32m/usr/local/lib/python3.7/dist-packages/transformers/models/roberta/modeling_tf_roberta.py\u001B[0m in \u001B[0;36mcall\u001B[0;34m(self, input_ids, attention_mask, token_type_ids, position_ids, head_mask, inputs_embeds, output_attentions, output_hidden_states, return_dict, training, **kwargs)\u001B[0m\n\u001B[1;32m    752\u001B[0m             \u001B[0moutput_hidden_states\u001B[0m\u001B[0;34m=\u001B[0m\u001B[0minputs\u001B[0m\u001B[0;34m[\u001B[0m\u001B[0;34m\"output_hidden_states\"\u001B[0m\u001B[0;34m]\u001B[0m\u001B[0;34m,\u001B[0m\u001B[0;34m\u001B[0m\u001B[0;34m\u001B[0m\u001B[0m\n\u001B[1;32m    753\u001B[0m             \u001B[0mreturn_dict\u001B[0m\u001B[0;34m=\u001B[0m\u001B[0minputs\u001B[0m\u001B[0;34m[\u001B[0m\u001B[0;34m\"return_dict\"\u001B[0m\u001B[0;34m]\u001B[0m\u001B[0;34m,\u001B[0m\u001B[0;34m\u001B[0m\u001B[0;34m\u001B[0m\u001B[0m\n\u001B[0;32m--> 754\u001B[0;31m             \u001B[0mtraining\u001B[0m\u001B[0;34m=\u001B[0m\u001B[0minputs\u001B[0m\u001B[0;34m[\u001B[0m\u001B[0;34m\"training\"\u001B[0m\u001B[0;34m]\u001B[0m\u001B[0;34m,\u001B[0m\u001B[0;34m\u001B[0m\u001B[0;34m\u001B[0m\u001B[0m\n\u001B[0m\u001B[1;32m    755\u001B[0m         )\n\u001B[1;32m    756\u001B[0m \u001B[0;34m\u001B[0m\u001B[0m\n",
      "\u001B[0;32m/usr/local/lib/python3.7/dist-packages/tensorflow/python/keras/engine/base_layer.py\u001B[0m in \u001B[0;36m__call__\u001B[0;34m(self, *args, **kwargs)\u001B[0m\n\u001B[1;32m   1010\u001B[0m         with autocast_variable.enable_auto_cast_variables(\n\u001B[1;32m   1011\u001B[0m             self._compute_dtype_object):\n\u001B[0;32m-> 1012\u001B[0;31m           \u001B[0moutputs\u001B[0m \u001B[0;34m=\u001B[0m \u001B[0mcall_fn\u001B[0m\u001B[0;34m(\u001B[0m\u001B[0minputs\u001B[0m\u001B[0;34m,\u001B[0m \u001B[0;34m*\u001B[0m\u001B[0margs\u001B[0m\u001B[0;34m,\u001B[0m \u001B[0;34m**\u001B[0m\u001B[0mkwargs\u001B[0m\u001B[0;34m)\u001B[0m\u001B[0;34m\u001B[0m\u001B[0;34m\u001B[0m\u001B[0m\n\u001B[0m\u001B[1;32m   1013\u001B[0m \u001B[0;34m\u001B[0m\u001B[0m\n\u001B[1;32m   1014\u001B[0m         \u001B[0;32mif\u001B[0m \u001B[0mself\u001B[0m\u001B[0;34m.\u001B[0m\u001B[0m_activity_regularizer\u001B[0m\u001B[0;34m:\u001B[0m\u001B[0;34m\u001B[0m\u001B[0;34m\u001B[0m\u001B[0m\n",
      "\u001B[0;32m/usr/local/lib/python3.7/dist-packages/transformers/models/roberta/modeling_tf_roberta.py\u001B[0m in \u001B[0;36mcall\u001B[0;34m(self, input_ids, attention_mask, token_type_ids, position_ids, head_mask, inputs_embeds, output_attentions, output_hidden_states, return_dict, training, **kwargs)\u001B[0m\n\u001B[1;32m    526\u001B[0m             \u001B[0mtoken_type_ids\u001B[0m\u001B[0;34m=\u001B[0m\u001B[0minputs\u001B[0m\u001B[0;34m[\u001B[0m\u001B[0;34m\"token_type_ids\"\u001B[0m\u001B[0;34m]\u001B[0m\u001B[0;34m,\u001B[0m\u001B[0;34m\u001B[0m\u001B[0;34m\u001B[0m\u001B[0m\n\u001B[1;32m    527\u001B[0m             \u001B[0minputs_embeds\u001B[0m\u001B[0;34m=\u001B[0m\u001B[0minputs\u001B[0m\u001B[0;34m[\u001B[0m\u001B[0;34m\"inputs_embeds\"\u001B[0m\u001B[0;34m]\u001B[0m\u001B[0;34m,\u001B[0m\u001B[0;34m\u001B[0m\u001B[0;34m\u001B[0m\u001B[0m\n\u001B[0;32m--> 528\u001B[0;31m             \u001B[0mtraining\u001B[0m\u001B[0;34m=\u001B[0m\u001B[0minputs\u001B[0m\u001B[0;34m[\u001B[0m\u001B[0;34m\"training\"\u001B[0m\u001B[0;34m]\u001B[0m\u001B[0;34m,\u001B[0m\u001B[0;34m\u001B[0m\u001B[0;34m\u001B[0m\u001B[0m\n\u001B[0m\u001B[1;32m    529\u001B[0m         )\n\u001B[1;32m    530\u001B[0m \u001B[0;34m\u001B[0m\u001B[0m\n",
      "\u001B[0;32m/usr/local/lib/python3.7/dist-packages/tensorflow/python/keras/engine/base_layer.py\u001B[0m in \u001B[0;36m__call__\u001B[0;34m(self, *args, **kwargs)\u001B[0m\n\u001B[1;32m   1010\u001B[0m         with autocast_variable.enable_auto_cast_variables(\n\u001B[1;32m   1011\u001B[0m             self._compute_dtype_object):\n\u001B[0;32m-> 1012\u001B[0;31m           \u001B[0moutputs\u001B[0m \u001B[0;34m=\u001B[0m \u001B[0mcall_fn\u001B[0m\u001B[0;34m(\u001B[0m\u001B[0minputs\u001B[0m\u001B[0;34m,\u001B[0m \u001B[0;34m*\u001B[0m\u001B[0margs\u001B[0m\u001B[0;34m,\u001B[0m \u001B[0;34m**\u001B[0m\u001B[0mkwargs\u001B[0m\u001B[0;34m)\u001B[0m\u001B[0;34m\u001B[0m\u001B[0;34m\u001B[0m\u001B[0m\n\u001B[0m\u001B[1;32m   1013\u001B[0m \u001B[0;34m\u001B[0m\u001B[0m\n\u001B[1;32m   1014\u001B[0m         \u001B[0;32mif\u001B[0m \u001B[0mself\u001B[0m\u001B[0;34m.\u001B[0m\u001B[0m_activity_regularizer\u001B[0m\u001B[0;34m:\u001B[0m\u001B[0;34m\u001B[0m\u001B[0;34m\u001B[0m\u001B[0m\n",
      "\u001B[0;32m/usr/local/lib/python3.7/dist-packages/transformers/models/roberta/modeling_tf_roberta.py\u001B[0m in \u001B[0;36mcall\u001B[0;34m(self, input_ids, position_ids, token_type_ids, inputs_embeds, training)\u001B[0m\n\u001B[1;32m    155\u001B[0m \u001B[0;34m\u001B[0m\u001B[0m\n\u001B[1;32m    156\u001B[0m         \u001B[0mposition_embeds\u001B[0m \u001B[0;34m=\u001B[0m \u001B[0mtf\u001B[0m\u001B[0;34m.\u001B[0m\u001B[0mgather\u001B[0m\u001B[0;34m(\u001B[0m\u001B[0mparams\u001B[0m\u001B[0;34m=\u001B[0m\u001B[0mself\u001B[0m\u001B[0;34m.\u001B[0m\u001B[0mposition_embeddings\u001B[0m\u001B[0;34m,\u001B[0m \u001B[0mindices\u001B[0m\u001B[0;34m=\u001B[0m\u001B[0mposition_ids\u001B[0m\u001B[0;34m)\u001B[0m\u001B[0;34m\u001B[0m\u001B[0;34m\u001B[0m\u001B[0m\n\u001B[0;32m--> 157\u001B[0;31m         \u001B[0mtoken_type_embeds\u001B[0m \u001B[0;34m=\u001B[0m \u001B[0mtf\u001B[0m\u001B[0;34m.\u001B[0m\u001B[0mgather\u001B[0m\u001B[0;34m(\u001B[0m\u001B[0mparams\u001B[0m\u001B[0;34m=\u001B[0m\u001B[0mself\u001B[0m\u001B[0;34m.\u001B[0m\u001B[0mtoken_type_embeddings\u001B[0m\u001B[0;34m,\u001B[0m \u001B[0mindices\u001B[0m\u001B[0;34m=\u001B[0m\u001B[0mtoken_type_ids\u001B[0m\u001B[0;34m)\u001B[0m\u001B[0;34m\u001B[0m\u001B[0;34m\u001B[0m\u001B[0m\n\u001B[0m\u001B[1;32m    158\u001B[0m         \u001B[0mfinal_embeddings\u001B[0m \u001B[0;34m=\u001B[0m \u001B[0mself\u001B[0m\u001B[0;34m.\u001B[0m\u001B[0membeddings_sum\u001B[0m\u001B[0;34m(\u001B[0m\u001B[0minputs\u001B[0m\u001B[0;34m=\u001B[0m\u001B[0;34m[\u001B[0m\u001B[0minputs_embeds\u001B[0m\u001B[0;34m,\u001B[0m \u001B[0mposition_embeds\u001B[0m\u001B[0;34m,\u001B[0m \u001B[0mtoken_type_embeds\u001B[0m\u001B[0;34m]\u001B[0m\u001B[0;34m)\u001B[0m\u001B[0;34m\u001B[0m\u001B[0;34m\u001B[0m\u001B[0m\n\u001B[1;32m    159\u001B[0m         \u001B[0mfinal_embeddings\u001B[0m \u001B[0;34m=\u001B[0m \u001B[0mself\u001B[0m\u001B[0;34m.\u001B[0m\u001B[0mLayerNorm\u001B[0m\u001B[0;34m(\u001B[0m\u001B[0minputs\u001B[0m\u001B[0;34m=\u001B[0m\u001B[0mfinal_embeddings\u001B[0m\u001B[0;34m)\u001B[0m\u001B[0;34m\u001B[0m\u001B[0;34m\u001B[0m\u001B[0m\n",
      "\u001B[0;32m/usr/local/lib/python3.7/dist-packages/tensorflow/python/util/dispatch.py\u001B[0m in \u001B[0;36mwrapper\u001B[0;34m(*args, **kwargs)\u001B[0m\n\u001B[1;32m    199\u001B[0m     \u001B[0;34m\"\"\"Call target, and fall back on dispatchers if there is a TypeError.\"\"\"\u001B[0m\u001B[0;34m\u001B[0m\u001B[0;34m\u001B[0m\u001B[0m\n\u001B[1;32m    200\u001B[0m     \u001B[0;32mtry\u001B[0m\u001B[0;34m:\u001B[0m\u001B[0;34m\u001B[0m\u001B[0;34m\u001B[0m\u001B[0m\n\u001B[0;32m--> 201\u001B[0;31m       \u001B[0;32mreturn\u001B[0m \u001B[0mtarget\u001B[0m\u001B[0;34m(\u001B[0m\u001B[0;34m*\u001B[0m\u001B[0margs\u001B[0m\u001B[0;34m,\u001B[0m \u001B[0;34m**\u001B[0m\u001B[0mkwargs\u001B[0m\u001B[0;34m)\u001B[0m\u001B[0;34m\u001B[0m\u001B[0;34m\u001B[0m\u001B[0m\n\u001B[0m\u001B[1;32m    202\u001B[0m     \u001B[0;32mexcept\u001B[0m \u001B[0;34m(\u001B[0m\u001B[0mTypeError\u001B[0m\u001B[0;34m,\u001B[0m \u001B[0mValueError\u001B[0m\u001B[0;34m)\u001B[0m\u001B[0;34m:\u001B[0m\u001B[0;34m\u001B[0m\u001B[0;34m\u001B[0m\u001B[0m\n\u001B[1;32m    203\u001B[0m       \u001B[0;31m# Note: convert_to_eager_tensor currently raises a ValueError, not a\u001B[0m\u001B[0;34m\u001B[0m\u001B[0;34m\u001B[0m\u001B[0;34m\u001B[0m\u001B[0m\n",
      "\u001B[0;32m/usr/local/lib/python3.7/dist-packages/tensorflow/python/ops/array_ops.py\u001B[0m in \u001B[0;36mgather_v2\u001B[0;34m(params, indices, validate_indices, axis, batch_dims, name)\u001B[0m\n\u001B[1;32m   4830\u001B[0m       \u001B[0mname\u001B[0m\u001B[0;34m=\u001B[0m\u001B[0mname\u001B[0m\u001B[0;34m,\u001B[0m\u001B[0;34m\u001B[0m\u001B[0;34m\u001B[0m\u001B[0m\n\u001B[1;32m   4831\u001B[0m       \u001B[0maxis\u001B[0m\u001B[0;34m=\u001B[0m\u001B[0maxis\u001B[0m\u001B[0;34m,\u001B[0m\u001B[0;34m\u001B[0m\u001B[0;34m\u001B[0m\u001B[0m\n\u001B[0;32m-> 4832\u001B[0;31m       batch_dims=batch_dims)\n\u001B[0m\u001B[1;32m   4833\u001B[0m \u001B[0;34m\u001B[0m\u001B[0m\n\u001B[1;32m   4834\u001B[0m \u001B[0;34m\u001B[0m\u001B[0m\n",
      "\u001B[0;32m/usr/local/lib/python3.7/dist-packages/tensorflow/python/util/dispatch.py\u001B[0m in \u001B[0;36mwrapper\u001B[0;34m(*args, **kwargs)\u001B[0m\n\u001B[1;32m    199\u001B[0m     \u001B[0;34m\"\"\"Call target, and fall back on dispatchers if there is a TypeError.\"\"\"\u001B[0m\u001B[0;34m\u001B[0m\u001B[0;34m\u001B[0m\u001B[0m\n\u001B[1;32m    200\u001B[0m     \u001B[0;32mtry\u001B[0m\u001B[0;34m:\u001B[0m\u001B[0;34m\u001B[0m\u001B[0;34m\u001B[0m\u001B[0m\n\u001B[0;32m--> 201\u001B[0;31m       \u001B[0;32mreturn\u001B[0m \u001B[0mtarget\u001B[0m\u001B[0;34m(\u001B[0m\u001B[0;34m*\u001B[0m\u001B[0margs\u001B[0m\u001B[0;34m,\u001B[0m \u001B[0;34m**\u001B[0m\u001B[0mkwargs\u001B[0m\u001B[0;34m)\u001B[0m\u001B[0;34m\u001B[0m\u001B[0;34m\u001B[0m\u001B[0m\n\u001B[0m\u001B[1;32m    202\u001B[0m     \u001B[0;32mexcept\u001B[0m \u001B[0;34m(\u001B[0m\u001B[0mTypeError\u001B[0m\u001B[0;34m,\u001B[0m \u001B[0mValueError\u001B[0m\u001B[0;34m)\u001B[0m\u001B[0;34m:\u001B[0m\u001B[0;34m\u001B[0m\u001B[0;34m\u001B[0m\u001B[0m\n\u001B[1;32m    203\u001B[0m       \u001B[0;31m# Note: convert_to_eager_tensor currently raises a ValueError, not a\u001B[0m\u001B[0;34m\u001B[0m\u001B[0;34m\u001B[0m\u001B[0;34m\u001B[0m\u001B[0m\n",
      "\u001B[0;32m/usr/local/lib/python3.7/dist-packages/tensorflow/python/ops/array_ops.py\u001B[0m in \u001B[0;36mgather\u001B[0;34m(***failed resolving arguments***)\u001B[0m\n\u001B[1;32m   4811\u001B[0m     \u001B[0;31m# TODO(apassos) find a less bad way of detecting resource variables\u001B[0m\u001B[0;34m\u001B[0m\u001B[0;34m\u001B[0m\u001B[0;34m\u001B[0m\u001B[0m\n\u001B[1;32m   4812\u001B[0m     \u001B[0;31m# without introducing a circular dependency.\u001B[0m\u001B[0;34m\u001B[0m\u001B[0;34m\u001B[0m\u001B[0;34m\u001B[0m\u001B[0m\n\u001B[0;32m-> 4813\u001B[0;31m     \u001B[0;32mreturn\u001B[0m \u001B[0mparams\u001B[0m\u001B[0;34m.\u001B[0m\u001B[0msparse_read\u001B[0m\u001B[0;34m(\u001B[0m\u001B[0mindices\u001B[0m\u001B[0;34m,\u001B[0m \u001B[0mname\u001B[0m\u001B[0;34m=\u001B[0m\u001B[0mname\u001B[0m\u001B[0;34m)\u001B[0m\u001B[0;34m\u001B[0m\u001B[0;34m\u001B[0m\u001B[0m\n\u001B[0m\u001B[1;32m   4814\u001B[0m   \u001B[0;32mexcept\u001B[0m \u001B[0mAttributeError\u001B[0m\u001B[0;34m:\u001B[0m\u001B[0;34m\u001B[0m\u001B[0;34m\u001B[0m\u001B[0m\n\u001B[1;32m   4815\u001B[0m     \u001B[0;32mreturn\u001B[0m \u001B[0mgen_array_ops\u001B[0m\u001B[0;34m.\u001B[0m\u001B[0mgather_v2\u001B[0m\u001B[0;34m(\u001B[0m\u001B[0mparams\u001B[0m\u001B[0;34m,\u001B[0m \u001B[0mindices\u001B[0m\u001B[0;34m,\u001B[0m \u001B[0maxis\u001B[0m\u001B[0;34m,\u001B[0m \u001B[0mname\u001B[0m\u001B[0;34m=\u001B[0m\u001B[0mname\u001B[0m\u001B[0;34m)\u001B[0m\u001B[0;34m\u001B[0m\u001B[0;34m\u001B[0m\u001B[0m\n",
      "\u001B[0;32m/usr/local/lib/python3.7/dist-packages/tensorflow/python/ops/resource_variable_ops.py\u001B[0m in \u001B[0;36msparse_read\u001B[0;34m(self, indices, name)\u001B[0m\n\u001B[1;32m    701\u001B[0m       \u001B[0mvariable_accessed\u001B[0m\u001B[0;34m(\u001B[0m\u001B[0mself\u001B[0m\u001B[0;34m)\u001B[0m\u001B[0;34m\u001B[0m\u001B[0;34m\u001B[0m\u001B[0m\n\u001B[1;32m    702\u001B[0m       value = gen_resource_variable_ops.resource_gather(\n\u001B[0;32m--> 703\u001B[0;31m           self._handle, indices, dtype=self._dtype, name=name)\n\u001B[0m\u001B[1;32m    704\u001B[0m \u001B[0;34m\u001B[0m\u001B[0m\n\u001B[1;32m    705\u001B[0m       \u001B[0;32mif\u001B[0m \u001B[0mself\u001B[0m\u001B[0;34m.\u001B[0m\u001B[0m_dtype\u001B[0m \u001B[0;34m==\u001B[0m \u001B[0mdtypes\u001B[0m\u001B[0;34m.\u001B[0m\u001B[0mvariant\u001B[0m\u001B[0;34m:\u001B[0m\u001B[0;34m\u001B[0m\u001B[0;34m\u001B[0m\u001B[0m\n",
      "\u001B[0;32m/usr/local/lib/python3.7/dist-packages/tensorflow/python/ops/gen_resource_variable_ops.py\u001B[0m in \u001B[0;36mresource_gather\u001B[0;34m(resource, indices, dtype, batch_dims, validate_indices, name)\u001B[0m\n\u001B[1;32m    547\u001B[0m       \u001B[0;32mreturn\u001B[0m \u001B[0m_result\u001B[0m\u001B[0;34m\u001B[0m\u001B[0;34m\u001B[0m\u001B[0m\n\u001B[1;32m    548\u001B[0m     \u001B[0;32mexcept\u001B[0m \u001B[0m_core\u001B[0m\u001B[0;34m.\u001B[0m\u001B[0m_NotOkStatusException\u001B[0m \u001B[0;32mas\u001B[0m \u001B[0me\u001B[0m\u001B[0;34m:\u001B[0m\u001B[0;34m\u001B[0m\u001B[0;34m\u001B[0m\u001B[0m\n\u001B[0;32m--> 549\u001B[0;31m       \u001B[0m_ops\u001B[0m\u001B[0;34m.\u001B[0m\u001B[0mraise_from_not_ok_status\u001B[0m\u001B[0;34m(\u001B[0m\u001B[0me\u001B[0m\u001B[0;34m,\u001B[0m \u001B[0mname\u001B[0m\u001B[0;34m)\u001B[0m\u001B[0;34m\u001B[0m\u001B[0;34m\u001B[0m\u001B[0m\n\u001B[0m\u001B[1;32m    550\u001B[0m     \u001B[0;32mexcept\u001B[0m \u001B[0m_core\u001B[0m\u001B[0;34m.\u001B[0m\u001B[0m_FallbackException\u001B[0m\u001B[0;34m:\u001B[0m\u001B[0;34m\u001B[0m\u001B[0;34m\u001B[0m\u001B[0m\n\u001B[1;32m    551\u001B[0m       \u001B[0;32mpass\u001B[0m\u001B[0;34m\u001B[0m\u001B[0;34m\u001B[0m\u001B[0m\n",
      "\u001B[0;32m/usr/local/lib/python3.7/dist-packages/tensorflow/python/framework/ops.py\u001B[0m in \u001B[0;36mraise_from_not_ok_status\u001B[0;34m(e, name)\u001B[0m\n\u001B[1;32m   6860\u001B[0m   \u001B[0mmessage\u001B[0m \u001B[0;34m=\u001B[0m \u001B[0me\u001B[0m\u001B[0;34m.\u001B[0m\u001B[0mmessage\u001B[0m \u001B[0;34m+\u001B[0m \u001B[0;34m(\u001B[0m\u001B[0;34m\" name: \"\u001B[0m \u001B[0;34m+\u001B[0m \u001B[0mname\u001B[0m \u001B[0;32mif\u001B[0m \u001B[0mname\u001B[0m \u001B[0;32mis\u001B[0m \u001B[0;32mnot\u001B[0m \u001B[0;32mNone\u001B[0m \u001B[0;32melse\u001B[0m \u001B[0;34m\"\"\u001B[0m\u001B[0;34m)\u001B[0m\u001B[0;34m\u001B[0m\u001B[0;34m\u001B[0m\u001B[0m\n\u001B[1;32m   6861\u001B[0m   \u001B[0;31m# pylint: disable=protected-access\u001B[0m\u001B[0;34m\u001B[0m\u001B[0;34m\u001B[0m\u001B[0;34m\u001B[0m\u001B[0m\n\u001B[0;32m-> 6862\u001B[0;31m   \u001B[0msix\u001B[0m\u001B[0;34m.\u001B[0m\u001B[0mraise_from\u001B[0m\u001B[0;34m(\u001B[0m\u001B[0mcore\u001B[0m\u001B[0;34m.\u001B[0m\u001B[0m_status_to_exception\u001B[0m\u001B[0;34m(\u001B[0m\u001B[0me\u001B[0m\u001B[0;34m.\u001B[0m\u001B[0mcode\u001B[0m\u001B[0;34m,\u001B[0m \u001B[0mmessage\u001B[0m\u001B[0;34m)\u001B[0m\u001B[0;34m,\u001B[0m \u001B[0;32mNone\u001B[0m\u001B[0;34m)\u001B[0m\u001B[0;34m\u001B[0m\u001B[0;34m\u001B[0m\u001B[0m\n\u001B[0m\u001B[1;32m   6863\u001B[0m   \u001B[0;31m# pylint: enable=protected-access\u001B[0m\u001B[0;34m\u001B[0m\u001B[0;34m\u001B[0m\u001B[0;34m\u001B[0m\u001B[0m\n\u001B[1;32m   6864\u001B[0m \u001B[0;34m\u001B[0m\u001B[0m\n",
      "\u001B[0;32m/usr/local/lib/python3.7/dist-packages/six.py\u001B[0m in \u001B[0;36mraise_from\u001B[0;34m(value, from_value)\u001B[0m\n",
      "\u001B[0;31mResourceExhaustedError\u001B[0m: OOM when allocating tensor with shape[63720,25,768] and type float on /job:localhost/replica:0/task:0/device:GPU:0 by allocator GPU_0_bfc [Op:ResourceGather]"
     ]
    }
   ]
  },
  {
   "cell_type": "code",
   "metadata": {
    "id": "h7XIkGEuOkE5"
   },
   "source": [
    "from gensim.models import fasttext\n",
    "ft_model = fasttext.FastText(sen_list,size=100)"
   ],
   "execution_count": 31,
   "outputs": []
  },
  {
   "cell_type": "code",
   "metadata": {
    "colab": {
     "base_uri": "https://localhost:8080/"
    },
    "id": "GAPbMPlycpIK",
    "outputId": "1732cef5-cee0-4d1e-dd87-f9bc172d0eb0"
   },
   "source": [
    "ft_model.wv.most_similar(\"beutiful\")"
   ],
   "execution_count": 37,
   "outputs": [
    {
     "output_type": "execute_result",
     "data": {
      "text/plain": [
       "[('beautiful', 0.9853143692016602),\n",
       " ('Beautifuln', 0.9836337566375732),\n",
       " ('beautifuln', 0.9824850559234619),\n",
       " ('Beautiful', 0.9787737131118774),\n",
       " ('beautifull', 0.9720891714096069),\n",
       " ('beautifullyn', 0.9621118307113647),\n",
       " ('beautifully', 0.9471719264984131),\n",
       " ('Beautifully', 0.9436919093132019),\n",
       " ('beatiful', 0.9338065385818481),\n",
       " ('Powerful', 0.9276737570762634)]"
      ]
     },
     "metadata": {
      "tags": []
     },
     "execution_count": 37
    }
   ]
  },
  {
   "cell_type": "code",
   "metadata": {
    "colab": {
     "base_uri": "https://localhost:8080/"
    },
    "id": "tcAHOB2tOkE5",
    "outputId": "6f6265b7-275f-4390-c698-dccbce07d648"
   },
   "source": [
    "ft_model.wv.syn0.shape"
   ],
   "execution_count": 24,
   "outputs": [
    {
     "output_type": "stream",
     "text": [
      "/usr/local/lib/python3.7/dist-packages/ipykernel_launcher.py:1: DeprecationWarning: Call to deprecated `syn0` (Attribute will be removed in 4.0.0, use self.wv.vectors instead).\n",
      "  \"\"\"Entry point for launching an IPython kernel.\n"
     ],
     "name": "stderr"
    },
    {
     "output_type": "execute_result",
     "data": {
      "text/plain": [
       "(14196, 100)"
      ]
     },
     "metadata": {
      "tags": []
     },
     "execution_count": 24
    }
   ]
  },
  {
   "cell_type": "code",
   "metadata": {
    "id": "JPkni4toOkE5"
   },
   "source": [
    "from sklearn.model_selection import train_test_split\n",
    "def getEmbedding3D(sen_list,wv_model):\n",
    "    word_set = set(wv_model.wv.index2word)\n",
    "    X = np.zeros([len(sen_list),25,100])\n",
    "    c = 0\n",
    "    for sen in sen_list:\n",
    "        nw=24\n",
    "        for w in list(reversed(sen)):\n",
    "            if w in word_set:\n",
    "                X[c,nw] = wv_model[w]\n",
    "                nw=nw-1\n",
    "        c=c+1\n",
    "    return X"
   ],
   "execution_count": 36,
   "outputs": []
  },
  {
   "cell_type": "code",
   "metadata": {
    "id": "XwCDCBtWOkE6",
    "colab": {
     "base_uri": "https://localhost:8080/"
    },
    "outputId": "b878eb97-41a0-459b-de00-46651fee42a7"
   },
   "source": [
    "X_ANN = getEmbedding3D(sen_list,ft_model)"
   ],
   "execution_count": 37,
   "outputs": [
    {
     "output_type": "stream",
     "text": [
      "/usr/local/lib/python3.7/dist-packages/ipykernel_launcher.py:10: DeprecationWarning: Call to deprecated `__getitem__` (Method will be removed in 4.0.0, use self.wv.__getitem__() instead).\n",
      "  # Remove the CWD from sys.path while we load stuff.\n"
     ],
     "name": "stderr"
    }
   ]
  },
  {
   "cell_type": "code",
   "metadata": {
    "id": "RYLWd2woOkE6"
   },
   "source": [
    "y = train_df1['Sentiment'].values\n",
    "X_train, X_test, y_train, y_test = train_test_split(X_ANN, y, test_size=0.1, random_state=42)\n",
    "y_train = y_train.astype('bool')\n",
    "y_test = y_test.astype('bool')"
   ],
   "execution_count": 38,
   "outputs": []
  },
  {
   "cell_type": "code",
   "metadata": {
    "id": "Wv48Vr_yI_tr"
   },
   "source": [
    "np.save(\"/content/drive/MyDrive/DLA/test_X_ANN\", X_test, allow_pickle=True, fix_imports=True)\n",
    "np.save(\"/content/drive/MyDrive/DLA/y_test_ANN\", y_test, allow_pickle=True, fix_imports=True)"
   ],
   "execution_count": 39,
   "outputs": []
  },
  {
   "cell_type": "code",
   "metadata": {
    "id": "46B9az_fpgew"
   },
   "source": [
    "def get_embedding2D(sen_list,wv_model):\n",
    "    word_set = set(wv_model.wv.index2word)\n",
    "    X = np.zeros([len(sen_list),100])\n",
    "    c = 0\n",
    "    for sen in sen_list:\n",
    "        nw=24\n",
    "        for w in list(reversed(sen)):\n",
    "            if w in word_set:\n",
    "                X[c] = wv_model[w]\n",
    "                nw=nw-1\n",
    "        c=c+1\n",
    "    return X"
   ],
   "execution_count": 40,
   "outputs": []
  },
  {
   "cell_type": "code",
   "metadata": {
    "colab": {
     "base_uri": "https://localhost:8080/"
    },
    "id": "S-IEsFEdpi-j",
    "outputId": "fb6e65db-374f-47d4-a63d-1a55124c5e87"
   },
   "source": [
    "X_baseline = get_embedding2D(sen_list,ft_model)"
   ],
   "execution_count": 41,
   "outputs": [
    {
     "output_type": "stream",
     "text": [
      "/usr/local/lib/python3.7/dist-packages/ipykernel_launcher.py:9: DeprecationWarning: Call to deprecated `__getitem__` (Method will be removed in 4.0.0, use self.wv.__getitem__() instead).\n",
      "  if __name__ == '__main__':\n"
     ],
     "name": "stderr"
    }
   ]
  },
  {
   "cell_type": "code",
   "metadata": {
    "id": "h8hejFQAgm95"
   },
   "source": [
    "y = train_df1['Sentiment'].values\n",
    "X_trainBaseline, X_testBaseline, y_trainBaseline, y_testBaseline = train_test_split(X_baseline, y, test_size=0.1, random_state=42)\n",
    "y_trainBaseline = y_trainBaseline.astype('bool')\n",
    "y_testBaseline = y_testBaseline.astype('bool')\n"
   ],
   "execution_count": 71,
   "outputs": []
  },
  {
   "cell_type": "code",
   "execution_count": null,
   "outputs": [],
   "source": [
    "np.save(\"/content/drive/MyDrive/DLA/test_X_baseline\", X_testBaseline, allow_pickle=True, fix_imports=True)\n",
    "np.save(\"/content/drive/MyDrive/DLA/y_test_baseline\", y_testBaseline, allow_pickle=True, fix_imports=True)"
   ],
   "metadata": {
    "collapsed": false,
    "pycharm": {
     "name": "#%%\n"
    }
   }
  },
  {
   "cell_type": "code",
   "metadata": {
    "id": "eX99YTinx982"
   },
   "source": [
    "# Baseline models"
   ],
   "execution_count": 127,
   "outputs": []
  },
  {
   "cell_type": "markdown",
   "metadata": {
    "id": "RcXUupgEdkpa"
   },
   "source": [
    "# Baseline models"
   ]
  },
  {
   "cell_type": "code",
   "metadata": {
    "colab": {
     "base_uri": "https://localhost:8080/"
    },
    "id": "ufN-7qI5di9e",
    "outputId": "9c98a5ec-6fb0-4160-91a1-3d363310bbef"
   },
   "source": [
    "from sklearn import svm\n",
    "start_time = time.time()\n",
    "svm = svm.SVC()\n",
    "svm.fit(X_trainBaseline, y_trainBaseline)\n",
    "print(\"Training time: %s seconds\" % (time.time() - start_time))\n"
   ],
   "execution_count": 80,
   "outputs": [
    {
     "output_type": "stream",
     "text": [
      "Training time: 429.50916624069214\n"
     ],
     "name": "stdout"
    }
   ]
  },
  {
   "cell_type": "code",
   "metadata": {
    "id": "N1a695DwRiEy"
   },
   "source": [
    "from sklearn.metrics import accuracy_score"
   ],
   "execution_count": 74,
   "outputs": []
  },
  {
   "cell_type": "code",
   "metadata": {
    "id": "3AMiEDJ0RXKx",
    "colab": {
     "base_uri": "https://localhost:8080/"
    },
    "outputId": "4e399094-7c98-4ca4-a334-ea8760132a0f"
   },
   "source": [
    "start_time = time.time()\n",
    "y_pred = svm.predict(X_testBaseline)\n",
    "print(\"Prediction time for the test set: %s seconds\" % (time.time() - start_time))"
   ],
   "execution_count": 81,
   "outputs": [
    {
     "output_type": "stream",
     "text": [
      "Prediction time for the test set: 28.813615560531616 seconds\n"
     ],
     "name": "stdout"
    }
   ]
  },
  {
   "cell_type": "code",
   "metadata": {
    "colab": {
     "base_uri": "https://localhost:8080/"
    },
    "id": "bP0qoUCzRoNO",
    "outputId": "ce3bf1c8-c7dc-4d65-9803-b515c20aed8f"
   },
   "source": [
    "accuracy_score(y_test, y_pred)"
   ],
   "execution_count": 82,
   "outputs": [
    {
     "output_type": "execute_result",
     "data": {
      "text/plain": [
       "0.7780916509730069"
      ]
     },
     "metadata": {
      "tags": []
     },
     "execution_count": 82
    }
   ]
  },
  {
   "cell_type": "code",
   "metadata": {
    "id": "ATm-EcDkR9BH",
    "colab": {
     "base_uri": "https://localhost:8080/"
    },
    "outputId": "2294ac4c-ca2a-4653-ec91-e168fbc4a094"
   },
   "source": [
    "from sklearn.ensemble import RandomForestClassifier\n",
    "start_time = time.time()\n",
    "RF = RandomForestClassifier(max_depth=500, random_state=0)\n",
    "RF.fit(X_trainBaseline, y_trainBaseline)\n",
    "print(\"Training time: %s s\" % (time.time() - start_time))\n"
   ],
   "execution_count": 110,
   "outputs": [
    {
     "output_type": "stream",
     "text": [
      "Training time: 24.73552680015564 s\n"
     ],
     "name": "stdout"
    }
   ]
  },
  {
   "cell_type": "code",
   "metadata": {
    "id": "BXwDArv4NyNI",
    "colab": {
     "base_uri": "https://localhost:8080/"
    },
    "outputId": "6e953dc4-5a2e-43ce-c101-50fcba0fcb3b"
   },
   "source": [
    "start_time = time.time()\n",
    "y_pred = RF.predict(X_testBaseline)\n",
    "print(\"Prediction time for the test set: %s\" % (time.time() - start_time))"
   ],
   "execution_count": 111,
   "outputs": [
    {
     "output_type": "stream",
     "text": [
      "Prediction time for the test set: 0.1316542625427246\n"
     ],
     "name": "stdout"
    }
   ]
  },
  {
   "cell_type": "code",
   "metadata": {
    "colab": {
     "base_uri": "https://localhost:8080/"
    },
    "id": "JeZ2_3YUwG3r",
    "outputId": "a306e9f2-c893-462c-c3b5-3b6aa440ed46"
   },
   "source": [
    "accuracy_score(y_test, y_pred)"
   ],
   "execution_count": 112,
   "outputs": [
    {
     "output_type": "execute_result",
     "data": {
      "text/plain": [
       "0.7940991839296924"
      ]
     },
     "metadata": {
      "tags": []
     },
     "execution_count": 112
    }
   ]
  },
  {
   "cell_type": "code",
   "metadata": {
    "colab": {
     "base_uri": "https://localhost:8080/"
    },
    "id": "dqD6z2lWvi2I",
    "outputId": "b202d585-9098-466f-eab6-4a4fd68fd0ec"
   },
   "source": [
    "from joblib import dump, load\n",
    "dump(svm, '/content/drive/MyDrive/DLA/svm.joblib') \n",
    "dump(RF, '/content/drive/MyDrive/DLA/randomforest.joblib') "
   ],
   "execution_count": 113,
   "outputs": [
    {
     "output_type": "execute_result",
     "data": {
      "text/plain": [
       "['/content/drive/MyDrive/DLA/randomforest.joblib']"
      ]
     },
     "metadata": {
      "tags": []
     },
     "execution_count": 113
    }
   ]
  },
  {
   "cell_type": "markdown",
   "metadata": {
    "id": "niDWqOG9OkE6"
   },
   "source": [
    "# BDRNN train"
   ]
  },
  {
   "cell_type": "code",
   "metadata": {
    "id": "bEVhn6Yl7_W-"
   },
   "source": [
    "import keras.backend as K\n",
    "from keras.models import Sequential,Model\n",
    "from keras.layers import Dense, Dropout, Activation,LSTM, SimpleRNN ,GRU , Bidirectional,Input ,Concatenate, Multiply,Lambda,Reshape\n",
    "import matplotlib.pyplot as plt\n",
    "\n",
    "\n",
    "def plot_graphs(history, string):\n",
    "  plt.plot(history.history[string])\n",
    "  plt.plot(history.history['val_'+string])\n",
    "  plt.xlabel(\"Epochs\")\n",
    "  plt.ylabel(string)\n",
    "  plt.legend([string, 'val_'+string])\n",
    "  plt.show()"
   ],
   "execution_count": 42,
   "outputs": []
  },
  {
   "cell_type": "markdown",
   "metadata": {
    "id": "TT5a5k8acXSe"
   },
   "source": [
    "## BDNN LSTM"
   ]
  },
  {
   "cell_type": "code",
   "metadata": {
    "colab": {
     "base_uri": "https://localhost:8080/"
    },
    "id": "B-hi7rwFOkE6",
    "outputId": "64f8354d-64c0-4c4e-f52a-b43b15ad3d8e"
   },
   "source": [
    "input_st  = Input(shape=(25,100))\n",
    "lstm1 = Bidirectional(LSTM(200,input_shape=(25,100),activation='relu',return_sequences=True),merge_mode='mul')(input_st)\n",
    "lstm2 = Bidirectional(LSTM(1,input_shape=(25,100),activation='relu',return_sequences=True),merge_mode='mul')(lstm1)\n",
    "lstm2 = Activation('sigmoid')(lstm2)\n",
    "\n",
    "dense = Dense(100,activation='relu')(lstm2)\n",
    "output = Dense(1,activation='sigmoid')(dense)\n",
    "\n",
    "model = Model(inputs=input_st, outputs=output)\n",
    "print(model.summary())"
   ],
   "execution_count": 43,
   "outputs": [
    {
     "output_type": "stream",
     "text": [
      "WARNING:tensorflow:Layer lstm_2 will not use cuDNN kernel since it doesn't meet the cuDNN kernel criteria. It will use generic GPU kernel as fallback when running on GPU\n",
      "WARNING:tensorflow:Layer lstm_2 will not use cuDNN kernel since it doesn't meet the cuDNN kernel criteria. It will use generic GPU kernel as fallback when running on GPU\n",
      "WARNING:tensorflow:Layer lstm_2 will not use cuDNN kernel since it doesn't meet the cuDNN kernel criteria. It will use generic GPU kernel as fallback when running on GPU\n",
      "WARNING:tensorflow:Layer lstm_3 will not use cuDNN kernel since it doesn't meet the cuDNN kernel criteria. It will use generic GPU kernel as fallback when running on GPU\n",
      "WARNING:tensorflow:Layer lstm_3 will not use cuDNN kernel since it doesn't meet the cuDNN kernel criteria. It will use generic GPU kernel as fallback when running on GPU\n",
      "WARNING:tensorflow:Layer lstm_3 will not use cuDNN kernel since it doesn't meet the cuDNN kernel criteria. It will use generic GPU kernel as fallback when running on GPU\n",
      "Model: \"model_2\"\n",
      "_________________________________________________________________\n",
      "Layer (type)                 Output Shape              Param #   \n",
      "=================================================================\n",
      "input_3 (InputLayer)         [(None, 25, 100)]         0         \n",
      "_________________________________________________________________\n",
      "bidirectional_4 (Bidirection (None, 25, 200)           481600    \n",
      "_________________________________________________________________\n",
      "bidirectional_5 (Bidirection (None, 25, 1)             1616      \n",
      "_________________________________________________________________\n",
      "activation_1 (Activation)    (None, 25, 1)             0         \n",
      "_________________________________________________________________\n",
      "dense_4 (Dense)              (None, 25, 100)           200       \n",
      "_________________________________________________________________\n",
      "dense_5 (Dense)              (None, 25, 1)             101       \n",
      "=================================================================\n",
      "Total params: 483,517\n",
      "Trainable params: 483,517\n",
      "Non-trainable params: 0\n",
      "_________________________________________________________________\n",
      "None\n"
     ],
     "name": "stdout"
    }
   ]
  },
  {
   "cell_type": "code",
   "metadata": {
    "colab": {
     "base_uri": "https://localhost:8080/"
    },
    "id": "anxCKA-oOkE7",
    "outputId": "0496ff77-2fb6-4a3b-b52a-5f57316b22fa"
   },
   "source": [
    "start_time = time.time()\n",
    "model.compile(optimizer='adam',\n",
    "              loss='binary_crossentropy',\n",
    "              metrics=['accuracy'])\n",
    "hist = model.fit(X_train,y_train,validation_split=0.1,\n",
    "          epochs=10, batch_size=512)\n",
    "print(\"Training time BDRNN LSTM: %s seconds\" % (time.time() - start_time))\n"
   ],
   "execution_count": 44,
   "outputs": [
    {
     "output_type": "stream",
     "text": [
      "Epoch 1/10\n",
      "101/101 [==============================] - 17s 115ms/step - loss: 0.6854 - accuracy: 0.5306 - val_loss: 0.6578 - val_accuracy: 0.6323\n",
      "Epoch 2/10\n",
      "101/101 [==============================] - 11s 109ms/step - loss: 0.6624 - accuracy: 0.6234 - val_loss: 0.6578 - val_accuracy: 0.6323\n",
      "Epoch 3/10\n",
      "101/101 [==============================] - 11s 108ms/step - loss: 0.6621 - accuracy: 0.6241 - val_loss: 0.6577 - val_accuracy: 0.6323\n",
      "Epoch 4/10\n",
      "101/101 [==============================] - 11s 108ms/step - loss: 0.6360 - accuracy: 0.6225 - val_loss: 0.5661 - val_accuracy: 0.6323\n",
      "Epoch 5/10\n",
      "101/101 [==============================] - 11s 109ms/step - loss: 0.5497 - accuracy: 0.6308 - val_loss: 0.4852 - val_accuracy: 0.7904\n",
      "Epoch 6/10\n",
      "101/101 [==============================] - 11s 109ms/step - loss: 0.4687 - accuracy: 0.8059 - val_loss: 0.4164 - val_accuracy: 0.8536\n",
      "Epoch 7/10\n",
      "101/101 [==============================] - 11s 110ms/step - loss: 0.3978 - accuracy: 0.8581 - val_loss: 0.3810 - val_accuracy: 0.8468\n",
      "Epoch 8/10\n",
      "101/101 [==============================] - 11s 108ms/step - loss: 0.3560 - accuracy: 0.8681 - val_loss: 0.3537 - val_accuracy: 0.8599\n",
      "Epoch 9/10\n",
      "101/101 [==============================] - 11s 108ms/step - loss: 0.3320 - accuracy: 0.8756 - val_loss: 0.3326 - val_accuracy: 0.8660\n",
      "Epoch 10/10\n",
      "101/101 [==============================] - 11s 108ms/step - loss: 0.3166 - accuracy: 0.8791 - val_loss: 0.3311 - val_accuracy: 0.8693\n",
      "Training time BDRNN LSTM: 115.97223091125488 seconds\n"
     ],
     "name": "stdout"
    }
   ]
  },
  {
   "cell_type": "code",
   "metadata": {
    "colab": {
     "base_uri": "https://localhost:8080/"
    },
    "id": "_aPewlKaOkE7",
    "outputId": "cc372fce-231a-44f9-f984-66fca303fdf2"
   },
   "source": [
    "y_test = y_test.astype('bool')\n",
    "model.evaluate(X_test, y_test, batch_size=64)"
   ],
   "execution_count": 45,
   "outputs": [
    {
     "output_type": "stream",
     "text": [
      "100/100 [==============================] - 1s 12ms/step - loss: 0.3136 - accuracy: 0.8810\n"
     ],
     "name": "stdout"
    },
    {
     "output_type": "execute_result",
     "data": {
      "text/plain": [
       "[0.3136191964149475, 0.881004273891449]"
      ]
     },
     "metadata": {
      "tags": []
     },
     "execution_count": 45
    }
   ]
  },
  {
   "cell_type": "code",
   "metadata": {
    "colab": {
     "base_uri": "https://localhost:8080/",
     "height": 278
    },
    "id": "ZdrjQcAWdG-A",
    "outputId": "d7815a12-8d4c-4a39-e861-c611424232a8"
   },
   "source": [
    "plot_graphs(hist, \"accuracy\")"
   ],
   "execution_count": 105,
   "outputs": [
    {
     "output_type": "display_data",
     "data": {
      "image/png": "[encoded data removed]",
      "text/plain": [
       "<Figure size 432x288 with 1 Axes>"
      ]
     },
     "metadata": {
      "tags": [],
      "needs_background": "light"
     }
    }
   ]
  },
  {
   "cell_type": "code",
   "metadata": {
    "colab": {
     "base_uri": "https://localhost:8080/",
     "height": 278
    },
    "id": "e7dPV7wOdrGI",
    "outputId": "c40eb363-06a5-4c27-c759-2e2756e62e7a"
   },
   "source": [
    "plot_graphs(hist, \"loss\")"
   ],
   "execution_count": 106,
   "outputs": [
    {
     "output_type": "display_data",
     "data": {
      "image/png": "[encoded data removed]",
      "text/plain": [
       "<Figure size 432x288 with 1 Axes>"
      ]
     },
     "metadata": {
      "tags": [],
      "needs_background": "light"
     }
    }
   ]
  },
  {
   "cell_type": "code",
   "metadata": {
    "colab": {
     "base_uri": "https://localhost:8080/"
    },
    "id": "pDEmSbKnOkE7",
    "outputId": "b136407f-7d11-41b4-aa04-f33f5042d243"
   },
   "source": [
    "model.save(\"/content/drive/MyDrive/DLA/BidirectionalLSTM\")"
   ],
   "execution_count": 46,
   "outputs": [
    {
     "output_type": "stream",
     "text": [
      "INFO:tensorflow:Assets written to: /content/drive/MyDrive/DLA/BidirectionalLSTM/assets\n"
     ],
     "name": "stdout"
    }
   ]
  },
  {
   "cell_type": "code",
   "metadata": {
    "id": "BHF6utuEUL1X"
   },
   "source": [
    "del model"
   ],
   "execution_count": 47,
   "outputs": []
  },
  {
   "cell_type": "markdown",
   "metadata": {
    "id": "AVOOc-cYcaSG"
   },
   "source": [
    "##BDNN GRU"
   ]
  },
  {
   "cell_type": "code",
   "metadata": {
    "colab": {
     "base_uri": "https://localhost:8080/"
    },
    "id": "X_En7xnLUK-G",
    "outputId": "2ecc1d83-f6ba-4dea-8557-84706ca9b461"
   },
   "source": [
    "input_st  = Input(shape=(25,100))\n",
    "lstm1 = Bidirectional(GRU(200,input_shape=(25,100),activation='relu',return_sequences=True),merge_mode='mul')(input_st)\n",
    "lstm2 = Bidirectional(GRU(1,input_shape=(25,100),activation='relu',return_sequences=True),merge_mode='mul')(lstm1)\n",
    "dense = Dense(100,activation='relu')(lstm2)\n",
    "output = Dense(1,activation='sigmoid')(dense)\n",
    "\n",
    "model = Model(inputs=input_st, outputs=output)\n",
    "print(model.summary())"
   ],
   "execution_count": 48,
   "outputs": [
    {
     "output_type": "stream",
     "text": [
      "WARNING:tensorflow:Layer gru_2 will not use cuDNN kernel since it doesn't meet the cuDNN kernel criteria. It will use generic GPU kernel as fallback when running on GPU\n",
      "WARNING:tensorflow:Layer gru_2 will not use cuDNN kernel since it doesn't meet the cuDNN kernel criteria. It will use generic GPU kernel as fallback when running on GPU\n",
      "WARNING:tensorflow:Layer gru_2 will not use cuDNN kernel since it doesn't meet the cuDNN kernel criteria. It will use generic GPU kernel as fallback when running on GPU\n",
      "WARNING:tensorflow:Layer gru_3 will not use cuDNN kernel since it doesn't meet the cuDNN kernel criteria. It will use generic GPU kernel as fallback when running on GPU\n",
      "WARNING:tensorflow:Layer gru_3 will not use cuDNN kernel since it doesn't meet the cuDNN kernel criteria. It will use generic GPU kernel as fallback when running on GPU\n",
      "WARNING:tensorflow:Layer gru_3 will not use cuDNN kernel since it doesn't meet the cuDNN kernel criteria. It will use generic GPU kernel as fallback when running on GPU\n",
      "Model: \"model_3\"\n",
      "_________________________________________________________________\n",
      "Layer (type)                 Output Shape              Param #   \n",
      "=================================================================\n",
      "input_4 (InputLayer)         [(None, 25, 100)]         0         \n",
      "_________________________________________________________________\n",
      "bidirectional_6 (Bidirection (None, 25, 200)           362400    \n",
      "_________________________________________________________________\n",
      "bidirectional_7 (Bidirection (None, 25, 1)             1218      \n",
      "_________________________________________________________________\n",
      "dense_6 (Dense)              (None, 25, 100)           200       \n",
      "_________________________________________________________________\n",
      "dense_7 (Dense)              (None, 25, 1)             101       \n",
      "=================================================================\n",
      "Total params: 363,919\n",
      "Trainable params: 363,919\n",
      "Non-trainable params: 0\n",
      "_________________________________________________________________\n",
      "None\n"
     ],
     "name": "stdout"
    }
   ]
  },
  {
   "cell_type": "code",
   "metadata": {
    "colab": {
     "base_uri": "https://localhost:8080/"
    },
    "id": "xja1b7udUTYL",
    "outputId": "3fc8459b-3f59-4977-d5ec-d5603c38c1de"
   },
   "source": [
    "start_time = time.time()\n",
    "model.compile(optimizer='adam',\n",
    "              loss='binary_crossentropy',\n",
    "              metrics=['accuracy'])\n",
    "hist = model.fit(X_train,y_train,validation_split=0.1,\n",
    "          epochs=10, batch_size=512)\n",
    "print(\"Training time BDRNN GRU: %s seconds\" % (time.time() - start_time))\n"
   ],
   "execution_count": 49,
   "outputs": [
    {
     "output_type": "stream",
     "text": [
      "Epoch 1/10\n",
      "101/101 [==============================] - 18s 145ms/step - loss: 0.5918 - accuracy: 0.6318 - val_loss: 0.4254 - val_accuracy: 0.8554\n",
      "Epoch 2/10\n",
      "101/101 [==============================] - 14s 138ms/step - loss: 0.4199 - accuracy: 0.8609 - val_loss: 0.4015 - val_accuracy: 0.8657\n",
      "Epoch 3/10\n",
      "101/101 [==============================] - 14s 138ms/step - loss: 0.3926 - accuracy: 0.8739 - val_loss: 0.3834 - val_accuracy: 0.8726\n",
      "Epoch 4/10\n",
      "101/101 [==============================] - 14s 138ms/step - loss: 0.3807 - accuracy: 0.8779 - val_loss: 0.3734 - val_accuracy: 0.8754\n",
      "Epoch 5/10\n",
      "101/101 [==============================] - 14s 139ms/step - loss: 0.3589 - accuracy: 0.8859 - val_loss: 0.3760 - val_accuracy: 0.8711\n",
      "Epoch 6/10\n",
      "101/101 [==============================] - 14s 137ms/step - loss: 0.3506 - accuracy: 0.8856 - val_loss: 0.3541 - val_accuracy: 0.8732\n",
      "Epoch 7/10\n",
      "101/101 [==============================] - 14s 138ms/step - loss: 0.3305 - accuracy: 0.8942 - val_loss: 0.3489 - val_accuracy: 0.8763\n",
      "Epoch 8/10\n",
      "101/101 [==============================] - 14s 139ms/step - loss: 0.3221 - accuracy: 0.8932 - val_loss: 0.3423 - val_accuracy: 0.8780\n",
      "Epoch 9/10\n",
      "101/101 [==============================] - 14s 138ms/step - loss: 0.3083 - accuracy: 0.8984 - val_loss: 0.3385 - val_accuracy: 0.8740\n",
      "Epoch 10/10\n",
      "101/101 [==============================] - 14s 139ms/step - loss: 0.2981 - accuracy: 0.9011 - val_loss: 0.3293 - val_accuracy: 0.8827\n",
      "Training time BDRNN GRU: 144.14108610153198 seconds\n"
     ],
     "name": "stdout"
    }
   ]
  },
  {
   "cell_type": "code",
   "metadata": {
    "colab": {
     "base_uri": "https://localhost:8080/"
    },
    "id": "AXBk9Ub0UV-N",
    "outputId": "b14c5752-b6ae-4d85-9a52-802acc0d9eb8"
   },
   "source": [
    "model.evaluate(X_test, y_test, batch_size=64)"
   ],
   "execution_count": 50,
   "outputs": [
    {
     "output_type": "stream",
     "text": [
      "100/100 [==============================] - 2s 15ms/step - loss: 0.3148 - accuracy: 0.8954\n"
     ],
     "name": "stdout"
    },
    {
     "output_type": "execute_result",
     "data": {
      "text/plain": [
       "[0.3148319721221924, 0.8953734636306763]"
      ]
     },
     "metadata": {
      "tags": []
     },
     "execution_count": 50
    }
   ]
  },
  {
   "cell_type": "code",
   "metadata": {
    "colab": {
     "base_uri": "https://localhost:8080/",
     "height": 278
    },
    "id": "16vFK_10eXJn",
    "outputId": "427838a9-cbaf-4e2e-b997-4e088dfeb43d"
   },
   "source": [
    "plot_graphs(hist, \"accuracy\")"
   ],
   "execution_count": 121,
   "outputs": [
    {
     "output_type": "display_data",
     "data": {
      "image/png": "[encoded data removed]",
      "text/plain": [
       "<Figure size 432x288 with 1 Axes>"
      ]
     },
     "metadata": {
      "tags": [],
      "needs_background": "light"
     }
    }
   ]
  },
  {
   "cell_type": "code",
   "metadata": {
    "colab": {
     "base_uri": "https://localhost:8080/",
     "height": 278
    },
    "id": "ZKbUlb-GeX4u",
    "outputId": "079d246c-b08f-46de-9080-636b5dc90f76"
   },
   "source": [
    "plot_graphs(hist, \"loss\")"
   ],
   "execution_count": 122,
   "outputs": [
    {
     "output_type": "display_data",
     "data": {
      "image/png": "[encoded data removed]",
      "text/plain": [
       "<Figure size 432x288 with 1 Axes>"
      ]
     },
     "metadata": {
      "tags": [],
      "needs_background": "light"
     }
    }
   ]
  },
  {
   "cell_type": "code",
   "metadata": {
    "colab": {
     "base_uri": "https://localhost:8080/"
    },
    "id": "c3w6eHV1UX6b",
    "outputId": "0075d2d0-2ce4-4305-ad86-d35c8ebdf042"
   },
   "source": [
    "model.save(\"/content/drive/MyDrive/DLA/BidirectionalGRU\")"
   ],
   "execution_count": 51,
   "outputs": [
    {
     "output_type": "stream",
     "text": [
      "INFO:tensorflow:Assets written to: /content/drive/MyDrive/DLA/BidirectionalGRU/assets\n"
     ],
     "name": "stdout"
    }
   ]
  },
  {
   "cell_type": "code",
   "metadata": {
    "id": "WVoNqaRm73-j"
   },
   "source": [
    "del model"
   ],
   "execution_count": null,
   "outputs": []
  }
 ]
}